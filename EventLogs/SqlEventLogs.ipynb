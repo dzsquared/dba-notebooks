{
    "metadata": {
        "kernelspec": {
            "name": "powershell",
            "display_name": "PowerShell"
        },
        "language_info": {
            "name": "powershell",
            "codemirror_mode": "shell",
            "mimetype": "text/x-sh",
            "file_extension": ".ps1"
        }
    },
    "nbformat_minor": 2,
    "nbformat": 4,
    "cells": [
        {
            "cell_type": "markdown",
            "source": [
                "# SQL Server Event Logs with dbatools and PowerShell"
            ],
            "metadata": {
                "azdata_cell_guid": "38285521-4f0f-41d8-95e0-73a8019e0fb2"
            }
        },
        {
            "cell_type": "code",
            "source": [
                "Import-Module dbatools\r\n",
                "$sqlinstance = \"localhost\""
            ],
            "metadata": {
                "azdata_cell_guid": "f1821fe2-6d32-4a5b-9312-3faff5cb83db"
            },
            "outputs": [
                {
                    "name": "stdout",
                    "text": "",
                    "output_type": "stream"
                }
            ],
            "execution_count": 1
        },
        {
            "cell_type": "markdown",
            "source": [
                "## Accessing the Server's SQL Server Log via PowerShell"
            ],
            "metadata": {
                "azdata_cell_guid": "cc995f54-a69b-494d-9f1d-5236d940c5fb"
            }
        },
        {
            "cell_type": "code",
            "source": [
                "$StartTime = (Get-Date).AddHours(-1)\r\n",
                "Get-DbaErrorLog -SqlInstance $sqlinstance -LogNumber 0 -After $StartTime"
            ],
            "metadata": {
                "azdata_cell_guid": "339247c6-9777-4b62-b634-865e42fd971c"
            },
            "outputs": [
                {
                    "name": "stdout",
                    "text": "\n\nComputerName : WINDEV2008EVAL\nInstanceName : MSSQLSERVER\nSqlInstance  : WINDEV2008EVAL\nLogDate      : 10/12/2020 5:40:24 PM\nSource       : spid83\nText         : Configuration option 'show advanced options' changed from 0 to 1. Run the RECONFIGURE statement to \n               install.\n\nComputerName : WINDEV2008EVAL\nInstanceName : MSSQLSERVER\nSqlInstance  : WINDEV2008EVAL\nLogDa",
                    "output_type": "stream"
                },
                {
                    "name": "stdout",
                    "text": "te      : 10/12/2020 5:40:24 PM\nSource       : spid83\nText         : Configuration option 'Agent XPs' changed from 0 to 1. Run the RECONFIGURE statement to install.\n\nComputerName : WINDEV2008EVAL\nInstanceName : MSSQLSERVER\nSqlInstance  : WINDEV2008EVAL\nLogDate      : 10/12/2020 5:40:24 PM\nSource       : spid83\nText         : Configuration option 'show advanced options' changed from 1 to 0. Run the RECONFIGURE statement to \n               install.\n\nComputerName : WINDEV2008EVAL\nInstanceName : MSSQLSERVER\nSqlInstance  : WINDEV2008EVAL\nLogDate      : 10/12/2020 5:44:28 PM\nSource       : Backup\nText         : Database backed up. Database: AW1, creation date(time): 2020/10/12(12:30:16), pages dumped: 26635, \n               first LSN: 40:3380:1, last LSN: 40:3383:1, number of dump devices: 1, device information",
                    "output_type": "stream"
                },
                {
                    "name": "stdout",
                    "text": ": (FILE=1, \n               TYPE=DISK: {'C:\\Program Files\\Microsoft SQL Server\\MSSQL15.MSSQLSERVER\\MSSQL\\Backup\\AW1.bak'}). This is \n               an informational message only. N",
                    "output_type": "stream"
                },
                {
                    "name": "stdout",
                    "text": "o user action is required.\n\nComputerName : WINDEV2008EVAL\nInstanceName : MSSQLSERVER\nSqlInstance  : WINDEV2008EVAL\nLogDate      : 10/12/2020 5:44:28 PM\nSource       : Backup\nText         : BACKUP DATABASE successfully processed 26473 pages in 0.504 seconds (410.345 MB/sec).\n\nComputerName : WINDEV2008EVAL\nInstanceName : MSSQLSERVER\nSql",
                    "output_type": "stream"
                },
                {
                    "name": "stdout",
                    "text": "Instance  : WINDEV2008EVAL\nLogDate      : 10/12/2020 5:44:37 PM\nSource       : Backup\nText         : Database backed up. Database: AW2, creation date(time): 2020/10/12(12:30:56), pages dumped: 26635, \n               first LSN: 39:26569:1, last LSN: 39:26572:1, number of dump devices: 1, device information: (FILE=1, \n               TYPE=DISK: {'C:\\Program Files\\Microsoft SQL Server\\MSSQL15.MSSQLSERVER\\MSSQL\\Back",
                    "output_type": "stream"
                },
                {
                    "name": "stdout",
                    "text": "up\\AW2.bak'}). This is \n               an informational message only. No user action is required.\n\nComputerName : WINDEV2008EVAL\nInstanceName : MSSQLSERVER\nSqlInstance  : WINDEV2008EVAL\nLogDate      : 10/12/2020 5:44:37 PM\nSource       : Backup\nText         : BACKUP DATABASE successfully processed 26449 pages in 0.453 seconds (456.129 MB/sec).\n\nComputerName : WINDEV2008EVAL\nInstanceName : MSSQLSERVER\nSqlInstance  : WINDEV2008EVAL\nLogDate      : 10/12/2020 5:56:49 PM\nSource       : spid76\nText         : Starting up database 'AW1_temp'.\n\nComputerName : WINDEV2008EVAL\nInstanceName : MSSQLSERVER\nSqlInstance  : WINDEV2008",
                    "output_type": "stream"
                },
                {
                    "name": "stdout",
                    "text": "EVAL\nLogDate      : 10/12/2020 5:56:49 PM\nSource       : spid76\nText         : The database 'AW1_temp' is marked RESTORING and is in a state that does not allow recovery to be run.\n\nComputerName : WINDEV2008EVAL\nInstanceName : MSSQLSERVER\nSqlInstance  : WINDEV2008EVAL\nLogDate      : 10/12/2020 5:56:49 PM\nSource       : spid76\nText         : Starting up database 'AW1_temp'.\n\nComputerName :",
                    "output_type": "stream"
                },
                {
                    "name": "stdout",
                    "text": " WINDEV2008EVAL\nInstanceName : MSSQLSERVER\nSqlInstance  : WINDEV2008EVAL\nLogDate      : 10/12/2020 5:56:50 PM\nSource       : spid76\nText         : Parallel redo is started for database 'AW1_temp' with worker pool size [2].\n\nComputerName : WINDEV2008EVAL\nInstanceName : MSSQLSERVER\nSqlInstance  : WINDEV2008EVAL\nLogDate      : 10/12/2020 5:56:50 PM\nSource     ",
                    "output_type": "stream"
                },
                {
                    "name": "stdout",
                    "text": "  : spid76\nText         : Parallel redo is shutdown for database 'AW1_temp' with worker pool size [2].\n\nComputerName : WINDEV2008EVAL\nInstanceName : MSSQLSERVER\nSqlInstance  : WINDEV2008EVAL\nLogDate      : 10/12/2020 5:56:50 PM\nSource       : Backup\nText         : Restore is complete on database 'AW1_temp'.  The database is now available.\n\nComputerName : WINDEV2008EVAL\nInstanceName : MSSQLSERVER\nSqlInstance  : WINDEV2008EVAL\nLogDate      : 10/12/2020 5:56:50 PM\nSource       : Backup\nText         : Database was restored: Database: AW1",
                    "output_type": "stream"
                },
                {
                    "name": "stdout",
                    "text": "_temp, creation date(time): 2020/10/12(12:30:16), first LSN: \n               40:3380:1, last LSN: 40:3383:1, number of dump devices: 1, device information: (FILE=1, TYPE=DISK: \n               {'C:\\Program Files\\Microsoft SQL Server\\MSSQL15.MSSQLSERVER\\MSSQL\\Backup\\AW1.bak'}). Infor",
                    "output_type": "stream"
                },
                {
                    "name": "stdout",
                    "text": "mational \n               message. No user action required.\n\nComputerName : WINDEV2008EVAL\nInstanceName : MSSQLSERVER\nSqlInstance  : WINDEV2008EVAL\nLogDate      : 10/12/2020 5:56:50 PM\nSource       : Backup\nText         : RESTORE DATABASE successfully processed 26473 pages in 2.925 seconds (70.705 MB/sec).\n               \n\n\n\n. {\n>> $StartTime = (Get-Date).AddHours(-1)\n>> Get-DbaErrorLog -SqlInstance localhost -LogNumber 0 -After $StartTime\n>> }\n>> \n\n\nComputerName : WINDEV2008EVAL\nInstanceName : MSSQLSERVER\nSqlInstance  : WINDEV2008EVAL\nLogDate     ",
                    "output_type": "stream"
                }
            ],
            "execution_count": 3
        },
        {
            "cell_type": "markdown",
            "source": [
                "###  Identifying Login Failures"
            ],
            "metadata": {
                "azdata_cell_guid": "ded06831-7864-44bc-916f-cea2b3a1fb76"
            }
        },
        {
            "cell_type": "code",
            "source": [
                "Get-DbaErrorLog -SqlInstance $sqlinstance -LogNumber 0 -Text \"login failed\""
            ],
            "metadata": {
                "azdata_cell_guid": "cfcb7006-c69d-49aa-b0f7-905439c1340a"
            },
            "outputs": [
                {
                    "output_type": "stream",
                    "name": "stdout",
                    "text": "\n\nComputerName : WINDEV2008EVAL\nInstanceName : MSSQLSERVER\nSqlInstance  : WINDEV2008EVAL\nLogDate      : 10/12/2020 12:20:56 PM\nSource       : Logon\nText         : Login failed for user 'sa'. Reason: An attempt to login using SQL authentication failed. Server is \n               configured for Integrated authentication only. [CLIENT: <local machine>]\n\n\n\n"
                }
            ],
            "execution_count": 5
        }
    ]
}