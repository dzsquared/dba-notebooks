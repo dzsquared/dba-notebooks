{
    "metadata": {
        "kernelspec": {
            "name": "powershell",
            "display_name": "PowerShell"
        },
        "language_info": {
            "name": "powershell",
            "codemirror_mode": "shell",
            "mimetype": "text/x-sh",
            "file_extension": ".ps1"
        }
    },
    "nbformat_minor": 2,
    "nbformat": 4,
    "cells": [
        {
            "cell_type": "markdown",
            "source": [
                "#  Server Event Logs with Get-WinEvent"
            ],
            "metadata": {
                "azdata_cell_guid": "2cdb8fd8-1946-45a8-a9fa-f7e1d9ee7d5a"
            }
        },
        {
            "cell_type": "markdown",
            "source": [
                "## Critical Application Events"
            ],
            "metadata": {
                "azdata_cell_guid": "6eb7a383-4e54-40b9-9a8e-1913fa5f48b6"
            }
        },
        {
            "cell_type": "code",
            "source": [
                "$StartTime = (Get-Date).AddDays(-1)\r\n",
                "Get-WinEvent -FilterHashtable @{\r\n",
                "    Logname='Application'          \r\n",
                "    StartTime=$StartTime   \r\n",
                "    Level=1\r\n",
                "}                                                                                                                                                                            "
            ],
            "metadata": {
                "azdata_cell_guid": "c795c487-4340-4e05-831b-d866150fc5b3",
                "tags": []
            },
            "outputs": [
                {
                    "output_type": "stream",
                    "name": "stdout",
                    "text": "Get-WinEvent : No events were found that match the specified selection criteria.\nAt line:3 char:1\n+ Get-WinEvent -FilterHashtable @{\n+ ~~~~~~~~~~~~~~~~~~~~~~~~~~~~~~~~\n    + CategoryInfo          : ObjectNotFound: (:) [Get-WinEvent], Exception\n    + FullyQualifiedErrorId : NoMatchingEventsFound,Microsoft.PowerShell.Commands.GetWinEventCommand\n \n. {\n>> $StartTime = (Get-Date).AddDays(-1)\n>> Get-WinEvent -F"
                }
            ],
            "execution_count": 2
        },
        {
            "cell_type": "markdown",
            "source": [
                "##  Error System Events"
            ],
            "metadata": {
                "azdata_cell_guid": "d147c109-8cca-42c9-86bf-b92ae85b239e"
            }
        },
        {
            "cell_type": "code",
            "source": [
                "$StartTime = (Get-Date).AddDays(-1)\r\n",
                "Get-WinEvent -FilterHashtable @{\r\n",
                "    Logname='System'          \r\n",
                "    StartTime=$StartTime   \r\n",
                "    Level=2\r\n",
                "}  "
            ],
            "metadata": {
                "azdata_cell_guid": "a18a9ba9-6d59-4141-89b2-ab0d12fdd210"
            },
            "outputs": [
                {
                    "output_type": "stream",
                    "name": "stdout",
                    "text": "\n\n   ProviderName: Service Control Manager\n\nTimeCreated                      Id LevelDisplayName Me"
                },
                {
                    "output_type": "stream",
                    "name": "stdout",
                    "text": "ssage                                                           \n-----------                      -- ---------------- -------                                                           \n10/12/2020 11:29:49 AM         7043 Error            The Update Orchestrator Service service did not shut down prope...\n\n\n   ProviderName: Schannel\n\nTimeCreated                      Id LevelDisplayName Message                                                           \n-----------                      -- ---------------- -------                             "
                },
                {
                    "output_type": "stream",
                    "name": "stdout",
                    "text": "                              \n10/12/2020 11:26:21 AM        36871 Error            A fatal error occurred while creating a TLS client credential. ...\n\n\n   ProviderName: Microsoft-Windows-WindowsUpdateClient\n\nTimeCreated                      Id LevelDisplayName Message                                                           \n-----------                      -- ---------------- -------                                                           \n10/12/2020 11:08:59 AM           20 Error            Installation Failure: Windows failed to install the following u...\n10/12/2020 11:04:22 AM           20 Error            Installation Failure: Windows failed to install the following u...\n\n\n   ProviderName: Service Control Manager\n\nTimeCreated                      Id LevelDisplayName Message                                                           \n-----------                      -- ---------------- -------                                                           \n10/12/2020 11:02:27 AM         7031 Error            The Connected User Experiences and Telemetry service terminated...\n\n\n   ProviderName: volmgr\n\nTimeCreated                      Id LevelDisplayName Message                                                           \n-----------                      -- ---------------- -------                                                           \n10/12/2020 11:02:17 AM           46 Error            Crash dump initialization failed!                                 \n\n\n"
                }
            ],
            "execution_count": 4
        }
    ]
}