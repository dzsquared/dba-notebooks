{
    "metadata": {
        "kernelspec": {
            "name": "SQL",
            "display_name": "SQL",
            "language": "sql"
        },
        "language_info": {
            "name": "sql",
            "version": ""
        }
    },
    "nbformat_minor": 2,
    "nbformat": 4,
    "cells": [
        {
            "cell_type": "markdown",
            "source": [
                "## Generate an Insert Statement for a Table"
            ],
            "metadata": {
                "azdata_cell_guid": "f16fc1d1-4799-4223-9c17-71b57027c8c9"
            }
        },
        {
            "cell_type": "code",
            "source": [
                "-- https://www.sqlindia.com/generate-insert-statements-from-table-sql-server/\r\n",
                "\r\n",
                "SET NOCOUNT ON\r\n",
                "GO\r\n",
                "\r\n",
                "PRINT 'Using Master database'\r\n",
                "USE master\r\n",
                "GO\r\n",
                "\r\n",
                "PRINT 'Checking for the existence of this procedure'\r\n",
                "IF (SELECT OBJECT_ID('sp_generate_inserts','P')) IS NOT NULL --means, the procedure already exists\r\n",
                "\tBEGIN\r\n",
                "\t\tPRINT 'Procedure already exists. So, dropping it'\r\n",
                "\t\tDROP PROC sp_generate_inserts\r\n",
                "\tEND\r\n",
                "GO\r\n",
                "\r\n",
                "CREATE PROC sp_generate_inserts\r\n",
                "(\r\n",
                "\t@table_name varchar(776),  \t\t-- The table/view for which the INSERT statements will be generated using the existing data\r\n",
                "\t@target_table varchar(776) = NULL, \t-- Use this parameter to specify a different table name into which the data will be inserted\r\n",
                "\t@include_column_list bit = 1,\t\t-- Use this parameter to include/ommit column list in the generated INSERT statement\r\n",
                "\t@from varchar(800) = NULL, \t\t-- Use this parameter to filter the rows based on a filter condition (using WHERE)\r\n",
                "\t@include_timestamp bit = 0, \t\t-- Specify 1 for this parameter, if you want to include the TIMESTAMP/ROWVERSION column's data in the INSERT statement\r\n",
                "\t@debug_mode bit = 0,\t\t\t-- If @debug_mode is set to 1, the SQL statements constructed by this procedure will be printed for later examination\r\n",
                "\t@owner varchar(64) = NULL,\t\t-- Use this parameter if you are not the owner of the table\r\n",
                "\t@ommit_images bit = 0,\t\t\t-- Use this parameter to generate INSERT statements by omitting the 'image' columns\r\n",
                "\t@ommit_identity bit = 0,\t\t-- Use this parameter to ommit the identity columns\r\n",
                "\t@top int = NULL,\t\t\t-- Use this parameter to generate INSERT statements only for the TOP n rows\r\n",
                "\t@cols_to_include varchar(8000) = NULL,\t-- List of columns to be included in the INSERT statement\r\n",
                "\t@cols_to_exclude varchar(8000) = NULL,\t-- List of columns to be excluded from the INSERT statement\r\n",
                "\t@disable_constraints bit = 0,\t\t-- When 1, disables foreign key constraints and enables them after the INSERT statements\r\n",
                "\t@ommit_computed_cols bit = 0\t\t-- When 1, computed columns will not be included in the INSERT statement\r\n",
                "\r\n",
                ")\r\n",
                "AS\r\n",
                "BEGIN\r\n",
                "\r\n",
                "/*******************************\r\n",
                "Procedure:\tsp_generate_inserts  (Build 22)\r\n",
                "\t\t(Copyright © 2002 Narayana Vyas Kondreddi. All rights reserved.)\r\n",
                "\r\n",
                "Purpose:\tTo generate INSERT statements from existing data.\r\n",
                "\t\tThese INSERTS can be executed to regenerate the data at some other location.\r\n",
                "\t\tThis procedure is also useful to create a database setup, where in you can\r\n",
                "\t\tscript your data along with your table definitions.\r\n",
                "\r\n",
                "Written by:\tNarayana Vyas Kondreddi</pre>\r\n",
                "http://vyaskn.tripod.com\r\n",
                "<pre>\r\n",
                "Acknowledgements:\r\n",
                "\t\tDivya Kalra\t-- For beta testing\r\n",
                "\t\tMark Charsley\t-- For reporting a problem with scripting uniqueidentifier columns with NULL values\r\n",
                "\t\tArtur Zeygman\t-- For helping me simplify a bit of code for handling non-dbo owned tables\r\n",
                "\t\tJoris Laperre   -- For reporting a regression bug in handling text/ntext columns\r\n",
                "\t\tD Prasad Sahoo https://www.sqlindia.com -- Modified the insert method. Handled datetime conversion into varchar\r\n",
                "\r\n",
                "Tested on: \tSQL Server 7.0 and SQL Server 2000\r\n",
                "\r\n",
                "Date created:\tJanuary 17th 2001 21:52 GMT\r\n",
                "\r\n",
                "Date modified:\tMay 1st 2002 19:50 GMT\r\n",
                "\r\n",
                "Email: \t\tvyaskn@hotmail.com\r\n",
                "\r\n",
                "NOTE:\t\tThis procedure may not work with tables with too many columns.\r\n",
                "\t\tResults can be unpredictable with huge text columns or SQL Server 2000's sql_variant data types\r\n",
                "\t\tWhenever possible, Use @include_column_list parameter to ommit column list in the INSERT statement, for better results\r\n",
                "\t\tIMPORTANT: This procedure is not tested with internation data (Extended characters or Unicode). If needed\r\n",
                "\t\tyou might want to convert the datatypes of character variables in this procedure to their respective unicode counterparts\r\n",
                "\t\tlike nchar and nvarchar\r\n",
                "\r\n",
                "Example 1:\tTo generate INSERT statements for table 'titles':\r\n",
                "\r\n",
                "\t\tEXEC sp_generate_inserts 'titles'\r\n",
                "\r\n",
                "Example 2: \tTo ommit the column list in the INSERT statement: (Column list is included by default)\r\n",
                "\t\tIMPORTANT: If you have too many columns, you are advised to ommit column list, as shown below,\r\n",
                "\t\tto avoid erroneous results\r\n",
                "\r\n",
                "\t\tEXEC sp_generate_inserts 'titles', @include_column_list = 0\r\n",
                "\r\n",
                "Example 3:\tTo generate INSERT statements for 'titlesCopy' table from 'titles' table:\r\n",
                "\r\n",
                "\t\tEXEC sp_generate_inserts 'titles', 'titlesCopy'\r\n",
                "\r\n",
                "Example 4:\tTo generate INSERT statements for 'titles' table for only those titles\r\n",
                "\t\twhich contain the word 'Computer' in them:\r\n",
                "\t\tNOTE: Do not complicate the FROM or WHERE clause here. It's assumed that you are good with T-SQL if you are using this parameter\r\n",
                "\r\n",
                "\t\tEXEC sp_generate_inserts 'titles', @from = \"from titles where title like '%Computer%'\"\r\n",
                "\r\n",
                "Example 5: \tTo specify that you want to include TIMESTAMP column's data as well in the INSERT statement:\r\n",
                "\t\t(By default TIMESTAMP column's data is not scripted)\r\n",
                "\r\n",
                "\t\tEXEC sp_generate_inserts 'titles', @include_timestamp = 1\r\n",
                "\r\n",
                "Example 6:\tTo print the debug information:\r\n",
                "\r\n",
                "\t\tEXEC sp_generate_inserts 'titles', @debug_mode = 1\r\n",
                "\r\n",
                "Example 7: \tIf you are not the owner of the table, use @owner parameter to specify the owner name\r\n",
                "\t\tTo use this option, you must have SELECT permissions on that table\r\n",
                "\r\n",
                "\t\tEXEC sp_generate_inserts Nickstable, @owner = 'Nick'\r\n",
                "\r\n",
                "Example 8: \tTo generate INSERT statements for the rest of the columns excluding images\r\n",
                "\t\tWhen using this otion, DO NOT set @include_column_list parameter to 0.\r\n",
                "\r\n",
                "\t\tEXEC sp_generate_inserts imgtable, @ommit_images = 1\r\n",
                "\r\n",
                "Example 9: \tTo generate INSERT statements excluding (ommiting) IDENTITY columns:\r\n",
                "\t\t(By default IDENTITY columns are included in the INSERT statement)\r\n",
                "\r\n",
                "\t\tEXEC sp_generate_inserts mytable, @ommit_identity = 1\r\n",
                "\r\n",
                "Example 10: \tTo generate INSERT statements for the TOP 10 rows in the table:\r\n",
                "\r\n",
                "\t\tEXEC sp_generate_inserts mytable, @top = 10\r\n",
                "\r\n",
                "Example 11: \tTo generate INSERT statements with only those columns you want:\r\n",
                "\r\n",
                "\t\tEXEC sp_generate_inserts titles, @cols_to_include = \"'title','title_id','au_id'\"\r\n",
                "\r\n",
                "Example 12: \tTo generate INSERT statements by omitting certain columns:\r\n",
                "\r\n",
                "\t\tEXEC sp_generate_inserts titles, @cols_to_exclude = \"'title','title_id','au_id'\"\r\n",
                "\r\n",
                "Example 13:\tTo avoid checking the foreign key constraints while loading data with INSERT statements:\r\n",
                "\r\n",
                "\t\tEXEC sp_generate_inserts titles, @disable_constraints = 1\r\n",
                "\r\n",
                "Example 14: \tTo exclude computed columns from the INSERT statement:\r\n",
                "\t\tEXEC sp_generate_inserts MyTable, @ommit_computed_cols = 1\r\n",
                "****************************/\r\n",
                "\r\n",
                "SET NOCOUNT ON\r\n",
                "\r\n",
                "--Making sure user only uses either @cols_to_include or @cols_to_exclude\r\n",
                "IF ((@cols_to_include IS NOT NULL) AND (@cols_to_exclude IS NOT NULL))\r\n",
                "\tBEGIN\r\n",
                "\t\tRAISERROR('Use either @cols_to_include or @cols_to_exclude. Do not use both the parameters at once',16,1)\r\n",
                "\t\tRETURN -1 --Failure. Reason: Both @cols_to_include and @cols_to_exclude parameters are specified\r\n",
                "\tEND\r\n",
                "\r\n",
                "--Making sure the @cols_to_include and @cols_to_exclude parameters are receiving values in proper format\r\n",
                "IF ((@cols_to_include IS NOT NULL) AND (PATINDEX('''%''',@cols_to_include) = 0))\r\n",
                "\tBEGIN\r\n",
                "\t\tRAISERROR('Invalid use of @cols_to_include property',16,1)\r\n",
                "\t\tPRINT 'Specify column names surrounded by single quotes and separated by commas'\r\n",
                "\t\tPRINT 'Eg: EXEC sp_generate_inserts titles, @cols_to_include = \"''title_id'',''title''\"'\r\n",
                "\t\tRETURN -1 --Failure. Reason: Invalid use of @cols_to_include property\r\n",
                "\tEND\r\n",
                "\r\n",
                "IF ((@cols_to_exclude IS NOT NULL) AND (PATINDEX('''%''',@cols_to_exclude) = 0))\r\n",
                "\tBEGIN\r\n",
                "\t\tRAISERROR('Invalid use of @cols_to_exclude property',16,1)\r\n",
                "\t\tPRINT 'Specify column names surrounded by single quotes and separated by commas'\r\n",
                "\t\tPRINT 'Eg: EXEC sp_generate_inserts titles, @cols_to_exclude = \"''title_id'',''title''\"'\r\n",
                "\t\tRETURN -1 --Failure. Reason: Invalid use of @cols_to_exclude property\r\n",
                "\tEND\r\n",
                "\r\n",
                "--Checking to see if the database name is specified along wih the table name\r\n",
                "--Your database context should be local to the table for which you want to generate INSERT statements\r\n",
                "--specifying the database name is not allowed\r\n",
                "IF (PARSENAME(@table_name,3)) IS NOT NULL\r\n",
                "\tBEGIN\r\n",
                "\t\tRAISERROR('Do not specify the database name. Be in the required database and just specify the table name.',16,1)\r\n",
                "\t\tRETURN -1 --Failure. Reason: Database name is specified along with the table name, which is not allowed\r\n",
                "\tEND\r\n",
                "\r\n",
                "--Checking for the existence of 'user table' or 'view'\r\n",
                "--This procedure is not written to work on system tables\r\n",
                "--To script the data in system tables, just create a view on the system tables and script the view instead\r\n",
                "\r\n",
                "IF @owner IS NULL\r\n",
                "\tBEGIN\r\n",
                "\t\tIF ((OBJECT_ID(@table_name,'U') IS NULL) AND (OBJECT_ID(@table_name,'V') IS NULL))\r\n",
                "\t\t\tBEGIN\r\n",
                "\t\t\t\tRAISERROR('User table or view not found.',16,1)\r\n",
                "\t\t\t\tPRINT 'You may see this error, if you are not the owner of this table or view. In that case use @owner parameter to specify the owner name.'\r\n",
                "\t\t\t\tPRINT 'Make sure you have SELECT permission on that table or view.'\r\n",
                "\t\t\t\tRETURN -1 --Failure. Reason: There is no user table or view with this name\r\n",
                "\t\t\tEND\r\n",
                "\tEND\r\n",
                "ELSE\r\n",
                "\tBEGIN\r\n",
                "\t\tIF NOT EXISTS (SELECT 1 FROM INFORMATION_SCHEMA.TABLES WHERE TABLE_NAME = @table_name AND (TABLE_TYPE = 'BASE TABLE' OR TABLE_TYPE = 'VIEW') AND TABLE_SCHEMA = @owner)\r\n",
                "\t\t\tBEGIN\r\n",
                "\t\t\t\tRAISERROR('User table or view not found.',16,1)\r\n",
                "\t\t\t\tPRINT 'You may see this error, if you are not the owner of this table. In that case use @owner parameter to specify the owner name.'\r\n",
                "\t\t\t\tPRINT 'Make sure you have SELECT permission on that table or view.'\r\n",
                "\t\t\t\tRETURN -1 --Failure. Reason: There is no user table or view with this name\r\n",
                "\t\t\tEND\r\n",
                "\tEND\r\n",
                "\r\n",
                "--Variable declarations\r\n",
                "DECLARE\t\t@Column_ID int,\r\n",
                "\t\t@Column_List varchar(8000),\r\n",
                "\t\t@Column_Name varchar(128),\r\n",
                "\t\t@Start_Insert varchar(786),\r\n",
                "\t\t@Data_Type varchar(128),\r\n",
                "\t\t@Actual_Values varchar(8000),\t--This is the string that will be finally executed to generate INSERT statements\r\n",
                "\t\t@IDN varchar(128)\t\t--Will contain the IDENTITY column's name in the table\r\n",
                "\r\n",
                "--Variable Initialization\r\n",
                "SET @IDN = ''\r\n",
                "SET @Column_ID = 0\r\n",
                "SET @Column_Name = ''\r\n",
                "SET @Column_List = ''\r\n",
                "SET @Actual_Values = ''\r\n",
                "\r\n",
                "IF @owner IS NULL\r\n",
                "\tBEGIN\r\n",
                "\t\tSET @Start_Insert = 'INSERT INTO ' + '[' + RTRIM(COALESCE(@target_table,@table_name)) + ']'\r\n",
                "\tEND\r\n",
                "ELSE\r\n",
                "\tBEGIN\r\n",
                "\t\tSET @Start_Insert = 'INSERT ' + '[' + LTRIM(RTRIM(@owner)) + '].' + '[' + RTRIM(COALESCE(@target_table,@table_name)) + ']'\r\n",
                "\tEND\r\n",
                "\r\n",
                "--To get the first column's ID\r\n",
                "\r\n",
                "SELECT\t@Column_ID = MIN(ORDINAL_POSITION)\r\n",
                "FROM\tINFORMATION_SCHEMA.COLUMNS (NOLOCK)\r\n",
                "WHERE \tTABLE_NAME = @table_name AND\r\n",
                "(@owner IS NULL OR TABLE_SCHEMA = @owner)\r\n",
                "\r\n",
                "--Loop through all the columns of the table, to get the column names and their data types\r\n",
                "WHILE @Column_ID IS NOT NULL\r\n",
                "\tBEGIN\r\n",
                "\t\tSELECT \t@Column_Name = QUOTENAME(COLUMN_NAME),\r\n",
                "\t\t@Data_Type = DATA_TYPE\r\n",
                "\t\tFROM \tINFORMATION_SCHEMA.COLUMNS (NOLOCK)\r\n",
                "\t\tWHERE \tORDINAL_POSITION = @Column_ID AND\r\n",
                "\t\tTABLE_NAME = @table_name AND\r\n",
                "\t\t(@owner IS NULL OR TABLE_SCHEMA = @owner)\r\n",
                "\r\n",
                "\t\tIF @cols_to_include IS NOT NULL --Selecting only user specified columns\r\n",
                "\t\tBEGIN\r\n",
                "\t\t\tIF CHARINDEX( '''' + SUBSTRING(@Column_Name,2,LEN(@Column_Name)-2) + '''',@cols_to_include) = 0\r\n",
                "\t\t\tBEGIN\r\n",
                "\t\t\t\tGOTO SKIP_LOOP\r\n",
                "\t\t\tEND\r\n",
                "\t\tEND\r\n",
                "\r\n",
                "\t\tIF @cols_to_exclude IS NOT NULL --Selecting only user specified columns\r\n",
                "\t\tBEGIN\r\n",
                "\t\t\tIF CHARINDEX( '''' + SUBSTRING(@Column_Name,2,LEN(@Column_Name)-2) + '''',@cols_to_exclude) <> 0\r\n",
                "\t\t\tBEGIN\r\n",
                "\t\t\t\tGOTO SKIP_LOOP\r\n",
                "\t\t\tEND\r\n",
                "\t\tEND\r\n",
                "\r\n",
                "\t\t--Making sure to output SET IDENTITY_INSERT ON/OFF in case the table has an IDENTITY column\r\n",
                "\t\tIF (SELECT COLUMNPROPERTY( OBJECT_ID(QUOTENAME(COALESCE(@owner,USER_NAME())) + '.' + @table_name),SUBSTRING(@Column_Name,2,LEN(@Column_Name) - 2),'IsIdentity')) = 1\r\n",
                "\t\tBEGIN\r\n",
                "\t\t\tIF @ommit_identity = 0 --Determing whether to include or exclude the IDENTITY column\r\n",
                "\t\t\t\tSET @IDN = @Column_Name\r\n",
                "\t\t\tELSE\r\n",
                "\t\t\t\tGOTO SKIP_LOOP\r\n",
                "\t\tEND\r\n",
                "\r\n",
                "\t\t--Making sure whether to output computed columns or not\r\n",
                "\t\tIF @ommit_computed_cols = 1\r\n",
                "\t\tBEGIN\r\n",
                "\t\t\tIF (SELECT COLUMNPROPERTY( OBJECT_ID(QUOTENAME(COALESCE(@owner,USER_NAME())) + '.' + @table_name),SUBSTRING(@Column_Name,2,LEN(@Column_Name) - 2),'IsComputed')) = 1\r\n",
                "\t\t\tBEGIN\r\n",
                "\t\t\t\tGOTO SKIP_LOOP\r\n",
                "\t\t\tEND\r\n",
                "\t\tEND\r\n",
                "\r\n",
                "\t\t--Tables with columns of IMAGE data type are not supported for obvious reasons\r\n",
                "\t\tIF(@Data_Type in ('image'))\r\n",
                "\t\t\tBEGIN\r\n",
                "\t\t\t\tIF (@ommit_images = 0)\r\n",
                "\t\t\t\t\tBEGIN\r\n",
                "\t\t\t\t\t\tRAISERROR('Tables with image columns are not supported.',16,1)\r\n",
                "\t\t\t\t\t\tPRINT 'Use @ommit_images = 1 parameter to generate INSERTs for the rest of the columns.'\r\n",
                "\t\t\t\t\t\tPRINT 'DO NOT ommit Column List in the INSERT statements. If you ommit column list using @include_column_list=0, the generated INSERTs will fail.'\r\n",
                "\t\t\t\t\t\tRETURN -1 --Failure. Reason: There is a column with image data type\r\n",
                "\t\t\t\t\tEND\r\n",
                "\t\t\t\tELSE\r\n",
                "\t\t\t\t\tBEGIN\r\n",
                "\t\t\t\t\tGOTO SKIP_LOOP\r\n",
                "\t\t\t\t\tEND\r\n",
                "\t\t\tEND\r\n",
                "\r\n",
                "\t\t--Determining the data type of the column and depending on the data type, the VALUES part of\r\n",
                "\t\t--the INSERT statement is generated. Care is taken to handle columns with NULL values. Also\r\n",
                "\t\t--making sure, not to lose any data from flot, real, money, smallmomey, datetime columns\r\n",
                "\t\tSET @Actual_Values = @Actual_Values  +\r\n",
                "\t\tCASE\r\n",
                "\t\t\tWHEN @Data_Type IN ('char','varchar','nchar','nvarchar')\r\n",
                "\t\t\t\tTHEN\r\n",
                "\t\t\t\t\t'COALESCE('''''''' + REPLACE(RTRIM(' + @Column_Name + '),'''''''','''''''''''')+'''''''',''NULL'')'\r\n",
                "\t\t\tWHEN @Data_Type IN ('datetime','smalldatetime') AND @Column_Name <> '[created_dt]'\r\n",
                "\t\t\t\tTHEN\r\n",
                "\t\t\t\t\t'COALESCE('''''''' + RTRIM(CONVERT(char,' + @Column_Name + ',121))+'''''''',''NULL'')'\r\n",
                "\t\t\tWHEN @Data_Type IN ('datetime','smalldatetime') AND @Column_Name = '[created_dt]'\r\n",
                "\t\t\t\tTHEN\r\n",
                "\t\t\t\t\t'''GETDATE()'''\r\n",
                "\t\t\tWHEN @Data_Type IN ('uniqueidentifier')\r\n",
                "\t\t\t\tTHEN\r\n",
                "\t\t\t\t\t'COALESCE('''''''' + REPLACE(CONVERT(char(255),RTRIM(' + @Column_Name + ')),'''''''','''''''''''')+'''''''',''NULL'')'\r\n",
                "\t\t\tWHEN @Data_Type IN ('text','ntext')\r\n",
                "\t\t\t\tTHEN\r\n",
                "\t\t\t\t\t'COALESCE('''''''' + REPLACE(CONVERT(char(8000),' + @Column_Name + '),'''''''','''''''''''')+'''''''',''NULL'')'\r\n",
                "\t\t\tWHEN @Data_Type IN ('binary','varbinary')\r\n",
                "\t\t\t\tTHEN\r\n",
                "\t\t\t\t\t'COALESCE(RTRIM(CONVERT(char,' + 'CONVERT(int,' + @Column_Name + '))),''NULL'')'\r\n",
                "\t\t\tWHEN @Data_Type IN ('timestamp','rowversion')\r\n",
                "\t\t\t\tTHEN\r\n",
                "\t\t\t\t\tCASE\r\n",
                "\t\t\t\t\t\tWHEN @include_timestamp = 0\r\n",
                "\t\t\t\t\t\t\tTHEN\r\n",
                "\t\t\t\t\t\t\t\t'''DEFAULT'''\r\n",
                "\t\t\t\t\t\t\tELSE\r\n",
                "\t\t\t\t\t\t\t\t'COALESCE(RTRIM(CONVERT(char,' + 'CONVERT(int,' + @Column_Name + '))),''NULL'')'\r\n",
                "\t\t\t\t\tEND\r\n",
                "\t\t\tWHEN @Data_Type IN ('float','real','money','smallmoney')\r\n",
                "\t\t\t\tTHEN\r\n",
                "\t\t\t\t\t'COALESCE(LTRIM(RTRIM(' + 'CONVERT(char, ' +  @Column_Name  + ',2)' + ')),''NULL'')'\r\n",
                "\t\t\tELSE\r\n",
                "\t\t\t\t'COALESCE(LTRIM(RTRIM(' + 'CONVERT(char, ' +  @Column_Name  + ')' + ')),''NULL'')'\r\n",
                "\t\tEND   + '+' +  ''',''' + ' + '\r\n",
                "\r\n",
                "\t\t--Generating the column list for the INSERT statement\r\n",
                "\t\tSET @Column_List = @Column_List +  @Column_Name + ','\t\t\r\n",
                "\r\n",
                "\t\tSKIP_LOOP: --The label used in GOTO\r\n",
                "\r\n",
                "\t\tSELECT \t@Column_ID = MIN(ORDINAL_POSITION)\r\n",
                "\t\tFROM \tINFORMATION_SCHEMA.COLUMNS (NOLOCK)\r\n",
                "\t\tWHERE \tTABLE_NAME = @table_name AND\r\n",
                "\t\tORDINAL_POSITION > @Column_ID AND\r\n",
                "\t\t(@owner IS NULL OR TABLE_SCHEMA = @owner)\r\n",
                "\r\n",
                "\t--Loop ends here!\r\n",
                "\tEND\r\n",
                "\r\n",
                "--To get rid of the extra characters that got concatenated during the last run through the loop\r\n",
                "SET @Column_List = LEFT(@Column_List,len(@Column_List) - 1)\r\n",
                "SET @Actual_Values = LEFT(@Actual_Values,len(@Actual_Values) - 6)\r\n",
                "\r\n",
                "IF LTRIM(@Column_List) = ''\r\n",
                "\tBEGIN\r\n",
                "\t\tRAISERROR('No columns to select. There should at least be one column to generate the output',16,1)\r\n",
                "\t\tRETURN -1 --Failure. Reason: Looks like all the columns are ommitted using the @cols_to_exclude parameter\r\n",
                "\tEND\r\n",
                "\r\n",
                "--Forming the final string that will be executed, to output the INSERT statements\r\n",
                "/*\r\n",
                "IF (@include_column_list <> 0)\r\n",
                "\tBEGIN\r\n",
                "\t\tSET @Actual_Values =\r\n",
                "\t\t\t'SELECT ' +\r\n",
                "\t\t\tCASE WHEN @top IS NULL OR @top < 0 THEN '' ELSE ' TOP ' + LTRIM(STR(@top)) + ' ' END +\r\n",
                "\t\t\t'''' + RTRIM(@Start_Insert) +\r\n",
                "\t\t\t' ''+' + '''(' + RTRIM(@Column_List) +  '''+' + ''')''' +\r\n",
                "\t\t\t' +''VALUES(''+ ' +  @Actual_Values  + '+'')''' + ' ' +\r\n",
                "\t\t\tCOALESCE(@from,' FROM ' + CASE WHEN @owner IS NULL THEN '' ELSE '[' + LTRIM(RTRIM(@owner)) + '].' END + '[' + rtrim(@table_name) + ']' + '(NOLOCK)')\r\n",
                "\tEND\r\n",
                "ELSE IF (@include_column_list = 0)\r\n",
                "\tBEGIN\r\n",
                "\t\tSET @Actual_Values =\r\n",
                "\t\t\t'SELECT ' +\r\n",
                "\t\t\tCASE WHEN @top IS NULL OR @top < 0 THEN '' ELSE ' TOP ' + LTRIM(STR(@top)) + ' ' END +\r\n",
                "\t\t\t'''' + RTRIM(@Start_Insert) +\r\n",
                "\t\t\t' '' +''VALUES(''+ ' +  @Actual_Values + '+'')''' + ' ' +\r\n",
                "\t\t\tCOALESCE(@from,' FROM ' + CASE WHEN @owner IS NULL THEN '' ELSE '[' + LTRIM(RTRIM(@owner)) + '].' END + '[' + rtrim(@table_name) + ']' + '(NOLOCK)')\r\n",
                "\tEND\r\n",
                "*/\r\n",
                "\r\n",
                "IF (@include_column_list <> 0)\r\n",
                "\tBEGIN\r\n",
                "\t\tSET @Actual_Values =\r\n",
                "\t\t\t'SELECT ' +\r\n",
                "\t\t\tCASE WHEN @top IS NULL OR @top < 0 THEN '' ELSE ' TOP ' + LTRIM(STR(@top)) + ' ' END +\r\n",
                "\t\t\t'''' + 'SELECT ''+' +\r\n",
                "\t\t\t--' ''+' + '''(' + RTRIM(@Column_List) +  '''+' + ''')''' +\r\n",
                "\t\t\t+  @Actual_Values  + '+'' UNION ALL ''' + ' ' +\r\n",
                "\t\t\tCOALESCE(@from,' FROM ' + CASE WHEN @owner IS NULL THEN '' ELSE '[' + LTRIM(RTRIM(@owner)) + '].' END + '[' + rtrim(@table_name) + ']' + '(NOLOCK)')\r\n",
                "\tEND\r\n",
                "ELSE IF (@include_column_list = 0)\r\n",
                "\tBEGIN\r\n",
                "\t\tSET @Actual_Values =\r\n",
                "\t\t\t'SELECT ' +\r\n",
                "\t\t\tCASE WHEN @top IS NULL OR @top < 0 THEN '' ELSE ' TOP ' + LTRIM(STR(@top)) + ' ' END +\r\n",
                "\t\t\t'''' + 'SELECT ''+' +\r\n",
                "\t\t\t+ @Actual_Values + '+'' UNION ALL ''' + ' ' +\r\n",
                "\t\t\tCOALESCE(@from,' FROM ' + CASE WHEN @owner IS NULL THEN '' ELSE '[' + LTRIM(RTRIM(@owner)) + '].' END + '[' + rtrim(@table_name) + ']' + '(NOLOCK)')\r\n",
                "\tEND\r\n",
                "--Determining whether to ouput any debug information\r\n",
                "IF @debug_mode =1\r\n",
                "\tBEGIN\r\n",
                "\t\tPRINT '/*****START OF DEBUG INFORMATION*****'\r\n",
                "\t\tPRINT 'Beginning of the INSERT statement:'\r\n",
                "\t\tPRINT @Start_Insert\r\n",
                "\t\tPRINT ''\r\n",
                "\t\tPRINT 'The column list:'\r\n",
                "\t\tPRINT @Column_List\r\n",
                "\t\tPRINT ''\r\n",
                "\t\tPRINT 'The SELECT statement executed to generate the INSERTs'\r\n",
                "\t\tPRINT @Actual_Values\r\n",
                "\t\tPRINT ''\r\n",
                "\t\tPRINT '*****END OF DEBUG INFORMATION*****/'\r\n",
                "\t\tPRINT ''\r\n",
                "\tEND\r\n",
                "\r\n",
                "--Determining whether to print IDENTITY_INSERT or not\r\n",
                "\r\n",
                "IF (@IDN <> '')\r\n",
                "\tBEGIN\r\n",
                "\t\tPRINT 'DELETE FROM ' + @table_name\r\n",
                "\t\tPRINT 'DBCC CHECKIDENT('+@table_name+', RESEED, 0)'\r\n",
                "\t\tPRINT ''\r\n",
                "\t\tPRINT 'SET IDENTITY_INSERT ' + QUOTENAME(COALESCE(@owner,USER_NAME())) + '.' + QUOTENAME(@table_name) + ' ON'\r\n",
                "\t\tPRINT 'GO'\r\n",
                "\t\tPRINT ''\r\n",
                "\tEND\r\n",
                "\r\n",
                "IF @disable_constraints = 1 AND (OBJECT_ID(QUOTENAME(COALESCE(@owner,USER_NAME())) + '.' + @table_name, 'U') IS NOT NULL)\r\n",
                "\tBEGIN\r\n",
                "\t\tIF @owner IS NULL\r\n",
                "\t\t\tBEGIN\r\n",
                "\t\t\t\tSELECT \t'ALTER TABLE ' + QUOTENAME(COALESCE(@target_table, @table_name)) + ' NOCHECK CONSTRAINT ALL' AS '--Code to disable constraints temporarily'\r\n",
                "\t\t\tEND\r\n",
                "\t\tELSE\r\n",
                "\t\t\tBEGIN\r\n",
                "\t\t\t\tSELECT \t'ALTER TABLE ' + QUOTENAME(@owner) + '.' + QUOTENAME(COALESCE(@target_table, @table_name)) + ' NOCHECK CONSTRAINT ALL' AS '--Code to disable constraints temporarily'\r\n",
                "\t\t\tEND\r\n",
                "\r\n",
                "\t\tPRINT 'GO'\r\n",
                "\tEND\r\n",
                "\r\n",
                "--All the hard work pays off here!!! You'll get your INSERT statements, when the next line executes!\r\n",
                "\r\n",
                "SET @Column_Name = ''\r\n",
                "SELECT @Column_Name = COALESCE(@Column_Name, '') + ISNULL(',' + COLUMN_NAME, '') FROM INFORMATION_SCHEMA.COLUMNS WHERE TABLE_NAME = @table_name\r\n",
                "SELECT @Column_Name = STUFF(@Column_Name, 1,1, '')\r\n",
                "\r\n",
                "SELECT 'INSERT INTO ' + @table_name + '(' + @Column_Name + ')'\r\n",
                "\r\n",
                "EXEC (@Actual_Values)\r\n",
                "\r\n",
                "IF @disable_constraints = 1 AND (OBJECT_ID(QUOTENAME(COALESCE(@owner,USER_NAME())) + '.' + @table_name, 'U') IS NOT NULL)\r\n",
                "\tBEGIN\r\n",
                "\t\tIF @owner IS NULL\r\n",
                "\t\t\tBEGIN\r\n",
                "\t\t\t\tSELECT \t'ALTER TABLE ' + QUOTENAME(COALESCE(@target_table, @table_name)) + ' CHECK CONSTRAINT ALL'  AS '--Code to enable the previously disabled constraints'\r\n",
                "\t\t\tEND\r\n",
                "\t\tELSE\r\n",
                "\t\t\tBEGIN\r\n",
                "\t\t\t\tSELECT \t'ALTER TABLE ' + QUOTENAME(@owner) + '.' + QUOTENAME(COALESCE(@target_table, @table_name)) + ' CHECK CONSTRAINT ALL' AS '--Code to enable the previously disabled constraints'\r\n",
                "\t\t\tEND\r\n",
                "\r\n",
                "\t\tPRINT 'GO'\r\n",
                "\tEND\r\n",
                "\r\n",
                "PRINT ''\r\n",
                "IF (@IDN <> '')\r\n",
                "\tBEGIN\r\n",
                "\t\tPRINT 'SET IDENTITY_INSERT ' + QUOTENAME(COALESCE(@owner,USER_NAME())) + '.' + QUOTENAME(@table_name) + ' OFF'\r\n",
                "\t\tPRINT 'GO'\r\n",
                "\tEND\r\n",
                "\r\n",
                "PRINT 'SET NOCOUNT OFF'\r\n",
                "\r\n",
                "SET NOCOUNT OFF\r\n",
                "RETURN 0 --Success. We are done!\r\n",
                "END\r\n",
                "\r\n",
                "GO\r\n",
                "\r\n",
                "PRINT 'Created the procedure'\r\n",
                "GO\r\n",
                "\r\n",
                "--Marking this as a system procedure in master database\r\n",
                "EXEC sys.sp_MS_marksystemobject sp_generate_inserts\r\n",
                "GO\r\n",
                "\r\n",
                "PRINT 'Granting EXECUTE permission on sp_generate_inserts to all users'\r\n",
                "GRANT EXEC ON sp_generate_inserts TO public\r\n",
                "\r\n",
                "SET NOCOUNT OFF\r\n",
                "GO\r\n",
                "\r\n",
                "PRINT 'Done'"
            ],
            "metadata": {
                "azdata_cell_guid": "22d61fcd-b9f2-4449-8b89-7a8e6207a737",
                "tags": [
                    "hide_input"
                ]
            },
            "outputs": [
                {
                    "output_type": "display_data",
                    "data": {
                        "text/html": "Commands completed successfully."
                    },
                    "metadata": {}
                },
                {
                    "output_type": "display_data",
                    "data": {
                        "text/html": "Using Master database"
                    },
                    "metadata": {}
                },
                {
                    "output_type": "display_data",
                    "data": {
                        "text/html": "Checking for the existence of this procedure"
                    },
                    "metadata": {}
                },
                {
                    "output_type": "display_data",
                    "data": {
                        "text/html": "Commands completed successfully."
                    },
                    "metadata": {}
                },
                {
                    "output_type": "display_data",
                    "data": {
                        "text/html": "Created the procedure"
                    },
                    "metadata": {}
                },
                {
                    "output_type": "display_data",
                    "data": {
                        "text/html": "Commands completed successfully."
                    },
                    "metadata": {}
                },
                {
                    "output_type": "display_data",
                    "data": {
                        "text/html": "Granting EXECUTE permission on sp_generate_inserts to all users"
                    },
                    "metadata": {}
                },
                {
                    "output_type": "display_data",
                    "data": {
                        "text/html": "Done"
                    },
                    "metadata": {}
                },
                {
                    "output_type": "display_data",
                    "data": {
                        "text/html": "Total execution time: 00:00:00.147"
                    },
                    "metadata": {}
                }
            ],
            "execution_count": 1
        },
        {
            "cell_type": "markdown",
            "source": [
                "### Set the table name in the cell below"
            ],
            "metadata": {
                "azdata_cell_guid": "a31c5ec6-c1ed-4dd0-87ce-deebad891e1a"
            }
        },
        {
            "cell_type": "code",
            "source": [
                "Use AW1;\r\n",
                "EXEC sp_generate_inserts 'SpecialOffer',@owner='Sales', @top = 0"
            ],
            "metadata": {
                "azdata_cell_guid": "c56ff80e-0099-453d-8735-3387eea1f969",
                "tags": []
            },
            "outputs": [
                {
                    "output_type": "display_data",
                    "data": {
                        "text/html": "DELETE FROM SpecialOffer"
                    },
                    "metadata": {}
                },
                {
                    "output_type": "display_data",
                    "data": {
                        "text/html": "DBCC CHECKIDENT(SpecialOffer, RESEED, 0)"
                    },
                    "metadata": {}
                },
                {
                    "output_type": "display_data",
                    "data": {
                        "text/html": " "
                    },
                    "metadata": {}
                },
                {
                    "output_type": "display_data",
                    "data": {
                        "text/html": "SET IDENTITY_INSERT [Sales].[SpecialOffer] ON"
                    },
                    "metadata": {}
                },
                {
                    "output_type": "display_data",
                    "data": {
                        "text/html": "GO"
                    },
                    "metadata": {}
                },
                {
                    "output_type": "display_data",
                    "data": {
                        "text/html": " "
                    },
                    "metadata": {}
                },
                {
                    "output_type": "display_data",
                    "data": {
                        "text/html": " "
                    },
                    "metadata": {}
                },
                {
                    "output_type": "display_data",
                    "data": {
                        "text/html": "SET IDENTITY_INSERT [Sales].[SpecialOffer] OFF"
                    },
                    "metadata": {}
                },
                {
                    "output_type": "display_data",
                    "data": {
                        "text/html": "GO"
                    },
                    "metadata": {}
                },
                {
                    "output_type": "display_data",
                    "data": {
                        "text/html": "SET NOCOUNT OFF"
                    },
                    "metadata": {}
                },
                {
                    "output_type": "display_data",
                    "data": {
                        "text/html": "Total execution time: 00:00:00.645"
                    },
                    "metadata": {}
                },
                {
                    "output_type": "execute_result",
                    "metadata": {},
                    "execution_count": 3,
                    "data": {
                        "application/vnd.dataresource+json": {
                            "schema": {
                                "fields": [
                                    {
                                        "name": "(No column name)"
                                    }
                                ]
                            },
                            "data": [
                                {
                                    "0": "INSERT INTO SpecialOffer(SpecialOfferID,Description,DiscountPct,Type,Category,StartDate,EndDate,MinQty,MaxQty,rowguid,ModifiedDate)"
                                }
                            ]
                        },
                        "text/html": [
                            "<table>",
                            "<tr><th>(No column name)</th></tr>",
                            "<tr><td>INSERT INTO SpecialOffer(SpecialOfferID,Description,DiscountPct,Type,Category,StartDate,EndDate,MinQty,MaxQty,rowguid,ModifiedDate)</td></tr>",
                            "</table>"
                        ]
                    }
                },
                {
                    "output_type": "execute_result",
                    "metadata": {},
                    "execution_count": 3,
                    "data": {
                        "application/vnd.dataresource+json": {
                            "schema": {
                                "fields": [
                                    {
                                        "name": "(No column name)"
                                    }
                                ]
                            },
                            "data": []
                        },
                        "text/html": [
                            "<table>",
                            "<tr><th>(No column name)</th></tr>",
                            "</table>"
                        ]
                    }
                }
            ],
            "execution_count": 3
        },
        {
            "cell_type": "markdown",
            "source": [
                "### Use the cell below to put together the insert statement with help from the above output"
            ],
            "metadata": {
                "azdata_cell_guid": "70767a01-495d-43b6-8192-b98f12edc802"
            }
        },
        {
            "cell_type": "code",
            "source": [
                "DELETE FROM SALES.SpecialOffer\r\n",
                "DBCC CHECKIDENT(SALES.SpecialOffer, RESEED, 0)\r\n",
                "SET IDENTITY_INSERT [Sales].[SpecialOffer] ON\r\n",
                "\r\n",
                "INSERT INTO SALES.SpecialOffer(SpecialOfferID,Description,DiscountPct,Type,Category,StartDate,EndDate,MinQty,MaxQty,rowguid,ModifiedDate)\r\n",
                "SELECT SpecialOfferID,Description,DiscountPct,Type,Category,StartDate,EndDate,MinQty,MaxQty,rowguid,ModifiedDate\r\n",
                "FROM AW2.SALES.SPECIALOFFER\r\n",
                "SET IDENTITY_INSERT [Sales].[SpecialOffer] OFF\r\n",
                "GO\r\n",
                "SET NOCOUNT OFF"
            ],
            "metadata": {
                "azdata_cell_guid": "09f3e660-2c40-4509-b4ef-ee64c688e6b3"
            },
            "outputs": [
                {
                    "output_type": "error",
                    "evalue": "Msg 102, Level 15, State 1, Line 2\r\nIncorrect syntax near '.'.",
                    "ename": "",
                    "traceback": []
                },
                {
                    "output_type": "display_data",
                    "data": {
                        "text/html": "Commands completed successfully."
                    },
                    "metadata": {}
                },
                {
                    "output_type": "display_data",
                    "data": {
                        "text/html": "Total execution time: 00:00:00.004"
                    },
                    "metadata": {}
                }
            ],
            "execution_count": 7
        }
    ]
}