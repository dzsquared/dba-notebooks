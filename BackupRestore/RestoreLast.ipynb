{
    "metadata": {
        "kernelspec": {
            "name": "powershell",
            "display_name": "PowerShell"
        },
        "language_info": {
            "name": "powershell",
            "codemirror_mode": "shell",
            "mimetype": "text/x-sh",
            "file_extension": ".ps1"
        }
    },
    "nbformat_minor": 2,
    "nbformat": 4,
    "cells": [
        {
            "cell_type": "markdown",
            "source": [
                "# Run this notebook if you need to restore a copy of a database"
            ],
            "metadata": {
                "azdata_cell_guid": "6639fcb7-8ea1-4158-a9f8-a952dc2e654a"
            }
        },
        {
            "cell_type": "code",
            "source": [
                "$sqlinstance = 'localhost'\r\n",
                "$databasename = 'AW1'\r\n",
                "$newdatabasename = 'AW1_temp'"
            ],
            "metadata": {
                "azdata_cell_guid": "44079b17-4f9e-4598-8382-aed1dfafacab",
                "tags": []
            },
            "outputs": [
                {
                    "output_type": "stream",
                    "name": "stdout",
                    "text": ""
                }
            ],
            "execution_count": 9
        },
        {
            "cell_type": "code",
            "source": [
                "Import-Module dbatools"
            ],
            "metadata": {
                "azdata_cell_guid": "24fa9b4d-d37e-49ad-b41b-0cb71ae3f91c"
            },
            "outputs": [
                {
                    "output_type": "stream",
                    "name": "stdout",
                    "text": ""
                }
            ],
            "execution_count": 2
        },
        {
            "cell_type": "markdown",
            "source": [
                "## 1\\. view available backup points"
            ],
            "metadata": {
                "azdata_cell_guid": "67ab27f8-f852-4db7-b241-8fa79879041b"
            }
        },
        {
            "cell_type": "code",
            "source": [
                "Get-DbaDbBackupHistory -SqlInstance $sqlinstance -Database $databasename -Last"
            ],
            "metadata": {
                "azdata_cell_guid": "7d8c2bc3-7e5f-499c-8650-591435e4317c"
            },
            "outputs": [
                {
                    "output_type": "stream",
                    "name": "stdout",
                    "text": "\nSqlInstance    Database Type TotalSize DeviceType Start                   Duration End                    \n-----------    -------- ---- --------- ---------- -----                   -------- ---                    \nWINDEV2008EVAL AW1      Full 208.08 MB Disk       2020-10-12 17:44:28.000 00:00:00 2020-10-12 17:44:28.000\n\n\n"
                }
            ],
            "execution_count": 12
        },
        {
            "cell_type": "markdown",
            "source": [
                "## 2\\. restore latest to new DB"
            ],
            "metadata": {
                "azdata_cell_guid": "05f3d753-871c-496a-a273-35803fc03528"
            }
        },
        {
            "cell_type": "code",
            "source": [
                "$BackupHistory = Get-DbaBackupInformation -SqlInstance $sqlinstance -Path \"C:\\Program Files\\Microsoft SQL Server\\MSSQL15.MSSQLSERVER\\MSSQL\\Backup\" -DatabaseName $databasename\r\n",
                "$BackupHistory | Restore-DbaDatabase -SqlInstance $sqlinstance -DatabaseName $newdatabasename -ReplaceDbNameInFile"
            ],
            "metadata": {
                "azdata_cell_guid": "3e910616-62f0-429f-957e-5b4bba78daa9",
                "tags": []
            },
            "outputs": [
                {
                    "output_type": "stream",
                    "name": "stdout",
                    "text": ". {\n>> "
                },
                {
                    "output_type": "stream",
                    "name": "stdout",
                    "text": "$BackupHistory = Get-DbaBackupInformation -SqlInstance $sqlinstance -Path \"C:\\Program Files\\Microsoft SQL Server\\MSSQL15.MSSQLSERVER\\MSSQL\\Backup\" -DatabaseName $databasename\n>> $BackupHistory | Restore-DbaDatabase -SqlInstance $sqlinstance -DatabaseName $newdatabasename -ReplaceDbNameInFile\n>> }\n>> \n"
                },
                {
                    "output_type": "stream",
                    "name": "stdout",
                    "text": "\n\nComputerName         : WINDEV2008EVAL\nInstanceName         : MSSQLSERVER\nSqlInstance          : WINDEV2008EVAL\nBackupFile           : C:\\Program Files\\Microsoft SQL Server\\MSSQL15.MSSQLSERVER\\MSSQL\\Backup\\AW1.bak\nBackupFilesCount     : 1\nBackupSize           : 208.08 MB\nCompressedBackupSize : 208.08 MB\nDatabase             : AW1_temp\nOwner                : WINDEV2008EVAL\\User\nDatabaseRestoreTime  : 00:00:05\nFileRestoreTime      : 00:00:05\nNoRecovery           : False\nRestoreComplete      : True\nRestoredFile         : AW1_temp.mdf,AW1_temp_log.ldf\nRestoredFilesCount   : 2\nScript               : {RESTORE DATA"
                },
                {
                    "output_type": "stream",
                    "name": "stdout",
                    "text": "BASE [AW1_temp] FROM  DISK = N'C:\\Program Files\\Microsoft SQL \n                       Server\\MSSQL15.MSSQLSERVER\\MSSQL\\Backup\\AW1.bak' WITH  FILE = 1,  MOVE N'AdventureWorks2017' TO \n                       N'C:\\Program Files\\Microsoft SQL Server\\MSSQL15.MSSQLSERVER\\MSSQL\\DATA\\AW1_temp.mdf',  MOVE \n                       N'AdventureWorks2017_log' TO N'C:\\Program Files\\Microsoft SQL \n                       Server\\MSSQL15.MSSQLSERVER\\MSSQL\\DATA\\AW1_temp_log.ldf',  NOUNLOAD,  STATS = 10}\nRestoreDirectory     : C:\\Program Files\\Microsoft SQL Server\\MSSQL15.MSSQLSERVER\\MSSQL\\DATA\nWithReplace          : False\n\n\n\n"
                }
            ],
            "execution_count": 10
        }
    ]
}