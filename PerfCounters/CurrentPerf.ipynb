{
    "metadata": {
        "kernelspec": {
            "name": "SQL",
            "display_name": "SQL",
            "language": "sql"
        },
        "language_info": {
            "name": "sql",
            "version": ""
        }
    },
    "nbformat_minor": 2,
    "nbformat": 4,
    "cells": [
        {
            "cell_type": "code",
            "source": [
                "-- https://www.sqlservercentral.com/steps/back-to-basics-capturing-baselines-on-production-sql-servers\r\n",
                "\r\n",
                "SET NOCOUNT ON;\r\n",
                "DECLARE @PerfCounters TABLE\r\n",
                "    (\r\n",
                "      [Counter] NVARCHAR(770) ,\r\n",
                "      [CounterType] INT ,\r\n",
                "      [FirstValue] DECIMAL(38, 2) ,\r\n",
                "      [FirstDateTime] DATETIME ,\r\n",
                "      [SecondValue] DECIMAL(38, 2) ,\r\n",
                "      [SecondDateTime] DATETIME ,\r\n",
                "      [ValueDiff] AS ( [SecondValue] - [FirstValue] ) ,\r\n",
                "      [TimeDiff] AS ( DATEDIFF(SS, FirstDateTime, SecondDateTime) ) ,\r\n",
                "      [CounterValue] DECIMAL(38, 2)\r\n",
                "    );\r\n",
                "INSERT  INTO @PerfCounters\r\n",
                "        ( [Counter] ,\r\n",
                "          [CounterType] ,\r\n",
                "          [FirstValue] ,\r\n",
                "          [FirstDateTime]\r\n",
                "        )\r\n",
                "        SELECT  RTRIM([object_name]) + N':' + RTRIM([counter_name]) + N':'\r\n",
                "                + RTRIM([instance_name]) ,\r\n",
                "                [cntr_type] ,\r\n",
                "                [cntr_value] ,\r\n",
                "                GETDATE()\r\n",
                "        FROM    sys.dm_os_performance_counters\r\n",
                "        WHERE   [counter_name] IN ( N'Page life expectancy',\r\n",
                "                                    N'Lazy writes/sec', N'Page reads/sec',\r\n",
                "                                    N'Page writes/sec', N'Free Pages',\r\n",
                "                                    N'Free list stalls/sec',\r\n",
                "                                    N'User Connections',\r\n",
                "                                    N'Lock Waits/sec',\r\n",
                "                                    N'Number of Deadlocks/sec',\r\n",
                "                                    N'Transactions/sec',\r\n",
                "                                    N'Forwarded Records/sec',\r\n",
                "                                    N'Index Searches/sec',\r\n",
                "                                    N'Full Scans/sec',\r\n",
                "                                    N'Batch Requests/sec',\r\n",
                "                                    N'SQL Compilations/sec',\r\n",
                "                                    N'SQL Re-Compilations/sec',\r\n",
                "                                    N'Total Server Memory (KB)',\r\n",
                "                                    N'Target Server Memory (KB)',\r\n",
                "                                    N'Latch Waits/sec' )\r\n",
                "        ORDER BY [object_name] + N':' + [counter_name] + N':'\r\n",
                "                + [instance_name];\r\n",
                "WAITFOR DELAY '00:00:10';\r\n",
                "UPDATE  @PerfCounters\r\n",
                "SET     [SecondValue] = [cntr_value] ,\r\n",
                "        [SecondDateTime] = GETDATE()\r\n",
                "FROM    sys.dm_os_performance_counters\r\n",
                "WHERE   [Counter] = RTRIM([object_name]) + N':' + RTRIM([counter_name])\r\n",
                "                                                                  + N':'\r\n",
                "        + RTRIM([instance_name])\r\n",
                "        AND [counter_name] IN ( N'Page life expectancy', \r\n",
                "                                N'Lazy writes/sec',\r\n",
                "                                N'Page reads/sec', N'Page writes/sec',\r\n",
                "                                N'Free Pages', N'Free list stalls/sec',\r\n",
                "                                N'User Connections', N'Lock Waits/sec',\r\n",
                "                                N'Number of Deadlocks/sec',\r\n",
                "                                N'Transactions/sec',\r\n",
                "                                N'Forwarded Records/sec',\r\n",
                "                                N'Index Searches/sec', N'Full Scans/sec',\r\n",
                "                                N'Batch Requests/sec',\r\n",
                "                                N'SQL Compilations/sec',\r\n",
                "                                N'SQL Re-Compilations/sec',\r\n",
                "                                N'Total Server Memory (KB)',\r\n",
                "                                N'Target Server Memory (KB)',\r\n",
                "                                N'Latch Waits/sec' );\r\n",
                "UPDATE  @PerfCounters\r\n",
                "SET     [CounterValue] = [ValueDiff] / [TimeDiff]\r\n",
                "WHERE   [CounterType] = 272696576;\r\n",
                "UPDATE  @PerfCounters\r\n",
                "SET     [CounterValue] = [SecondValue]\r\n",
                "WHERE   [CounterType] <> 272696576;\r\n",
                "\r\n",
                "SELECT  [Counter] ,\r\n",
                "        [CounterValue] ,\r\n",
                "        [SecondDateTime]\r\n",
                "FROM    @PerfCounters;"
            ],
            "metadata": {
                "azdata_cell_guid": "6ee11ab2-0a56-4eae-827c-9651ab553beb"
            },
            "outputs": [
                {
                    "output_type": "display_data",
                    "data": {
                        "text/html": "Commands completed successfully."
                    },
                    "metadata": {}
                },
                {
                    "output_type": "display_data",
                    "data": {
                        "text/html": "Total execution time: 00:00:11.178"
                    },
                    "metadata": {}
                },
                {
                    "output_type": "execute_result",
                    "metadata": {},
                    "execution_count": 1,
                    "data": {
                        "application/vnd.dataresource+json": {
                            "schema": {
                                "fields": [
                                    {
                                        "name": "Counter"
                                    },
                                    {
                                        "name": "CounterValue"
                                    },
                                    {
                                        "name": "SecondDateTime"
                                    }
                                ]
                            },
                            "data": [
                                {
                                    "0": "SQLServer:Buffer Manager:Free list stalls/sec:",
                                    "1": "0.00",
                                    "2": "2020-10-12 19:46:08.060"
                                },
                                {
                                    "0": "SQLServer:Buffer Manager:Lazy writes/sec:",
                                    "1": "0.00",
                                    "2": "2020-10-12 19:46:08.060"
                                },
                                {
                                    "0": "SQLServer:Buffer Manager:Page reads/sec:",
                                    "1": "0.00",
                                    "2": "2020-10-12 19:46:08.060"
                                },
                                {
                                    "0": "SQLServer:Buffer Manager:Page writes/sec:",
                                    "1": "0.00",
                                    "2": "2020-10-12 19:46:08.060"
                                },
                                {
                                    "0": "SQLServer:Buffer Manager:Page life expectancy:",
                                    "1": "3094.00",
                                    "2": "2020-10-12 19:46:08.060"
                                },
                                {
                                    "0": "SQLServer:Buffer Node:Page life expectancy:000",
                                    "1": "3094.00",
                                    "2": "2020-10-12 19:46:08.060"
                                },
                                {
                                    "0": "SQLServer:General Statistics:User Connections:",
                                    "1": "8.00",
                                    "2": "2020-10-12 19:46:08.060"
                                },
                                {
                                    "0": "SQLServer:Locks:Number of Deadlocks/sec:Xact",
                                    "1": "0.00",
                                    "2": "2020-10-12 19:46:08.060"
                                },
                                {
                                    "0": "SQLServer:Locks:Lock Waits/sec:Xact",
                                    "1": "0.00",
                                    "2": "2020-10-12 19:46:08.060"
                                },
                                {
                                    "0": "SQLServer:Locks:Number of Deadlocks/sec:RowGroup",
                                    "1": "0.00",
                                    "2": "2020-10-12 19:46:08.060"
                                },
                                {
                                    "0": "SQLServer:Locks:Lock Waits/sec:RowGroup",
                                    "1": "0.00",
                                    "2": "2020-10-12 19:46:08.060"
                                },
                                {
                                    "0": "SQLServer:Locks:Number of Deadlocks/sec:OIB",
                                    "1": "0.00",
                                    "2": "2020-10-12 19:46:08.060"
                                },
                                {
                                    "0": "SQLServer:Locks:Lock Waits/sec:OIB",
                                    "1": "0.00",
                                    "2": "2020-10-12 19:46:08.060"
                                },
                                {
                                    "0": "SQLServer:Locks:Number of Deadlocks/sec:AllocUnit",
                                    "1": "0.00",
                                    "2": "2020-10-12 19:46:08.060"
                                },
                                {
                                    "0": "SQLServer:Locks:Lock Waits/sec:AllocUnit",
                                    "1": "0.00",
                                    "2": "2020-10-12 19:46:08.060"
                                },
                                {
                                    "0": "SQLServer:Locks:Number of Deadlocks/sec:HoBT",
                                    "1": "0.00",
                                    "2": "2020-10-12 19:46:08.060"
                                },
                                {
                                    "0": "SQLServer:Locks:Lock Waits/sec:HoBT",
                                    "1": "0.00",
                                    "2": "2020-10-12 19:46:08.060"
                                },
                                {
                                    "0": "SQLServer:Locks:Number of Deadlocks/sec:Metadata",
                                    "1": "0.00",
                                    "2": "2020-10-12 19:46:08.060"
                                },
                                {
                                    "0": "SQLServer:Locks:Lock Waits/sec:Metadata",
                                    "1": "0.00",
                                    "2": "2020-10-12 19:46:08.060"
                                },
                                {
                                    "0": "SQLServer:Locks:Number of Deadlocks/sec:Application",
                                    "1": "0.00",
                                    "2": "2020-10-12 19:46:08.060"
                                },
                                {
                                    "0": "SQLServer:Locks:Lock Waits/sec:Application",
                                    "1": "0.00",
                                    "2": "2020-10-12 19:46:08.060"
                                },
                                {
                                    "0": "SQLServer:Locks:Number of Deadlocks/sec:RID",
                                    "1": "0.00",
                                    "2": "2020-10-12 19:46:08.060"
                                },
                                {
                                    "0": "SQLServer:Locks:Lock Waits/sec:RID",
                                    "1": "0.00",
                                    "2": "2020-10-12 19:46:08.060"
                                },
                                {
                                    "0": "SQLServer:Locks:Number of Deadlocks/sec:Extent",
                                    "1": "0.00",
                                    "2": "2020-10-12 19:46:08.060"
                                },
                                {
                                    "0": "SQLServer:Locks:Lock Waits/sec:Extent",
                                    "1": "0.00",
                                    "2": "2020-10-12 19:46:08.060"
                                },
                                {
                                    "0": "SQLServer:Locks:Number of Deadlocks/sec:Key",
                                    "1": "0.00",
                                    "2": "2020-10-12 19:46:08.060"
                                },
                                {
                                    "0": "SQLServer:Locks:Lock Waits/sec:Key",
                                    "1": "0.00",
                                    "2": "2020-10-12 19:46:08.060"
                                },
                                {
                                    "0": "SQLServer:Locks:Number of Deadlocks/sec:Page",
                                    "1": "0.00",
                                    "2": "2020-10-12 19:46:08.060"
                                },
                                {
                                    "0": "SQLServer:Locks:Lock Waits/sec:Page",
                                    "1": "0.00",
                                    "2": "2020-10-12 19:46:08.060"
                                },
                                {
                                    "0": "SQLServer:Locks:Number of Deadlocks/sec:Object",
                                    "1": "0.00",
                                    "2": "2020-10-12 19:46:08.060"
                                },
                                {
                                    "0": "SQLServer:Locks:Lock Waits/sec:Object",
                                    "1": "0.00",
                                    "2": "2020-10-12 19:46:08.060"
                                },
                                {
                                    "0": "SQLServer:Locks:Number of Deadlocks/sec:File",
                                    "1": "0.00",
                                    "2": "2020-10-12 19:46:08.060"
                                },
                                {
                                    "0": "SQLServer:Locks:Lock Waits/sec:File",
                                    "1": "0.00",
                                    "2": "2020-10-12 19:46:08.060"
                                },
                                {
                                    "0": "SQLServer:Locks:Number of Deadlocks/sec:Database",
                                    "1": "0.00",
                                    "2": "2020-10-12 19:46:08.060"
                                },
                                {
                                    "0": "SQLServer:Locks:Lock Waits/sec:Database",
                                    "1": "0.00",
                                    "2": "2020-10-12 19:46:08.060"
                                },
                                {
                                    "0": "SQLServer:Locks:Number of Deadlocks/sec:_Total",
                                    "1": "0.00",
                                    "2": "2020-10-12 19:46:08.060"
                                },
                                {
                                    "0": "SQLServer:Locks:Lock Waits/sec:_Total",
                                    "1": "0.00",
                                    "2": "2020-10-12 19:46:08.060"
                                },
                                {
                                    "0": "SQLServer:Databases:Transactions/sec:tempdb",
                                    "1": "0.64",
                                    "2": "2020-10-12 19:46:08.060"
                                },
                                {
                                    "0": "SQLServer:Databases:Transactions/sec:model",
                                    "1": "0.00",
                                    "2": "2020-10-12 19:46:08.060"
                                },
                                {
                                    "0": "SQLServer:Databases:Transactions/sec:AW1",
                                    "1": "0.00",
                                    "2": "2020-10-12 19:46:08.060"
                                },
                                {
                                    "0": "SQLServer:Databases:Transactions/sec:AW2",
                                    "1": "0.00",
                                    "2": "2020-10-12 19:46:08.060"
                                },
                                {
                                    "0": "SQLServer:Databases:Transactions/sec:DBAmaintenance",
                                    "1": "0.00",
                                    "2": "2020-10-12 19:46:08.060"
                                },
                                {
                                    "0": "SQLServer:Databases:Transactions/sec:mssqlsystemresource",
                                    "1": "0.00",
                                    "2": "2020-10-12 19:46:08.060"
                                },
                                {
                                    "0": "SQLServer:Databases:Transactions/sec:msdb",
                                    "1": "0.00",
                                    "2": "2020-10-12 19:46:08.060"
                                },
                                {
                                    "0": "SQLServer:Databases:Transactions/sec:_Total",
                                    "1": "0.73",
                                    "2": "2020-10-12 19:46:08.060"
                                },
                                {
                                    "0": "SQLServer:Databases:Transactions/sec:master",
                                    "1": "0.09",
                                    "2": "2020-10-12 19:46:08.060"
                                },
                                {
                                    "0": "SQLServer:Latches:Latch Waits/sec:",
                                    "1": "0.18",
                                    "2": "2020-10-12 19:46:08.060"
                                },
                                {
                                    "0": "SQLServer:Access Methods:Full Scans/sec:",
                                    "1": "0.18",
                                    "2": "2020-10-12 19:46:08.060"
                                },
                                {
                                    "0": "SQLServer:Access Methods:Forwarded Records/sec:",
                                    "1": "0.00",
                                    "2": "2020-10-12 19:46:08.060"
                                },
                                {
                                    "0": "SQLServer:Access Methods:Index Searches/sec:",
                                    "1": "37.09",
                                    "2": "2020-10-12 19:46:08.060"
                                },
                                {
                                    "0": "SQLServer:SQL Statistics:Batch Requests/sec:",
                                    "1": "0.00",
                                    "2": "2020-10-12 19:46:08.060"
                                },
                                {
                                    "0": "SQLServer:SQL Statistics:SQL Compilations/sec:",
                                    "1": "0.09",
                                    "2": "2020-10-12 19:46:08.060"
                                },
                                {
                                    "0": "SQLServer:SQL Statistics:SQL Re-Compilations/sec:",
                                    "1": "0.09",
                                    "2": "2020-10-12 19:46:08.060"
                                },
                                {
                                    "0": "SQLServer:Memory Manager:Target Server Memory (KB):",
                                    "1": "1988944.00",
                                    "2": "2020-10-12 19:46:08.060"
                                },
                                {
                                    "0": "SQLServer:Memory Manager:Total Server Memory (KB):",
                                    "1": "435344.00",
                                    "2": "2020-10-12 19:46:08.060"
                                }
                            ]
                        },
                        "text/html": [
                            "<table>",
                            "<tr><th>Counter</th><th>CounterValue</th><th>SecondDateTime</th></tr>",
                            "<tr><td>SQLServer:Buffer Manager:Free list stalls/sec:</td><td>0.00</td><td>2020-10-12 19:46:08.060</td></tr>",
                            "<tr><td>SQLServer:Buffer Manager:Lazy writes/sec:</td><td>0.00</td><td>2020-10-12 19:46:08.060</td></tr>",
                            "<tr><td>SQLServer:Buffer Manager:Page reads/sec:</td><td>0.00</td><td>2020-10-12 19:46:08.060</td></tr>",
                            "<tr><td>SQLServer:Buffer Manager:Page writes/sec:</td><td>0.00</td><td>2020-10-12 19:46:08.060</td></tr>",
                            "<tr><td>SQLServer:Buffer Manager:Page life expectancy:</td><td>3094.00</td><td>2020-10-12 19:46:08.060</td></tr>",
                            "<tr><td>SQLServer:Buffer Node:Page life expectancy:000</td><td>3094.00</td><td>2020-10-12 19:46:08.060</td></tr>",
                            "<tr><td>SQLServer:General Statistics:User Connections:</td><td>8.00</td><td>2020-10-12 19:46:08.060</td></tr>",
                            "<tr><td>SQLServer:Locks:Number of Deadlocks/sec:Xact</td><td>0.00</td><td>2020-10-12 19:46:08.060</td></tr>",
                            "<tr><td>SQLServer:Locks:Lock Waits/sec:Xact</td><td>0.00</td><td>2020-10-12 19:46:08.060</td></tr>",
                            "<tr><td>SQLServer:Locks:Number of Deadlocks/sec:RowGroup</td><td>0.00</td><td>2020-10-12 19:46:08.060</td></tr>",
                            "<tr><td>SQLServer:Locks:Lock Waits/sec:RowGroup</td><td>0.00</td><td>2020-10-12 19:46:08.060</td></tr>",
                            "<tr><td>SQLServer:Locks:Number of Deadlocks/sec:OIB</td><td>0.00</td><td>2020-10-12 19:46:08.060</td></tr>",
                            "<tr><td>SQLServer:Locks:Lock Waits/sec:OIB</td><td>0.00</td><td>2020-10-12 19:46:08.060</td></tr>",
                            "<tr><td>SQLServer:Locks:Number of Deadlocks/sec:AllocUnit</td><td>0.00</td><td>2020-10-12 19:46:08.060</td></tr>",
                            "<tr><td>SQLServer:Locks:Lock Waits/sec:AllocUnit</td><td>0.00</td><td>2020-10-12 19:46:08.060</td></tr>",
                            "<tr><td>SQLServer:Locks:Number of Deadlocks/sec:HoBT</td><td>0.00</td><td>2020-10-12 19:46:08.060</td></tr>",
                            "<tr><td>SQLServer:Locks:Lock Waits/sec:HoBT</td><td>0.00</td><td>2020-10-12 19:46:08.060</td></tr>",
                            "<tr><td>SQLServer:Locks:Number of Deadlocks/sec:Metadata</td><td>0.00</td><td>2020-10-12 19:46:08.060</td></tr>",
                            "<tr><td>SQLServer:Locks:Lock Waits/sec:Metadata</td><td>0.00</td><td>2020-10-12 19:46:08.060</td></tr>",
                            "<tr><td>SQLServer:Locks:Number of Deadlocks/sec:Application</td><td>0.00</td><td>2020-10-12 19:46:08.060</td></tr>",
                            "<tr><td>SQLServer:Locks:Lock Waits/sec:Application</td><td>0.00</td><td>2020-10-12 19:46:08.060</td></tr>",
                            "<tr><td>SQLServer:Locks:Number of Deadlocks/sec:RID</td><td>0.00</td><td>2020-10-12 19:46:08.060</td></tr>",
                            "<tr><td>SQLServer:Locks:Lock Waits/sec:RID</td><td>0.00</td><td>2020-10-12 19:46:08.060</td></tr>",
                            "<tr><td>SQLServer:Locks:Number of Deadlocks/sec:Extent</td><td>0.00</td><td>2020-10-12 19:46:08.060</td></tr>",
                            "<tr><td>SQLServer:Locks:Lock Waits/sec:Extent</td><td>0.00</td><td>2020-10-12 19:46:08.060</td></tr>",
                            "<tr><td>SQLServer:Locks:Number of Deadlocks/sec:Key</td><td>0.00</td><td>2020-10-12 19:46:08.060</td></tr>",
                            "<tr><td>SQLServer:Locks:Lock Waits/sec:Key</td><td>0.00</td><td>2020-10-12 19:46:08.060</td></tr>",
                            "<tr><td>SQLServer:Locks:Number of Deadlocks/sec:Page</td><td>0.00</td><td>2020-10-12 19:46:08.060</td></tr>",
                            "<tr><td>SQLServer:Locks:Lock Waits/sec:Page</td><td>0.00</td><td>2020-10-12 19:46:08.060</td></tr>",
                            "<tr><td>SQLServer:Locks:Number of Deadlocks/sec:Object</td><td>0.00</td><td>2020-10-12 19:46:08.060</td></tr>",
                            "<tr><td>SQLServer:Locks:Lock Waits/sec:Object</td><td>0.00</td><td>2020-10-12 19:46:08.060</td></tr>",
                            "<tr><td>SQLServer:Locks:Number of Deadlocks/sec:File</td><td>0.00</td><td>2020-10-12 19:46:08.060</td></tr>",
                            "<tr><td>SQLServer:Locks:Lock Waits/sec:File</td><td>0.00</td><td>2020-10-12 19:46:08.060</td></tr>",
                            "<tr><td>SQLServer:Locks:Number of Deadlocks/sec:Database</td><td>0.00</td><td>2020-10-12 19:46:08.060</td></tr>",
                            "<tr><td>SQLServer:Locks:Lock Waits/sec:Database</td><td>0.00</td><td>2020-10-12 19:46:08.060</td></tr>",
                            "<tr><td>SQLServer:Locks:Number of Deadlocks/sec:_Total</td><td>0.00</td><td>2020-10-12 19:46:08.060</td></tr>",
                            "<tr><td>SQLServer:Locks:Lock Waits/sec:_Total</td><td>0.00</td><td>2020-10-12 19:46:08.060</td></tr>",
                            "<tr><td>SQLServer:Databases:Transactions/sec:tempdb</td><td>0.64</td><td>2020-10-12 19:46:08.060</td></tr>",
                            "<tr><td>SQLServer:Databases:Transactions/sec:model</td><td>0.00</td><td>2020-10-12 19:46:08.060</td></tr>",
                            "<tr><td>SQLServer:Databases:Transactions/sec:AW1</td><td>0.00</td><td>2020-10-12 19:46:08.060</td></tr>",
                            "<tr><td>SQLServer:Databases:Transactions/sec:AW2</td><td>0.00</td><td>2020-10-12 19:46:08.060</td></tr>",
                            "<tr><td>SQLServer:Databases:Transactions/sec:DBAmaintenance</td><td>0.00</td><td>2020-10-12 19:46:08.060</td></tr>",
                            "<tr><td>SQLServer:Databases:Transactions/sec:mssqlsystemresource</td><td>0.00</td><td>2020-10-12 19:46:08.060</td></tr>",
                            "<tr><td>SQLServer:Databases:Transactions/sec:msdb</td><td>0.00</td><td>2020-10-12 19:46:08.060</td></tr>",
                            "<tr><td>SQLServer:Databases:Transactions/sec:_Total</td><td>0.73</td><td>2020-10-12 19:46:08.060</td></tr>",
                            "<tr><td>SQLServer:Databases:Transactions/sec:master</td><td>0.09</td><td>2020-10-12 19:46:08.060</td></tr>",
                            "<tr><td>SQLServer:Latches:Latch Waits/sec:</td><td>0.18</td><td>2020-10-12 19:46:08.060</td></tr>",
                            "<tr><td>SQLServer:Access Methods:Full Scans/sec:</td><td>0.18</td><td>2020-10-12 19:46:08.060</td></tr>",
                            "<tr><td>SQLServer:Access Methods:Forwarded Records/sec:</td><td>0.00</td><td>2020-10-12 19:46:08.060</td></tr>",
                            "<tr><td>SQLServer:Access Methods:Index Searches/sec:</td><td>37.09</td><td>2020-10-12 19:46:08.060</td></tr>",
                            "<tr><td>SQLServer:SQL Statistics:Batch Requests/sec:</td><td>0.00</td><td>2020-10-12 19:46:08.060</td></tr>",
                            "<tr><td>SQLServer:SQL Statistics:SQL Compilations/sec:</td><td>0.09</td><td>2020-10-12 19:46:08.060</td></tr>",
                            "<tr><td>SQLServer:SQL Statistics:SQL Re-Compilations/sec:</td><td>0.09</td><td>2020-10-12 19:46:08.060</td></tr>",
                            "<tr><td>SQLServer:Memory Manager:Target Server Memory (KB):</td><td>1988944.00</td><td>2020-10-12 19:46:08.060</td></tr>",
                            "<tr><td>SQLServer:Memory Manager:Total Server Memory (KB):</td><td>435344.00</td><td>2020-10-12 19:46:08.060</td></tr>",
                            "</table>"
                        ]
                    }
                }
            ],
            "execution_count": 1
        }
    ]
}