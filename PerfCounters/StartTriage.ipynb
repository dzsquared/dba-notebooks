{
    "metadata": {
        "kernelspec": {
            "name": "SQL",
            "display_name": "SQL",
            "language": "sql"
        },
        "language_info": {
            "name": "sql",
            "version": ""
        }
    },
    "nbformat_minor": 2,
    "nbformat": 4,
    "cells": [
        {
            "cell_type": "markdown",
            "source": [
                "##  Hello, support specialist! Before you do anything drastic or ill-advised, please run and save this notebook to start out triage process."
            ],
            "metadata": {
                "azdata_cell_guid": "c5ee1a6f-5e14-4ed7-8ef4-c3e70e72a1c4"
            }
        },
        {
            "cell_type": "code",
            "source": [
                "\r\n",
                "EXEC sp_BlitzFirst @SinceStartup = 1;"
            ],
            "metadata": {
                "azdata_cell_guid": "eb703dda-155d-4960-b413-3563785c252f"
            },
            "outputs": [
                {
                    "output_type": "display_data",
                    "data": {
                        "text/html": "Setting up configuration variables"
                    },
                    "metadata": {}
                },
                {
                    "output_type": "display_data",
                    "data": {
                        "text/html": "Now starting diagnostic analysis"
                    },
                    "metadata": {}
                },
                {
                    "output_type": "display_data",
                    "data": {
                        "text/html": "Checking for Read intent databases to exclude"
                    },
                    "metadata": {}
                },
                {
                    "output_type": "display_data",
                    "data": {
                        "text/html": "Determining SQL Server version."
                    },
                    "metadata": {}
                },
                {
                    "output_type": "display_data",
                    "data": {
                        "text/html": "Capturing first pass of wait stats, perfmon counters, file stats"
                    },
                    "metadata": {}
                },
                {
                    "output_type": "display_data",
                    "data": {
                        "text/html": "Beginning investigatory queries"
                    },
                    "metadata": {}
                },
                {
                    "output_type": "display_data",
                    "data": {
                        "text/html": "Finished running investigatory queries"
                    },
                    "metadata": {}
                },
                {
                    "output_type": "display_data",
                    "data": {
                        "text/html": "Capturing second pass of wait stats, perfmon counters, file stats"
                    },
                    "metadata": {}
                },
                {
                    "output_type": "display_data",
                    "data": {
                        "text/html": "Analyzing changes between first and second passes of DMVs"
                    },
                    "metadata": {}
                },
                {
                    "output_type": "display_data",
                    "data": {
                        "text/html": "Analysis finished, outputting results"
                    },
                    "metadata": {}
                },
                {
                    "output_type": "display_data",
                    "data": {
                        "text/html": "Total execution time: 00:00:06.713"
                    },
                    "metadata": {}
                },
                {
                    "output_type": "execute_result",
                    "metadata": {},
                    "execution_count": 1,
                    "data": {
                        "application/vnd.dataresource+json": {
                            "schema": {
                                "fields": [
                                    {
                                        "name": "Pattern"
                                    },
                                    {
                                        "name": "Sample Ended"
                                    },
                                    {
                                        "name": "Hours Sample"
                                    },
                                    {
                                        "name": "wait_type"
                                    },
                                    {
                                        "name": "wait_category"
                                    },
                                    {
                                        "name": "Wait Time (Hours)"
                                    },
                                    {
                                        "name": "Per Core Per Hour"
                                    },
                                    {
                                        "name": "Signal Wait Time (Hours)"
                                    },
                                    {
                                        "name": "Percent Signal Waits"
                                    },
                                    {
                                        "name": "Number of Waits"
                                    },
                                    {
                                        "name": "Avg ms Per Wait"
                                    },
                                    {
                                        "name": "URL"
                                    }
                                ]
                            },
                            "data": [
                                {
                                    "0": "WAIT STATS",
                                    "1": "2020-10-12 19:52:39.2800318 -07:00",
                                    "2": "1.3",
                                    "3": "LCK_M_U",
                                    "4": "Lock",
                                    "5": "0.0",
                                    "6": "0.0",
                                    "7": "0.0",
                                    "8": "0.0",
                                    "9": "16",
                                    "10": "4719.5",
                                    "11": "https://www.sqlskills.com/help/waits/lck_m_u/"
                                },
                                {
                                    "0": "WAIT STATS",
                                    "1": "2020-10-12 19:52:39.2800318 -07:00",
                                    "2": "1.3",
                                    "3": "PREEMPTIVE_XE_GETTARGETSTATE",
                                    "4": "Preemptive",
                                    "5": "0.0",
                                    "6": "0.0",
                                    "7": "0.0",
                                    "8": "0.0",
                                    "9": "12283",
                                    "10": "1.8",
                                    "11": "https://www.sqlskills.com/help/waits/preemptive_xe_gettargetstate/"
                                },
                                {
                                    "0": "WAIT STATS",
                                    "1": "2020-10-12 19:52:39.2800318 -07:00",
                                    "2": "1.3",
                                    "3": "ASYNC_NETWORK_IO",
                                    "4": "Network IO",
                                    "5": "0.0",
                                    "6": "0.0",
                                    "7": "0.0",
                                    "8": "28.0",
                                    "9": "84978",
                                    "10": "0.1",
                                    "11": "https://www.sqlskills.com/help/waits/async_network_io/"
                                },
                                {
                                    "0": "WAIT STATS",
                                    "1": "2020-10-12 19:52:39.2800318 -07:00",
                                    "2": "1.3",
                                    "3": "CXPACKET",
                                    "4": "Parallelism",
                                    "5": "0.0",
                                    "6": "0.0",
                                    "7": "0.0",
                                    "8": "0.0",
                                    "9": "13",
                                    "10": "210.3",
                                    "11": "https://www.sqlskills.com/help/waits/cxpacket/"
                                },
                                {
                                    "0": "WAIT STATS",
                                    "1": "2020-10-12 19:52:39.2800318 -07:00",
                                    "2": "1.3",
                                    "3": "MEMORY_ALLOCATION_EXT",
                                    "4": "Memory",
                                    "5": "0.0",
                                    "6": "0.0",
                                    "7": "0.0",
                                    "8": "0.0",
                                    "9": "313509",
                                    "10": "0.0",
                                    "11": "https://www.sqlskills.com/help/waits/memory_allocation_ext/"
                                },
                                {
                                    "0": "WAIT STATS",
                                    "1": "2020-10-12 19:52:39.2800318 -07:00",
                                    "2": "1.3",
                                    "3": "PAGEIOLATCH_SH",
                                    "4": "Buffer IO",
                                    "5": "0.0",
                                    "6": "0.0",
                                    "7": "0.0",
                                    "8": "0.0",
                                    "9": "818",
                                    "10": "0.8",
                                    "11": "https://www.sqlskills.com/help/waits/pageiolatch_sh/"
                                },
                                {
                                    "0": "WAIT STATS",
                                    "1": "2020-10-12 19:52:39.2800318 -07:00",
                                    "2": "1.3",
                                    "3": "PREEMPTIVE_OS_AUTHENTICATIONOPS",
                                    "4": "Preemptive",
                                    "5": "0.0",
                                    "6": "0.0",
                                    "7": "0.0",
                                    "8": "0.0",
                                    "9": "1183",
                                    "10": "0.5",
                                    "11": "https://www.sqlskills.com/help/waits/preemptive_os_authenticationops/"
                                },
                                {
                                    "0": "WAIT STATS",
                                    "1": "2020-10-12 19:52:39.2800318 -07:00",
                                    "2": "1.3",
                                    "3": "LCK_M_S",
                                    "4": "Lock",
                                    "5": "0.0",
                                    "6": "0.0",
                                    "7": "0.0",
                                    "8": "0.0",
                                    "9": "6",
                                    "10": "74.7",
                                    "11": "https://www.sqlskills.com/help/waits/lck_m_s/"
                                },
                                {
                                    "0": "WAIT STATS",
                                    "1": "2020-10-12 19:52:39.2800318 -07:00",
                                    "2": "1.3",
                                    "3": "PREEMPTIVE_OS_FILEOPS",
                                    "4": "Preemptive",
                                    "5": "0.0",
                                    "6": "0.0",
                                    "7": "0.0",
                                    "8": "0.0",
                                    "9": "202",
                                    "10": "1.5",
                                    "11": "https://www.sqlskills.com/help/waits/preemptive_os_fileops/"
                                },
                                {
                                    "0": "WAIT STATS",
                                    "1": "2020-10-12 19:52:39.2800318 -07:00",
                                    "2": "1.3",
                                    "3": "PREEMPTIVE_OS_QUERYREGISTRY",
                                    "4": "Preemptive",
                                    "5": "0.0",
                                    "6": "0.0",
                                    "7": "0.0",
                                    "8": "0.0",
                                    "9": "1090",
                                    "10": "0.2",
                                    "11": "https://www.sqlskills.com/help/waits/preemptive_os_queryregistry/"
                                },
                                {
                                    "0": "WAIT STATS",
                                    "1": "2020-10-12 19:52:39.2800318 -07:00",
                                    "2": "1.3",
                                    "3": "CHKPT",
                                    "4": "Tran Log IO",
                                    "5": "0.0",
                                    "6": "0.0",
                                    "7": "0.0",
                                    "8": "0.0",
                                    "9": "1",
                                    "10": "243.0",
                                    "11": "https://www.sqlskills.com/help/waits/chkpt/"
                                },
                                {
                                    "0": "WAIT STATS",
                                    "1": "2020-10-12 19:52:39.2800318 -07:00",
                                    "2": "1.3",
                                    "3": "SLEEP_DBSTARTUP",
                                    "4": "Idle",
                                    "5": "0.0",
                                    "6": "0.0",
                                    "7": "0.0",
                                    "8": "0.0",
                                    "9": "3",
                                    "10": "74.0",
                                    "11": "https://www.sqlskills.com/help/waits/sleep_dbstartup/"
                                },
                                {
                                    "0": "WAIT STATS",
                                    "1": "2020-10-12 19:52:39.2800318 -07:00",
                                    "2": "1.3",
                                    "3": "SLEEP_DCOMSTARTUP",
                                    "4": "Idle",
                                    "5": "0.0",
                                    "6": "0.0",
                                    "7": "0.0",
                                    "8": "0.0",
                                    "9": "1",
                                    "10": "236.0",
                                    "11": "https://www.sqlskills.com/help/waits/sleep_dcomstartup/"
                                },
                                {
                                    "0": "WAIT STATS",
                                    "1": "2020-10-12 19:52:39.2800318 -07:00",
                                    "2": "1.3",
                                    "3": "SLEEP_MASTERDBREADY",
                                    "4": "Idle",
                                    "5": "0.0",
                                    "6": "0.0",
                                    "7": "0.0",
                                    "8": "0.0",
                                    "9": "1",
                                    "10": "227.0",
                                    "11": "https://www.sqlskills.com/help/waits/sleep_masterdbready/"
                                },
                                {
                                    "0": "WAIT STATS",
                                    "1": "2020-10-12 19:52:39.2800318 -07:00",
                                    "2": "1.3",
                                    "3": "SLEEP_MASTERUPGRADED",
                                    "4": "Idle",
                                    "5": "0.0",
                                    "6": "0.0",
                                    "7": "0.0",
                                    "8": "0.0",
                                    "9": "1",
                                    "10": "68.0",
                                    "11": "https://www.sqlskills.com/help/waits/sleep_masterupgraded/"
                                },
                                {
                                    "0": "WAIT STATS",
                                    "1": "2020-10-12 19:52:39.2800318 -07:00",
                                    "2": "1.3",
                                    "3": "SOS_SCHEDULER_YIELD",
                                    "4": "CPU",
                                    "5": "0.0",
                                    "6": "0.0",
                                    "7": "0.0",
                                    "8": "0.0",
                                    "9": "3919",
                                    "10": "0.0",
                                    "11": "https://www.sqlskills.com/help/waits/sos_scheduler_yield/"
                                },
                                {
                                    "0": "WAIT STATS",
                                    "1": "2020-10-12 19:52:39.2800318 -07:00",
                                    "2": "1.3",
                                    "3": "WRITELOG",
                                    "4": "Tran Log IO",
                                    "5": "0.0",
                                    "6": "0.0",
                                    "7": "0.0",
                                    "8": "0.0",
                                    "9": "76",
                                    "10": "0.8",
                                    "11": "https://www.sqlskills.com/help/waits/writelog/"
                                },
                                {
                                    "0": "WAIT STATS",
                                    "1": "2020-10-12 19:52:39.2800318 -07:00",
                                    "2": "1.3",
                                    "3": "IO_COMPLETION",
                                    "4": "Other Disk IO",
                                    "5": "0.0",
                                    "6": "0.0",
                                    "7": "0.0",
                                    "8": "0.0",
                                    "9": "113",
                                    "10": "1.0",
                                    "11": "https://www.sqlskills.com/help/waits/io_completion/"
                                },
                                {
                                    "0": "WAIT STATS",
                                    "1": "2020-10-12 19:52:39.2800318 -07:00",
                                    "2": "1.3",
                                    "3": "ASYNC_IO_COMPLETION",
                                    "4": "Other Disk IO",
                                    "5": "0.0",
                                    "6": "0.0",
                                    "7": "0.0",
                                    "8": "0.0",
                                    "9": "2",
                                    "10": "37.5",
                                    "11": "https://www.sqlskills.com/help/waits/async_io_completion/"
                                },
                                {
                                    "0": "WAIT STATS",
                                    "1": "2020-10-12 19:52:39.2800318 -07:00",
                                    "2": "1.3",
                                    "3": "PREEMPTIVE_OS_AUTHORIZATIONOPS",
                                    "4": "Preemptive",
                                    "5": "0.0",
                                    "6": "0.0",
                                    "7": "0.0",
                                    "8": "0.0",
                                    "9": "249",
                                    "10": "0.2",
                                    "11": "https://www.sqlskills.com/help/waits/preemptive_os_authorizationops/"
                                },
                                {
                                    "0": "WAIT STATS",
                                    "1": "2020-10-12 19:52:39.2800318 -07:00",
                                    "2": "1.3",
                                    "3": "PREEMPTIVE_OS_CRYPTOPS",
                                    "4": "Preemptive",
                                    "5": "0.0",
                                    "6": "0.0",
                                    "7": "0.0",
                                    "8": "0.0",
                                    "9": "34",
                                    "10": "4.4",
                                    "11": "https://www.sqlskills.com/help/waits/preemptive_os_cryptops/"
                                },
                                {
                                    "0": "WAIT STATS",
                                    "1": "2020-10-12 19:52:39.2800318 -07:00",
                                    "2": "1.3",
                                    "3": "PREEMPTIVE_OS_DELETESECURITYCONTEXT",
                                    "4": "Preemptive",
                                    "5": "0.0",
                                    "6": "0.0",
                                    "7": "0.0",
                                    "8": "0.0",
                                    "9": "188",
                                    "10": "0.6",
                                    "11": "https://www.sqlskills.com/help/waits/preemptive_os_deletesecuritycontext/"
                                },
                                {
                                    "0": "WAIT STATS",
                                    "1": "2020-10-12 19:52:39.2800318 -07:00",
                                    "2": "1.3",
                                    "3": "PREEMPTIVE_OS_DISCONNECTNAMEDPIPE",
                                    "4": "Preemptive",
                                    "5": "0.0",
                                    "6": "0.0",
                                    "7": "0.0",
                                    "8": "0.0",
                                    "9": "188",
                                    "10": "0.3",
                                    "11": "https://www.sqlskills.com/help/waits/preemptive_os_disconnectnamedpipe/"
                                },
                                {
                                    "0": "WAIT STATS",
                                    "1": "2020-10-12 19:52:39.2800318 -07:00",
                                    "2": "1.3",
                                    "3": "PREEMPTIVE_OS_VERIFYTRUST",
                                    "4": "Preemptive",
                                    "5": "0.0",
                                    "6": "0.0",
                                    "7": "0.0",
                                    "8": "0.0",
                                    "9": "4",
                                    "10": "13.5",
                                    "11": "https://www.sqlskills.com/help/waits/preemptive_os_verifytrust/"
                                },
                                {
                                    "0": "WAIT STATS",
                                    "1": "2020-10-12 19:52:39.2800318 -07:00",
                                    "2": "1.3",
                                    "3": "PREEMPTIVE_XE_CALLBACKEXECUTE",
                                    "4": "Preemptive",
                                    "5": "0.0",
                                    "6": "0.0",
                                    "7": "0.0",
                                    "8": "0.0",
                                    "9": "2497",
                                    "10": "0.1",
                                    "11": "https://www.sqlskills.com/help/waits/preemptive_xe_callbackexecute/"
                                },
                                {
                                    "0": "WAIT STATS",
                                    "1": "2020-10-12 19:52:39.2800318 -07:00",
                                    "2": "1.3",
                                    "3": "SLEEP_BPOOL_FLUSH",
                                    "4": "Idle",
                                    "5": "0.0",
                                    "6": "0.0",
                                    "7": "0.0",
                                    "8": "0.0",
                                    "9": "6",
                                    "10": "14.7",
                                    "11": "https://www.sqlskills.com/help/waits/sleep_bpool_flush/"
                                },
                                {
                                    "0": "WAIT STATS",
                                    "1": "2020-10-12 19:52:39.2800318 -07:00",
                                    "2": "1.3",
                                    "3": "PREEMPTIVE_OS_WRITEFILE",
                                    "4": "Preemptive",
                                    "5": "0.0",
                                    "6": "0.0",
                                    "7": "0.0",
                                    "8": "0.0",
                                    "9": "25",
                                    "10": "1.8",
                                    "11": "https://www.sqlskills.com/help/waits/preemptive_os_writefile/"
                                },
                                {
                                    "0": "WAIT STATS",
                                    "1": "2020-10-12 19:52:39.2800318 -07:00",
                                    "2": "1.3",
                                    "3": "PREEMPTIVE_OS_WRITEFILEGATHER",
                                    "4": "Preemptive",
                                    "5": "0.0",
                                    "6": "0.0",
                                    "7": "0.0",
                                    "8": "0.0",
                                    "9": "7",
                                    "10": "0.9",
                                    "11": "https://www.sqlskills.com/help/waits/preemptive_os_writefilegather/"
                                },
                                {
                                    "0": "WAIT STATS",
                                    "1": "2020-10-12 19:52:39.2800318 -07:00",
                                    "2": "1.3",
                                    "3": "PREEMPTIVE_XE_SESSIONCOMMIT",
                                    "4": "Preemptive",
                                    "5": "0.0",
                                    "6": "0.0",
                                    "7": "0.0",
                                    "8": "0.0",
                                    "9": "49",
                                    "10": "0.1",
                                    "11": "https://www.sqlskills.com/help/waits/preemptive_xe_sessioncommit/"
                                },
                                {
                                    "0": "WAIT STATS",
                                    "1": "2020-10-12 19:52:39.2800318 -07:00",
                                    "2": "1.3",
                                    "3": "PREEMPTIVE_XE_TARGETFINALIZE",
                                    "4": "Preemptive",
                                    "5": "0.0",
                                    "6": "0.0",
                                    "7": "0.0",
                                    "8": "0.0",
                                    "9": "15",
                                    "10": "0.1",
                                    "11": "https://www.sqlskills.com/help/waits/preemptive_xe_targetfinalize/"
                                },
                                {
                                    "0": "WAIT STATS",
                                    "1": "2020-10-12 19:52:39.2800318 -07:00",
                                    "2": "1.3",
                                    "3": "PREEMPTIVE_XE_TARGETINIT",
                                    "4": "Preemptive",
                                    "5": "0.0",
                                    "6": "0.0",
                                    "7": "0.0",
                                    "8": "0.0",
                                    "9": "20",
                                    "10": "0.3",
                                    "11": "https://www.sqlskills.com/help/waits/preemptive_xe_targetinit/"
                                },
                                {
                                    "0": "WAIT STATS",
                                    "1": "2020-10-12 19:52:39.2800318 -07:00",
                                    "2": "1.3",
                                    "3": "RESERVED_MEMORY_ALLOCATION_EXT",
                                    "4": "Memory",
                                    "5": "0.0",
                                    "6": "0.0",
                                    "7": "0.0",
                                    "8": "0.0",
                                    "9": "47603",
                                    "10": "0.0",
                                    "11": "https://www.sqlskills.com/help/waits/reserved_memory_allocation_ext/"
                                },
                                {
                                    "0": "WAIT STATS",
                                    "1": "2020-10-12 19:52:39.2800318 -07:00",
                                    "2": "1.3",
                                    "3": "PREEMPTIVE_OS_REPORTEVENT",
                                    "4": "Preemptive",
                                    "5": "0.0",
                                    "6": "0.0",
                                    "7": "0.0",
                                    "8": "0.0",
                                    "9": "50",
                                    "10": "0.2",
                                    "11": "https://www.sqlskills.com/help/waits/preemptive_os_reportevent/"
                                },
                                {
                                    "0": "WAIT STATS",
                                    "1": "2020-10-12 19:52:39.2800318 -07:00",
                                    "2": "1.3",
                                    "3": "PREEMPTIVE_OS_REVERTTOSELF",
                                    "4": "Preemptive",
                                    "5": "0.0",
                                    "6": "0.0",
                                    "7": "0.0",
                                    "8": "0.0",
                                    "9": "197",
                                    "10": "0.2",
                                    "11": "https://www.sqlskills.com/help/waits/preemptive_os_reverttoself/"
                                },
                                {
                                    "0": "WAIT STATS",
                                    "1": "2020-10-12 19:52:39.2800318 -07:00",
                                    "2": "1.3",
                                    "3": "PREEMPTIVE_OS_GETFILEATTRIBUTES",
                                    "4": "Preemptive",
                                    "5": "0.0",
                                    "6": "0.0",
                                    "7": "0.0",
                                    "8": "0.0",
                                    "9": "52",
                                    "10": "0.3",
                                    "11": "https://www.sqlskills.com/help/waits/preemptive_os_getfileattributes/"
                                },
                                {
                                    "0": "WAIT STATS",
                                    "1": "2020-10-12 19:52:39.2800318 -07:00",
                                    "2": "1.3",
                                    "3": "PREEMPTIVE_OS_LIBRARYOPS",
                                    "4": "Preemptive",
                                    "5": "0.0",
                                    "6": "0.0",
                                    "7": "0.0",
                                    "8": "0.0",
                                    "9": "1",
                                    "10": "1.0",
                                    "11": "https://www.sqlskills.com/help/waits/preemptive_os_libraryops/"
                                },
                                {
                                    "0": "WAIT STATS",
                                    "1": "2020-10-12 19:52:39.2800318 -07:00",
                                    "2": "1.3",
                                    "3": "PREEMPTIVE_OS_LOADLIBRARY",
                                    "4": "Preemptive",
                                    "5": "0.0",
                                    "6": "0.0",
                                    "7": "0.0",
                                    "8": "0.0",
                                    "9": "3",
                                    "10": "5.7",
                                    "11": "https://www.sqlskills.com/help/waits/preemptive_os_loadlibrary/"
                                },
                                {
                                    "0": "WAIT STATS",
                                    "1": "2020-10-12 19:52:39.2800318 -07:00",
                                    "2": "1.3",
                                    "3": "PREEMPTIVE_OS_LOOKUPACCOUNTSID",
                                    "4": "Preemptive",
                                    "5": "0.0",
                                    "6": "0.0",
                                    "7": "0.0",
                                    "8": "0.0",
                                    "9": "5",
                                    "10": "0.2",
                                    "11": "https://www.sqlskills.com/help/waits/preemptive_os_lookupaccountsid/"
                                },
                                {
                                    "0": "WAIT STATS",
                                    "1": "2020-10-12 19:52:39.2800318 -07:00",
                                    "2": "1.3",
                                    "3": "PREEMPTIVE_OS_QUERYCONTEXTATTRIBUTES",
                                    "4": "Preemptive",
                                    "5": "0.0",
                                    "6": "0.0",
                                    "7": "0.0",
                                    "8": "0.0",
                                    "9": "197",
                                    "10": "0.1",
                                    "11": "https://www.sqlskills.com/help/waits/preemptive_os_querycontextattributes/"
                                },
                                {
                                    "0": "WAIT STATS",
                                    "1": "2020-10-12 19:52:39.2800318 -07:00",
                                    "2": "1.3",
                                    "3": "PREEMPTIVE_OS_CLOSEHANDLE",
                                    "4": "Preemptive",
                                    "5": "0.0",
                                    "6": "0.0",
                                    "7": "0.0",
                                    "8": "0.0",
                                    "9": "7",
                                    "10": "0.7",
                                    "11": "https://www.sqlskills.com/help/waits/preemptive_os_closehandle/"
                                },
                                {
                                    "0": "WAIT STATS",
                                    "1": "2020-10-12 19:52:39.2800318 -07:00",
                                    "2": "1.3",
                                    "3": "PREEMPTIVE_OS_CREATEFILE",
                                    "4": "Preemptive",
                                    "5": "0.0",
                                    "6": "0.0",
                                    "7": "0.0",
                                    "8": "0.0",
                                    "9": "67",
                                    "10": "0.6",
                                    "11": "https://www.sqlskills.com/help/waits/preemptive_os_createfile/"
                                },
                                {
                                    "0": "WAIT STATS",
                                    "1": "2020-10-12 19:52:39.2800318 -07:00",
                                    "2": "1.3",
                                    "3": "PREEMPTIVE_OS_CRYPTACQUIRECONTEXT",
                                    "4": "Preemptive",
                                    "5": "0.0",
                                    "6": "0.0",
                                    "7": "0.0",
                                    "8": "0.0",
                                    "9": "53",
                                    "10": "0.2",
                                    "11": "https://www.sqlskills.com/help/waits/preemptive_os_cryptacquirecontext/"
                                },
                                {
                                    "0": "WAIT STATS",
                                    "1": "2020-10-12 19:52:39.2800318 -07:00",
                                    "2": "1.3",
                                    "3": "PAGEIOLATCH_UP",
                                    "4": "Buffer IO",
                                    "5": "0.0",
                                    "6": "0.0",
                                    "7": "0.0",
                                    "8": "0.0",
                                    "9": "10",
                                    "10": "0.1",
                                    "11": "https://www.sqlskills.com/help/waits/pageiolatch_up/"
                                },
                                {
                                    "0": "WAIT STATS",
                                    "1": "2020-10-12 19:52:39.2800318 -07:00",
                                    "2": "1.3",
                                    "3": "PAGELATCH_EX",
                                    "4": "Buffer Latch",
                                    "5": "0.0",
                                    "6": "0.0",
                                    "7": "0.0",
                                    "8": "0.0",
                                    "9": "112",
                                    "10": "0.0",
                                    "11": "https://www.sqlskills.com/help/waits/pagelatch_ex/"
                                },
                                {
                                    "0": "WAIT STATS",
                                    "1": "2020-10-12 19:52:39.2800318 -07:00",
                                    "2": "1.3",
                                    "3": "PREEMPTIVE_FILESIZEGET",
                                    "4": "Preemptive",
                                    "5": "0.0",
                                    "6": "0.0",
                                    "7": "0.0",
                                    "8": "0.0",
                                    "9": "37",
                                    "10": "0.3",
                                    "11": "https://www.sqlskills.com/help/waits/preemptive_filesizeget/"
                                },
                                {
                                    "0": "WAIT STATS",
                                    "1": "2020-10-12 19:52:39.2800318 -07:00",
                                    "2": "1.3",
                                    "3": "PAGEIOLATCH_EX",
                                    "4": "Buffer IO",
                                    "5": "0.0",
                                    "6": "0.0",
                                    "7": "0.0",
                                    "8": "0.0",
                                    "9": "20",
                                    "10": "0.4",
                                    "11": "https://www.sqlskills.com/help/waits/pageiolatch_ex/"
                                },
                                {
                                    "0": "WAIT STATS",
                                    "1": "2020-10-12 19:52:39.2800318 -07:00",
                                    "2": "1.3",
                                    "3": "CMEMTHREAD",
                                    "4": "Memory",
                                    "5": "0.0",
                                    "6": "0.0",
                                    "7": "0.0",
                                    "8": "0.0",
                                    "9": "2",
                                    "10": "1.0",
                                    "11": "https://www.sqlskills.com/help/waits/cmemthread/"
                                },
                                {
                                    "0": "WAIT STATS",
                                    "1": "2020-10-12 19:52:39.2800318 -07:00",
                                    "2": "1.3",
                                    "3": "THREADPOOL",
                                    "4": "Worker Thread",
                                    "5": "0.0",
                                    "6": "0.0",
                                    "7": "0.0",
                                    "8": "0.0",
                                    "9": "37",
                                    "10": "0.9",
                                    "11": "https://www.sqlskills.com/help/waits/threadpool/"
                                },
                                {
                                    "0": "WAIT STATS",
                                    "1": "2020-10-12 19:52:39.2800318 -07:00",
                                    "2": "1.3",
                                    "3": "WRITE_COMPLETION",
                                    "4": "Other Disk IO",
                                    "5": "0.0",
                                    "6": "0.0",
                                    "7": "0.0",
                                    "8": "0.0",
                                    "9": "78",
                                    "10": "0.4",
                                    "11": "https://www.sqlskills.com/help/waits/write_completion/"
                                }
                            ]
                        },
                        "text/html": [
                            "<table>",
                            "<tr><th>Pattern</th><th>Sample Ended</th><th>Hours Sample</th><th>wait_type</th><th>wait_category</th><th>Wait Time (Hours)</th><th>Per Core Per Hour</th><th>Signal Wait Time (Hours)</th><th>Percent Signal Waits</th><th>Number of Waits</th><th>Avg ms Per Wait</th><th>URL</th></tr>",
                            "<tr><td>WAIT STATS</td><td>2020-10-12 19:52:39.2800318 -07:00</td><td>1.3</td><td>LCK_M_U</td><td>Lock</td><td>0.0</td><td>0.0</td><td>0.0</td><td>0.0</td><td>16</td><td>4719.5</td><td>https://www.sqlskills.com/help/waits/lck_m_u/</td></tr>",
                            "<tr><td>WAIT STATS</td><td>2020-10-12 19:52:39.2800318 -07:00</td><td>1.3</td><td>PREEMPTIVE_XE_GETTARGETSTATE</td><td>Preemptive</td><td>0.0</td><td>0.0</td><td>0.0</td><td>0.0</td><td>12283</td><td>1.8</td><td>https://www.sqlskills.com/help/waits/preemptive_xe_gettargetstate/</td></tr>",
                            "<tr><td>WAIT STATS</td><td>2020-10-12 19:52:39.2800318 -07:00</td><td>1.3</td><td>ASYNC_NETWORK_IO</td><td>Network IO</td><td>0.0</td><td>0.0</td><td>0.0</td><td>28.0</td><td>84978</td><td>0.1</td><td>https://www.sqlskills.com/help/waits/async_network_io/</td></tr>",
                            "<tr><td>WAIT STATS</td><td>2020-10-12 19:52:39.2800318 -07:00</td><td>1.3</td><td>CXPACKET</td><td>Parallelism</td><td>0.0</td><td>0.0</td><td>0.0</td><td>0.0</td><td>13</td><td>210.3</td><td>https://www.sqlskills.com/help/waits/cxpacket/</td></tr>",
                            "<tr><td>WAIT STATS</td><td>2020-10-12 19:52:39.2800318 -07:00</td><td>1.3</td><td>MEMORY_ALLOCATION_EXT</td><td>Memory</td><td>0.0</td><td>0.0</td><td>0.0</td><td>0.0</td><td>313509</td><td>0.0</td><td>https://www.sqlskills.com/help/waits/memory_allocation_ext/</td></tr>",
                            "<tr><td>WAIT STATS</td><td>2020-10-12 19:52:39.2800318 -07:00</td><td>1.3</td><td>PAGEIOLATCH_SH</td><td>Buffer IO</td><td>0.0</td><td>0.0</td><td>0.0</td><td>0.0</td><td>818</td><td>0.8</td><td>https://www.sqlskills.com/help/waits/pageiolatch_sh/</td></tr>",
                            "<tr><td>WAIT STATS</td><td>2020-10-12 19:52:39.2800318 -07:00</td><td>1.3</td><td>PREEMPTIVE_OS_AUTHENTICATIONOPS</td><td>Preemptive</td><td>0.0</td><td>0.0</td><td>0.0</td><td>0.0</td><td>1183</td><td>0.5</td><td>https://www.sqlskills.com/help/waits/preemptive_os_authenticationops/</td></tr>",
                            "<tr><td>WAIT STATS</td><td>2020-10-12 19:52:39.2800318 -07:00</td><td>1.3</td><td>LCK_M_S</td><td>Lock</td><td>0.0</td><td>0.0</td><td>0.0</td><td>0.0</td><td>6</td><td>74.7</td><td>https://www.sqlskills.com/help/waits/lck_m_s/</td></tr>",
                            "<tr><td>WAIT STATS</td><td>2020-10-12 19:52:39.2800318 -07:00</td><td>1.3</td><td>PREEMPTIVE_OS_FILEOPS</td><td>Preemptive</td><td>0.0</td><td>0.0</td><td>0.0</td><td>0.0</td><td>202</td><td>1.5</td><td>https://www.sqlskills.com/help/waits/preemptive_os_fileops/</td></tr>",
                            "<tr><td>WAIT STATS</td><td>2020-10-12 19:52:39.2800318 -07:00</td><td>1.3</td><td>PREEMPTIVE_OS_QUERYREGISTRY</td><td>Preemptive</td><td>0.0</td><td>0.0</td><td>0.0</td><td>0.0</td><td>1090</td><td>0.2</td><td>https://www.sqlskills.com/help/waits/preemptive_os_queryregistry/</td></tr>",
                            "<tr><td>WAIT STATS</td><td>2020-10-12 19:52:39.2800318 -07:00</td><td>1.3</td><td>CHKPT</td><td>Tran Log IO</td><td>0.0</td><td>0.0</td><td>0.0</td><td>0.0</td><td>1</td><td>243.0</td><td>https://www.sqlskills.com/help/waits/chkpt/</td></tr>",
                            "<tr><td>WAIT STATS</td><td>2020-10-12 19:52:39.2800318 -07:00</td><td>1.3</td><td>SLEEP_DBSTARTUP</td><td>Idle</td><td>0.0</td><td>0.0</td><td>0.0</td><td>0.0</td><td>3</td><td>74.0</td><td>https://www.sqlskills.com/help/waits/sleep_dbstartup/</td></tr>",
                            "<tr><td>WAIT STATS</td><td>2020-10-12 19:52:39.2800318 -07:00</td><td>1.3</td><td>SLEEP_DCOMSTARTUP</td><td>Idle</td><td>0.0</td><td>0.0</td><td>0.0</td><td>0.0</td><td>1</td><td>236.0</td><td>https://www.sqlskills.com/help/waits/sleep_dcomstartup/</td></tr>",
                            "<tr><td>WAIT STATS</td><td>2020-10-12 19:52:39.2800318 -07:00</td><td>1.3</td><td>SLEEP_MASTERDBREADY</td><td>Idle</td><td>0.0</td><td>0.0</td><td>0.0</td><td>0.0</td><td>1</td><td>227.0</td><td>https://www.sqlskills.com/help/waits/sleep_masterdbready/</td></tr>",
                            "<tr><td>WAIT STATS</td><td>2020-10-12 19:52:39.2800318 -07:00</td><td>1.3</td><td>SLEEP_MASTERUPGRADED</td><td>Idle</td><td>0.0</td><td>0.0</td><td>0.0</td><td>0.0</td><td>1</td><td>68.0</td><td>https://www.sqlskills.com/help/waits/sleep_masterupgraded/</td></tr>",
                            "<tr><td>WAIT STATS</td><td>2020-10-12 19:52:39.2800318 -07:00</td><td>1.3</td><td>SOS_SCHEDULER_YIELD</td><td>CPU</td><td>0.0</td><td>0.0</td><td>0.0</td><td>0.0</td><td>3919</td><td>0.0</td><td>https://www.sqlskills.com/help/waits/sos_scheduler_yield/</td></tr>",
                            "<tr><td>WAIT STATS</td><td>2020-10-12 19:52:39.2800318 -07:00</td><td>1.3</td><td>WRITELOG</td><td>Tran Log IO</td><td>0.0</td><td>0.0</td><td>0.0</td><td>0.0</td><td>76</td><td>0.8</td><td>https://www.sqlskills.com/help/waits/writelog/</td></tr>",
                            "<tr><td>WAIT STATS</td><td>2020-10-12 19:52:39.2800318 -07:00</td><td>1.3</td><td>IO_COMPLETION</td><td>Other Disk IO</td><td>0.0</td><td>0.0</td><td>0.0</td><td>0.0</td><td>113</td><td>1.0</td><td>https://www.sqlskills.com/help/waits/io_completion/</td></tr>",
                            "<tr><td>WAIT STATS</td><td>2020-10-12 19:52:39.2800318 -07:00</td><td>1.3</td><td>ASYNC_IO_COMPLETION</td><td>Other Disk IO</td><td>0.0</td><td>0.0</td><td>0.0</td><td>0.0</td><td>2</td><td>37.5</td><td>https://www.sqlskills.com/help/waits/async_io_completion/</td></tr>",
                            "<tr><td>WAIT STATS</td><td>2020-10-12 19:52:39.2800318 -07:00</td><td>1.3</td><td>PREEMPTIVE_OS_AUTHORIZATIONOPS</td><td>Preemptive</td><td>0.0</td><td>0.0</td><td>0.0</td><td>0.0</td><td>249</td><td>0.2</td><td>https://www.sqlskills.com/help/waits/preemptive_os_authorizationops/</td></tr>",
                            "<tr><td>WAIT STATS</td><td>2020-10-12 19:52:39.2800318 -07:00</td><td>1.3</td><td>PREEMPTIVE_OS_CRYPTOPS</td><td>Preemptive</td><td>0.0</td><td>0.0</td><td>0.0</td><td>0.0</td><td>34</td><td>4.4</td><td>https://www.sqlskills.com/help/waits/preemptive_os_cryptops/</td></tr>",
                            "<tr><td>WAIT STATS</td><td>2020-10-12 19:52:39.2800318 -07:00</td><td>1.3</td><td>PREEMPTIVE_OS_DELETESECURITYCONTEXT</td><td>Preemptive</td><td>0.0</td><td>0.0</td><td>0.0</td><td>0.0</td><td>188</td><td>0.6</td><td>https://www.sqlskills.com/help/waits/preemptive_os_deletesecuritycontext/</td></tr>",
                            "<tr><td>WAIT STATS</td><td>2020-10-12 19:52:39.2800318 -07:00</td><td>1.3</td><td>PREEMPTIVE_OS_DISCONNECTNAMEDPIPE</td><td>Preemptive</td><td>0.0</td><td>0.0</td><td>0.0</td><td>0.0</td><td>188</td><td>0.3</td><td>https://www.sqlskills.com/help/waits/preemptive_os_disconnectnamedpipe/</td></tr>",
                            "<tr><td>WAIT STATS</td><td>2020-10-12 19:52:39.2800318 -07:00</td><td>1.3</td><td>PREEMPTIVE_OS_VERIFYTRUST</td><td>Preemptive</td><td>0.0</td><td>0.0</td><td>0.0</td><td>0.0</td><td>4</td><td>13.5</td><td>https://www.sqlskills.com/help/waits/preemptive_os_verifytrust/</td></tr>",
                            "<tr><td>WAIT STATS</td><td>2020-10-12 19:52:39.2800318 -07:00</td><td>1.3</td><td>PREEMPTIVE_XE_CALLBACKEXECUTE</td><td>Preemptive</td><td>0.0</td><td>0.0</td><td>0.0</td><td>0.0</td><td>2497</td><td>0.1</td><td>https://www.sqlskills.com/help/waits/preemptive_xe_callbackexecute/</td></tr>",
                            "<tr><td>WAIT STATS</td><td>2020-10-12 19:52:39.2800318 -07:00</td><td>1.3</td><td>SLEEP_BPOOL_FLUSH</td><td>Idle</td><td>0.0</td><td>0.0</td><td>0.0</td><td>0.0</td><td>6</td><td>14.7</td><td>https://www.sqlskills.com/help/waits/sleep_bpool_flush/</td></tr>",
                            "<tr><td>WAIT STATS</td><td>2020-10-12 19:52:39.2800318 -07:00</td><td>1.3</td><td>PREEMPTIVE_OS_WRITEFILE</td><td>Preemptive</td><td>0.0</td><td>0.0</td><td>0.0</td><td>0.0</td><td>25</td><td>1.8</td><td>https://www.sqlskills.com/help/waits/preemptive_os_writefile/</td></tr>",
                            "<tr><td>WAIT STATS</td><td>2020-10-12 19:52:39.2800318 -07:00</td><td>1.3</td><td>PREEMPTIVE_OS_WRITEFILEGATHER</td><td>Preemptive</td><td>0.0</td><td>0.0</td><td>0.0</td><td>0.0</td><td>7</td><td>0.9</td><td>https://www.sqlskills.com/help/waits/preemptive_os_writefilegather/</td></tr>",
                            "<tr><td>WAIT STATS</td><td>2020-10-12 19:52:39.2800318 -07:00</td><td>1.3</td><td>PREEMPTIVE_XE_SESSIONCOMMIT</td><td>Preemptive</td><td>0.0</td><td>0.0</td><td>0.0</td><td>0.0</td><td>49</td><td>0.1</td><td>https://www.sqlskills.com/help/waits/preemptive_xe_sessioncommit/</td></tr>",
                            "<tr><td>WAIT STATS</td><td>2020-10-12 19:52:39.2800318 -07:00</td><td>1.3</td><td>PREEMPTIVE_XE_TARGETFINALIZE</td><td>Preemptive</td><td>0.0</td><td>0.0</td><td>0.0</td><td>0.0</td><td>15</td><td>0.1</td><td>https://www.sqlskills.com/help/waits/preemptive_xe_targetfinalize/</td></tr>",
                            "<tr><td>WAIT STATS</td><td>2020-10-12 19:52:39.2800318 -07:00</td><td>1.3</td><td>PREEMPTIVE_XE_TARGETINIT</td><td>Preemptive</td><td>0.0</td><td>0.0</td><td>0.0</td><td>0.0</td><td>20</td><td>0.3</td><td>https://www.sqlskills.com/help/waits/preemptive_xe_targetinit/</td></tr>",
                            "<tr><td>WAIT STATS</td><td>2020-10-12 19:52:39.2800318 -07:00</td><td>1.3</td><td>RESERVED_MEMORY_ALLOCATION_EXT</td><td>Memory</td><td>0.0</td><td>0.0</td><td>0.0</td><td>0.0</td><td>47603</td><td>0.0</td><td>https://www.sqlskills.com/help/waits/reserved_memory_allocation_ext/</td></tr>",
                            "<tr><td>WAIT STATS</td><td>2020-10-12 19:52:39.2800318 -07:00</td><td>1.3</td><td>PREEMPTIVE_OS_REPORTEVENT</td><td>Preemptive</td><td>0.0</td><td>0.0</td><td>0.0</td><td>0.0</td><td>50</td><td>0.2</td><td>https://www.sqlskills.com/help/waits/preemptive_os_reportevent/</td></tr>",
                            "<tr><td>WAIT STATS</td><td>2020-10-12 19:52:39.2800318 -07:00</td><td>1.3</td><td>PREEMPTIVE_OS_REVERTTOSELF</td><td>Preemptive</td><td>0.0</td><td>0.0</td><td>0.0</td><td>0.0</td><td>197</td><td>0.2</td><td>https://www.sqlskills.com/help/waits/preemptive_os_reverttoself/</td></tr>",
                            "<tr><td>WAIT STATS</td><td>2020-10-12 19:52:39.2800318 -07:00</td><td>1.3</td><td>PREEMPTIVE_OS_GETFILEATTRIBUTES</td><td>Preemptive</td><td>0.0</td><td>0.0</td><td>0.0</td><td>0.0</td><td>52</td><td>0.3</td><td>https://www.sqlskills.com/help/waits/preemptive_os_getfileattributes/</td></tr>",
                            "<tr><td>WAIT STATS</td><td>2020-10-12 19:52:39.2800318 -07:00</td><td>1.3</td><td>PREEMPTIVE_OS_LIBRARYOPS</td><td>Preemptive</td><td>0.0</td><td>0.0</td><td>0.0</td><td>0.0</td><td>1</td><td>1.0</td><td>https://www.sqlskills.com/help/waits/preemptive_os_libraryops/</td></tr>",
                            "<tr><td>WAIT STATS</td><td>2020-10-12 19:52:39.2800318 -07:00</td><td>1.3</td><td>PREEMPTIVE_OS_LOADLIBRARY</td><td>Preemptive</td><td>0.0</td><td>0.0</td><td>0.0</td><td>0.0</td><td>3</td><td>5.7</td><td>https://www.sqlskills.com/help/waits/preemptive_os_loadlibrary/</td></tr>",
                            "<tr><td>WAIT STATS</td><td>2020-10-12 19:52:39.2800318 -07:00</td><td>1.3</td><td>PREEMPTIVE_OS_LOOKUPACCOUNTSID</td><td>Preemptive</td><td>0.0</td><td>0.0</td><td>0.0</td><td>0.0</td><td>5</td><td>0.2</td><td>https://www.sqlskills.com/help/waits/preemptive_os_lookupaccountsid/</td></tr>",
                            "<tr><td>WAIT STATS</td><td>2020-10-12 19:52:39.2800318 -07:00</td><td>1.3</td><td>PREEMPTIVE_OS_QUERYCONTEXTATTRIBUTES</td><td>Preemptive</td><td>0.0</td><td>0.0</td><td>0.0</td><td>0.0</td><td>197</td><td>0.1</td><td>https://www.sqlskills.com/help/waits/preemptive_os_querycontextattributes/</td></tr>",
                            "<tr><td>WAIT STATS</td><td>2020-10-12 19:52:39.2800318 -07:00</td><td>1.3</td><td>PREEMPTIVE_OS_CLOSEHANDLE</td><td>Preemptive</td><td>0.0</td><td>0.0</td><td>0.0</td><td>0.0</td><td>7</td><td>0.7</td><td>https://www.sqlskills.com/help/waits/preemptive_os_closehandle/</td></tr>",
                            "<tr><td>WAIT STATS</td><td>2020-10-12 19:52:39.2800318 -07:00</td><td>1.3</td><td>PREEMPTIVE_OS_CREATEFILE</td><td>Preemptive</td><td>0.0</td><td>0.0</td><td>0.0</td><td>0.0</td><td>67</td><td>0.6</td><td>https://www.sqlskills.com/help/waits/preemptive_os_createfile/</td></tr>",
                            "<tr><td>WAIT STATS</td><td>2020-10-12 19:52:39.2800318 -07:00</td><td>1.3</td><td>PREEMPTIVE_OS_CRYPTACQUIRECONTEXT</td><td>Preemptive</td><td>0.0</td><td>0.0</td><td>0.0</td><td>0.0</td><td>53</td><td>0.2</td><td>https://www.sqlskills.com/help/waits/preemptive_os_cryptacquirecontext/</td></tr>",
                            "<tr><td>WAIT STATS</td><td>2020-10-12 19:52:39.2800318 -07:00</td><td>1.3</td><td>PAGEIOLATCH_UP</td><td>Buffer IO</td><td>0.0</td><td>0.0</td><td>0.0</td><td>0.0</td><td>10</td><td>0.1</td><td>https://www.sqlskills.com/help/waits/pageiolatch_up/</td></tr>",
                            "<tr><td>WAIT STATS</td><td>2020-10-12 19:52:39.2800318 -07:00</td><td>1.3</td><td>PAGELATCH_EX</td><td>Buffer Latch</td><td>0.0</td><td>0.0</td><td>0.0</td><td>0.0</td><td>112</td><td>0.0</td><td>https://www.sqlskills.com/help/waits/pagelatch_ex/</td></tr>",
                            "<tr><td>WAIT STATS</td><td>2020-10-12 19:52:39.2800318 -07:00</td><td>1.3</td><td>PREEMPTIVE_FILESIZEGET</td><td>Preemptive</td><td>0.0</td><td>0.0</td><td>0.0</td><td>0.0</td><td>37</td><td>0.3</td><td>https://www.sqlskills.com/help/waits/preemptive_filesizeget/</td></tr>",
                            "<tr><td>WAIT STATS</td><td>2020-10-12 19:52:39.2800318 -07:00</td><td>1.3</td><td>PAGEIOLATCH_EX</td><td>Buffer IO</td><td>0.0</td><td>0.0</td><td>0.0</td><td>0.0</td><td>20</td><td>0.4</td><td>https://www.sqlskills.com/help/waits/pageiolatch_ex/</td></tr>",
                            "<tr><td>WAIT STATS</td><td>2020-10-12 19:52:39.2800318 -07:00</td><td>1.3</td><td>CMEMTHREAD</td><td>Memory</td><td>0.0</td><td>0.0</td><td>0.0</td><td>0.0</td><td>2</td><td>1.0</td><td>https://www.sqlskills.com/help/waits/cmemthread/</td></tr>",
                            "<tr><td>WAIT STATS</td><td>2020-10-12 19:52:39.2800318 -07:00</td><td>1.3</td><td>THREADPOOL</td><td>Worker Thread</td><td>0.0</td><td>0.0</td><td>0.0</td><td>0.0</td><td>37</td><td>0.9</td><td>https://www.sqlskills.com/help/waits/threadpool/</td></tr>",
                            "<tr><td>WAIT STATS</td><td>2020-10-12 19:52:39.2800318 -07:00</td><td>1.3</td><td>WRITE_COMPLETION</td><td>Other Disk IO</td><td>0.0</td><td>0.0</td><td>0.0</td><td>0.0</td><td>78</td><td>0.4</td><td>https://www.sqlskills.com/help/waits/write_completion/</td></tr>",
                            "</table>"
                        ]
                    }
                },
                {
                    "output_type": "execute_result",
                    "metadata": {},
                    "execution_count": 1,
                    "data": {
                        "application/vnd.dataresource+json": {
                            "schema": {
                                "fields": [
                                    {
                                        "name": "Pattern"
                                    },
                                    {
                                        "name": "Sample Time"
                                    },
                                    {
                                        "name": "Sample (seconds)"
                                    },
                                    {
                                        "name": "File Name"
                                    },
                                    {
                                        "name": "Drive"
                                    },
                                    {
                                        "name": "# Reads/Writes"
                                    },
                                    {
                                        "name": "MB Read/Written"
                                    },
                                    {
                                        "name": "Avg Stall (ms)"
                                    },
                                    {
                                        "name": "file physical name"
                                    }
                                ]
                            },
                            "data": [
                                {
                                    "0": "PHYSICAL READS",
                                    "1": "2020-10-12 19:52:39.3119597 -07:00",
                                    "2": "4561",
                                    "3": "DBAmaintenance_log [LOG]",
                                    "4": "C:",
                                    "5": "7",
                                    "6": "1.0",
                                    "7": "2",
                                    "8": "C:\\Program Files\\Microsoft SQL Server\\MSSQL15.MSSQLSERVER\\MSSQL\\DATA\\DBAmaintenance_log.ldf"
                                },
                                {
                                    "0": "PHYSICAL READS",
                                    "1": "2020-10-12 19:52:39.3119597 -07:00",
                                    "2": "4561",
                                    "3": "MSDBLog [LOG]",
                                    "4": "C:",
                                    "5": "7",
                                    "6": "0.2",
                                    "7": "2",
                                    "8": "C:\\Program Files\\Microsoft SQL Server\\MSSQL15.MSSQLSERVER\\MSSQL\\DATA\\MSDBLog.ldf"
                                },
                                {
                                    "0": "PHYSICAL READS",
                                    "1": "2020-10-12 19:52:39.3119597 -07:00",
                                    "2": "4561",
                                    "3": "AdventureWorks2017_log [LOG]",
                                    "4": "C:",
                                    "5": "11",
                                    "6": "0.6",
                                    "7": "1",
                                    "8": "C:\\Program Files\\Microsoft SQL Server\\MSSQL15.MSSQLSERVER\\MSSQL\\DATA\\AW1_log.ldf"
                                },
                                {
                                    "0": "PHYSICAL READS",
                                    "1": "2020-10-12 19:52:39.3119597 -07:00",
                                    "2": "4561",
                                    "3": "AdventureWorks2017_log [LOG]",
                                    "4": "C:",
                                    "5": "11",
                                    "6": "1.0",
                                    "7": "1",
                                    "8": "C:\\Program Files\\Microsoft SQL Server\\MSSQL15.MSSQLSERVER\\MSSQL\\DATA\\AW2_log.ldf"
                                },
                                {
                                    "0": "PHYSICAL READS",
                                    "1": "2020-10-12 19:52:39.3119597 -07:00",
                                    "2": "4561",
                                    "3": "modellog [LOG]",
                                    "4": "C:",
                                    "5": "9",
                                    "6": "1.0",
                                    "7": "1",
                                    "8": "C:\\Program Files\\Microsoft SQL Server\\MSSQL15.MSSQLSERVER\\MSSQL\\DATA\\modellog.ldf"
                                },
                                {
                                    "0": "PHYSICAL WRITES",
                                    "1": "2020-10-12 19:52:39.3119597 -07:00",
                                    "2": "4561",
                                    "3": "temp2 [ROWS]",
                                    "4": "C:",
                                    "5": "33",
                                    "6": "2.0",
                                    "7": "0",
                                    "8": "C:\\Program Files\\Microsoft SQL Server\\MSSQL15.MSSQLSERVER\\MSSQL\\DATA\\tempdb_mssql_2.ndf"
                                }
                            ]
                        },
                        "text/html": [
                            "<table>",
                            "<tr><th>Pattern</th><th>Sample Time</th><th>Sample (seconds)</th><th>File Name</th><th>Drive</th><th># Reads/Writes</th><th>MB Read/Written</th><th>Avg Stall (ms)</th><th>file physical name</th></tr>",
                            "<tr><td>PHYSICAL READS</td><td>2020-10-12 19:52:39.3119597 -07:00</td><td>4561</td><td>DBAmaintenance_log [LOG]</td><td>C:</td><td>7</td><td>1.0</td><td>2</td><td>C:\\Program Files\\Microsoft SQL Server\\MSSQL15.MSSQLSERVER\\MSSQL\\DATA\\DBAmaintenance_log.ldf</td></tr>",
                            "<tr><td>PHYSICAL READS</td><td>2020-10-12 19:52:39.3119597 -07:00</td><td>4561</td><td>MSDBLog [LOG]</td><td>C:</td><td>7</td><td>0.2</td><td>2</td><td>C:\\Program Files\\Microsoft SQL Server\\MSSQL15.MSSQLSERVER\\MSSQL\\DATA\\MSDBLog.ldf</td></tr>",
                            "<tr><td>PHYSICAL READS</td><td>2020-10-12 19:52:39.3119597 -07:00</td><td>4561</td><td>AdventureWorks2017_log [LOG]</td><td>C:</td><td>11</td><td>0.6</td><td>1</td><td>C:\\Program Files\\Microsoft SQL Server\\MSSQL15.MSSQLSERVER\\MSSQL\\DATA\\AW1_log.ldf</td></tr>",
                            "<tr><td>PHYSICAL READS</td><td>2020-10-12 19:52:39.3119597 -07:00</td><td>4561</td><td>AdventureWorks2017_log [LOG]</td><td>C:</td><td>11</td><td>1.0</td><td>1</td><td>C:\\Program Files\\Microsoft SQL Server\\MSSQL15.MSSQLSERVER\\MSSQL\\DATA\\AW2_log.ldf</td></tr>",
                            "<tr><td>PHYSICAL READS</td><td>2020-10-12 19:52:39.3119597 -07:00</td><td>4561</td><td>modellog [LOG]</td><td>C:</td><td>9</td><td>1.0</td><td>1</td><td>C:\\Program Files\\Microsoft SQL Server\\MSSQL15.MSSQLSERVER\\MSSQL\\DATA\\modellog.ldf</td></tr>",
                            "<tr><td>PHYSICAL WRITES</td><td>2020-10-12 19:52:39.3119597 -07:00</td><td>4561</td><td>temp2 [ROWS]</td><td>C:</td><td>33</td><td>2.0</td><td>0</td><td>C:\\Program Files\\Microsoft SQL Server\\MSSQL15.MSSQLSERVER\\MSSQL\\DATA\\tempdb_mssql_2.ndf</td></tr>",
                            "</table>"
                        ]
                    }
                },
                {
                    "output_type": "execute_result",
                    "metadata": {},
                    "execution_count": 1,
                    "data": {
                        "application/vnd.dataresource+json": {
                            "schema": {
                                "fields": [
                                    {
                                        "name": "Pattern"
                                    },
                                    {
                                        "name": "object_name"
                                    },
                                    {
                                        "name": "counter_name"
                                    },
                                    {
                                        "name": "instance_name"
                                    },
                                    {
                                        "name": "FirstSampleTime"
                                    },
                                    {
                                        "name": "FirstSampleValue"
                                    },
                                    {
                                        "name": "LastSampleTime"
                                    },
                                    {
                                        "name": "LastSampleValue"
                                    },
                                    {
                                        "name": "ValueDelta"
                                    },
                                    {
                                        "name": "ValuePerSecond"
                                    }
                                ]
                            },
                            "data": [
                                {
                                    "0": "PERFMON",
                                    "1": "SQLServer:Access Methods",
                                    "2": "Full Scans/sec",
                                    "3": "",
                                    "4": "2020-10-13 01:36:38.9166667 +00:00",
                                    "5": "0",
                                    "6": "2020-10-12 19:52:39.3240447 -07:00",
                                    "7": "849",
                                    "8": "849",
                                    "9": "0.186143389607"
                                },
                                {
                                    "0": "PERFMON",
                                    "1": "SQLServer:Access Methods",
                                    "2": "Index Searches/sec",
                                    "3": "",
                                    "4": "2020-10-13 01:36:38.9166667 +00:00",
                                    "5": "0",
                                    "6": "2020-10-12 19:52:39.3240447 -07:00",
                                    "7": "170677",
                                    "8": "170677",
                                    "9": "37.420960315720"
                                },
                                {
                                    "0": "PERFMON",
                                    "1": "SQLServer:Access Methods",
                                    "2": "Page Splits/sec",
                                    "3": "",
                                    "4": "2020-10-13 01:36:38.9166667 +00:00",
                                    "5": "0",
                                    "6": "2020-10-12 19:52:39.3240447 -07:00",
                                    "7": "236",
                                    "8": "236",
                                    "9": "0.051743038807"
                                },
                                {
                                    "0": "PERFMON",
                                    "1": "SQLServer:Access Methods",
                                    "2": "Skipped Ghosted Records/sec",
                                    "3": "",
                                    "4": "2020-10-13 01:36:38.9166667 +00:00",
                                    "5": "0",
                                    "6": "2020-10-12 19:52:39.3240447 -07:00",
                                    "7": "132",
                                    "8": "132",
                                    "9": "0.028941021705"
                                },
                                {
                                    "0": "PERFMON",
                                    "1": "SQLServer:Access Methods",
                                    "2": "Workfiles Created/sec",
                                    "3": "",
                                    "4": "2020-10-13 01:36:38.9166667 +00:00",
                                    "5": "0",
                                    "6": "2020-10-12 19:52:39.3240447 -07:00",
                                    "7": "16728",
                                    "8": "16728",
                                    "9": "3.667616750712"
                                },
                                {
                                    "0": "PERFMON",
                                    "1": "SQLServer:Access Methods",
                                    "2": "Worktables Created/sec",
                                    "3": "",
                                    "4": "2020-10-13 01:36:38.9166667 +00:00",
                                    "5": "0",
                                    "6": "2020-10-12 19:52:39.3240447 -07:00",
                                    "7": "4187",
                                    "8": "4187",
                                    "9": "0.918000438500"
                                },
                                {
                                    "0": "PERFMON",
                                    "1": "SQLServer:Access Methods",
                                    "2": "Worktables From Cache Base",
                                    "3": "",
                                    "4": "2020-10-13 01:36:38.9166667 +00:00",
                                    "5": "0",
                                    "6": "2020-10-12 19:52:39.3240447 -07:00",
                                    "7": "84",
                                    "8": "84",
                                    "9": "0.018417013812"
                                },
                                {
                                    "0": "PERFMON",
                                    "1": "SQLServer:Access Methods",
                                    "2": "Worktables From Cache Ratio",
                                    "3": "",
                                    "4": "2020-10-13 01:36:38.9166667 +00:00",
                                    "5": "0",
                                    "6": "2020-10-12 19:52:39.3240447 -07:00",
                                    "7": "36",
                                    "8": "36",
                                    "9": "0.007893005919"
                                },
                                {
                                    "0": "PERFMON",
                                    "1": "SQLServer:Buffer Manager",
                                    "2": "Buffer cache hit ratio",
                                    "3": "",
                                    "4": "2020-10-13 01:36:38.9166667 +00:00",
                                    "5": "0",
                                    "6": "2020-10-12 19:52:39.3240447 -07:00",
                                    "7": "7575",
                                    "8": "7575",
                                    "9": "1.660819995614"
                                },
                                {
                                    "0": "PERFMON",
                                    "1": "SQLServer:Buffer Manager",
                                    "2": "Buffer cache hit ratio base",
                                    "3": "",
                                    "4": "2020-10-13 01:36:38.9166667 +00:00",
                                    "5": "0",
                                    "6": "2020-10-12 19:52:39.3240447 -07:00",
                                    "7": "7575",
                                    "8": "7575",
                                    "9": "1.660819995614"
                                },
                                {
                                    "0": "PERFMON",
                                    "1": "SQLServer:Buffer Manager",
                                    "2": "Checkpoint pages/sec",
                                    "3": "",
                                    "4": "2020-10-13 01:36:38.9166667 +00:00",
                                    "5": "0",
                                    "6": "2020-10-12 19:52:39.3240447 -07:00",
                                    "7": "9",
                                    "8": "9",
                                    "9": "0.001973251479"
                                },
                                {
                                    "0": "PERFMON",
                                    "1": "SQLServer:Buffer Manager",
                                    "2": "Database pages",
                                    "3": "",
                                    "4": "2020-10-13 01:36:38.9166667 +00:00",
                                    "5": "0",
                                    "6": "2020-10-12 19:52:39.3240447 -07:00",
                                    "7": "8766",
                                    "8": "8766",
                                    "9": "1.921946941460"
                                },
                                {
                                    "0": "PERFMON",
                                    "1": "SQLServer:Buffer Manager",
                                    "2": "Page life expectancy",
                                    "3": "",
                                    "4": "2020-10-13 01:36:38.9166667 +00:00",
                                    "5": "0",
                                    "6": "2020-10-12 19:52:39.3240447 -07:00",
                                    "7": "3485",
                                    "8": "3485",
                                    "9": "0.764086823065"
                                },
                                {
                                    "0": "PERFMON",
                                    "1": "SQLServer:Buffer Manager",
                                    "2": "Page lookups/sec",
                                    "3": "",
                                    "4": "2020-10-13 01:36:38.9166667 +00:00",
                                    "5": "0",
                                    "6": "2020-10-12 19:52:39.3240447 -07:00",
                                    "7": "653495",
                                    "8": "653495",
                                    "9": "143.278886209164"
                                },
                                {
                                    "0": "PERFMON",
                                    "1": "SQLServer:Buffer Manager",
                                    "2": "Page reads/sec",
                                    "3": "",
                                    "4": "2020-10-13 01:36:38.9166667 +00:00",
                                    "5": "0",
                                    "6": "2020-10-12 19:52:39.3240447 -07:00",
                                    "7": "7751",
                                    "8": "7751",
                                    "9": "1.699408024556"
                                },
                                {
                                    "0": "PERFMON",
                                    "1": "SQLServer:Buffer Manager",
                                    "2": "Page writes/sec",
                                    "3": "",
                                    "4": "2020-10-13 01:36:38.9166667 +00:00",
                                    "5": "0",
                                    "6": "2020-10-12 19:52:39.3240447 -07:00",
                                    "7": "1051",
                                    "8": "1051",
                                    "9": "0.230431922823"
                                },
                                {
                                    "0": "PERFMON",
                                    "1": "SQLServer:Buffer Manager",
                                    "2": "Readahead pages/sec",
                                    "3": "",
                                    "4": "2020-10-13 01:36:38.9166667 +00:00",
                                    "5": "0",
                                    "6": "2020-10-12 19:52:39.3240447 -07:00",
                                    "7": "509",
                                    "8": "509",
                                    "9": "0.111598333698"
                                },
                                {
                                    "0": "PERFMON",
                                    "1": "SQLServer:Buffer Manager",
                                    "2": "Target pages",
                                    "3": "",
                                    "4": "2020-10-13 01:36:38.9166667 +00:00",
                                    "5": "0",
                                    "6": "2020-10-12 19:52:39.3240447 -07:00",
                                    "7": "11829248",
                                    "8": "11829248",
                                    "9": "2593.564569173426"
                                },
                                {
                                    "0": "PERFMON",
                                    "1": "SQLServer:Databases",
                                    "2": "Log Bytes Flushed/sec",
                                    "3": "_Total",
                                    "4": "2020-10-13 01:36:38.9166667 +00:00",
                                    "5": "0",
                                    "6": "2020-10-12 19:52:39.3240447 -07:00",
                                    "7": "1760768",
                                    "8": "1760768",
                                    "9": "386.048673536505"
                                },
                                {
                                    "0": "PERFMON",
                                    "1": "SQLServer:Databases",
                                    "2": "Log Pool LogWriter Pushes/sec",
                                    "3": "_Total",
                                    "4": "2020-10-13 01:36:38.9166667 +00:00",
                                    "5": "0",
                                    "6": "2020-10-12 19:52:39.3240447 -07:00",
                                    "7": "2",
                                    "8": "2",
                                    "9": "0.000438500328"
                                },
                                {
                                    "0": "PERFMON",
                                    "1": "SQLServer:Databases",
                                    "2": "Transactions/sec",
                                    "3": "_Total",
                                    "4": "2020-10-13 01:36:38.9166667 +00:00",
                                    "5": "0",
                                    "6": "2020-10-12 19:52:39.3240447 -07:00",
                                    "7": "3732",
                                    "8": "3732",
                                    "9": "0.818241613681"
                                },
                                {
                                    "0": "PERFMON",
                                    "1": "SQLServer:Databases",
                                    "2": "Transactions/sec",
                                    "3": "AW1",
                                    "4": "2020-10-13 01:36:38.9166667 +00:00",
                                    "5": "0",
                                    "6": "2020-10-12 19:52:39.3240447 -07:00",
                                    "7": "113",
                                    "8": "113",
                                    "9": "0.024775268581"
                                },
                                {
                                    "0": "PERFMON",
                                    "1": "SQLServer:Databases",
                                    "2": "Transactions/sec",
                                    "3": "AW2",
                                    "4": "2020-10-13 01:36:38.9166667 +00:00",
                                    "5": "0",
                                    "6": "2020-10-12 19:52:39.3240447 -07:00",
                                    "7": "96",
                                    "8": "96",
                                    "9": "0.021048015786"
                                },
                                {
                                    "0": "PERFMON",
                                    "1": "SQLServer:Databases",
                                    "2": "Transactions/sec",
                                    "3": "DBAmaintenance",
                                    "4": "2020-10-13 01:36:38.9166667 +00:00",
                                    "5": "0",
                                    "6": "2020-10-12 19:52:39.3240447 -07:00",
                                    "7": "96",
                                    "8": "96",
                                    "9": "0.021048015786"
                                },
                                {
                                    "0": "PERFMON",
                                    "1": "SQLServer:Databases",
                                    "2": "Transactions/sec",
                                    "3": "master",
                                    "4": "2020-10-13 01:36:38.9166667 +00:00",
                                    "5": "0",
                                    "6": "2020-10-12 19:52:39.3240447 -07:00",
                                    "7": "1821",
                                    "8": "1821",
                                    "9": "0.399254549440"
                                },
                                {
                                    "0": "PERFMON",
                                    "1": "SQLServer:Databases",
                                    "2": "Transactions/sec",
                                    "3": "model",
                                    "4": "2020-10-13 01:36:38.9166667 +00:00",
                                    "5": "0",
                                    "6": "2020-10-12 19:52:39.3240447 -07:00",
                                    "7": "91",
                                    "8": "91",
                                    "9": "0.019951764963"
                                },
                                {
                                    "0": "PERFMON",
                                    "1": "SQLServer:Databases",
                                    "2": "Transactions/sec",
                                    "3": "msdb",
                                    "4": "2020-10-13 01:36:38.9166667 +00:00",
                                    "5": "0",
                                    "6": "2020-10-12 19:52:39.3240447 -07:00",
                                    "7": "130",
                                    "8": "130",
                                    "9": "0.028502521376"
                                },
                                {
                                    "0": "PERFMON",
                                    "1": "SQLServer:Databases",
                                    "2": "Transactions/sec",
                                    "3": "mssqlsystemresource",
                                    "4": "2020-10-13 01:36:38.9166667 +00:00",
                                    "5": "0",
                                    "6": "2020-10-12 19:52:39.3240447 -07:00",
                                    "7": "17",
                                    "8": "17",
                                    "9": "0.003727252795"
                                },
                                {
                                    "0": "PERFMON",
                                    "1": "SQLServer:Databases",
                                    "2": "Transactions/sec",
                                    "3": "tempdb",
                                    "4": "2020-10-13 01:36:38.9166667 +00:00",
                                    "5": "0",
                                    "6": "2020-10-12 19:52:39.3240447 -07:00",
                                    "7": "1368",
                                    "8": "1368",
                                    "9": "0.299934224950"
                                },
                                {
                                    "0": "PERFMON",
                                    "1": "SQLServer:Databases",
                                    "2": "Write Transactions/sec",
                                    "3": "_Total",
                                    "4": "2020-10-13 01:36:38.9166667 +00:00",
                                    "5": "0",
                                    "6": "2020-10-12 19:52:39.3240447 -07:00",
                                    "7": "1134",
                                    "8": "1134",
                                    "9": "0.248629686472"
                                },
                                {
                                    "0": "PERFMON",
                                    "1": "SQLServer:Databases",
                                    "2": "Write Transactions/sec",
                                    "3": "AW1",
                                    "4": "2020-10-13 01:36:38.9166667 +00:00",
                                    "5": "0",
                                    "6": "2020-10-12 19:52:39.3240447 -07:00",
                                    "7": "4",
                                    "8": "4",
                                    "9": "0.000877000657"
                                },
                                {
                                    "0": "PERFMON",
                                    "1": "SQLServer:Databases",
                                    "2": "Write Transactions/sec",
                                    "3": "AW2",
                                    "4": "2020-10-13 01:36:38.9166667 +00:00",
                                    "5": "0",
                                    "6": "2020-10-12 19:52:39.3240447 -07:00",
                                    "7": "3",
                                    "8": "3",
                                    "9": "0.000657750493"
                                },
                                {
                                    "0": "PERFMON",
                                    "1": "SQLServer:Databases",
                                    "2": "Write Transactions/sec",
                                    "3": "DBAmaintenance",
                                    "4": "2020-10-13 01:36:38.9166667 +00:00",
                                    "5": "0",
                                    "6": "2020-10-12 19:52:39.3240447 -07:00",
                                    "7": "1",
                                    "8": "1",
                                    "9": "0.000219250164"
                                },
                                {
                                    "0": "PERFMON",
                                    "1": "SQLServer:Databases",
                                    "2": "Write Transactions/sec",
                                    "3": "master",
                                    "4": "2020-10-13 01:36:38.9166667 +00:00",
                                    "5": "0",
                                    "6": "2020-10-12 19:52:39.3240447 -07:00",
                                    "7": "44",
                                    "8": "44",
                                    "9": "0.009647007235"
                                },
                                {
                                    "0": "PERFMON",
                                    "1": "SQLServer:Databases",
                                    "2": "Write Transactions/sec",
                                    "3": "msdb",
                                    "4": "2020-10-13 01:36:38.9166667 +00:00",
                                    "5": "0",
                                    "6": "2020-10-12 19:52:39.3240447 -07:00",
                                    "7": "10",
                                    "8": "10",
                                    "9": "0.002192501644"
                                },
                                {
                                    "0": "PERFMON",
                                    "1": "SQLServer:Databases",
                                    "2": "Write Transactions/sec",
                                    "3": "tempdb",
                                    "4": "2020-10-13 01:36:38.9166667 +00:00",
                                    "5": "0",
                                    "6": "2020-10-12 19:52:39.3240447 -07:00",
                                    "7": "1072",
                                    "8": "1072",
                                    "9": "0.235036176277"
                                },
                                {
                                    "0": "PERFMON",
                                    "1": "SQLServer:General Statistics",
                                    "2": "Active Temp Tables",
                                    "3": "",
                                    "4": "2020-10-13 01:36:38.9166667 +00:00",
                                    "5": "0",
                                    "6": "2020-10-12 19:52:39.3240447 -07:00",
                                    "7": "24",
                                    "8": "24",
                                    "9": "0.005262003946"
                                },
                                {
                                    "0": "PERFMON",
                                    "1": "SQLServer:General Statistics",
                                    "2": "Logins/sec",
                                    "3": "",
                                    "4": "2020-10-13 01:36:38.9166667 +00:00",
                                    "5": "0",
                                    "6": "2020-10-12 19:52:39.3240447 -07:00",
                                    "7": "197",
                                    "8": "197",
                                    "9": "0.043192282394"
                                },
                                {
                                    "0": "PERFMON",
                                    "1": "SQLServer:General Statistics",
                                    "2": "Logouts/sec",
                                    "3": "",
                                    "4": "2020-10-13 01:36:38.9166667 +00:00",
                                    "5": "0",
                                    "6": "2020-10-12 19:52:39.3240447 -07:00",
                                    "7": "188",
                                    "8": "188",
                                    "9": "0.041219030914"
                                },
                                {
                                    "0": "PERFMON",
                                    "1": "SQLServer:General Statistics",
                                    "2": "User Connections",
                                    "3": "",
                                    "4": "2020-10-13 01:36:38.9166667 +00:00",
                                    "5": "0",
                                    "6": "2020-10-12 19:52:39.3240447 -07:00",
                                    "7": "9",
                                    "8": "9",
                                    "9": "0.001973251479"
                                },
                                {
                                    "0": "PERFMON",
                                    "1": "SQLServer:Latches",
                                    "2": "Average Latch Wait Time (ms)",
                                    "3": "",
                                    "4": "2020-10-13 01:36:38.9166667 +00:00",
                                    "5": "0",
                                    "6": "2020-10-12 19:52:39.3240447 -07:00",
                                    "7": "667",
                                    "8": "667",
                                    "9": "0.146239859679"
                                },
                                {
                                    "0": "PERFMON",
                                    "1": "SQLServer:Latches",
                                    "2": "Average Latch Wait Time Base",
                                    "3": "",
                                    "4": "2020-10-13 01:36:38.9166667 +00:00",
                                    "5": "0",
                                    "6": "2020-10-12 19:52:39.3240447 -07:00",
                                    "7": "1006",
                                    "8": "1006",
                                    "9": "0.220565665424"
                                },
                                {
                                    "0": "PERFMON",
                                    "1": "SQLServer:Latches",
                                    "2": "Latch Waits/sec",
                                    "3": "",
                                    "4": "2020-10-13 01:36:38.9166667 +00:00",
                                    "5": "0",
                                    "6": "2020-10-12 19:52:39.3240447 -07:00",
                                    "7": "1006",
                                    "8": "1006",
                                    "9": "0.220565665424"
                                },
                                {
                                    "0": "PERFMON",
                                    "1": "SQLServer:Latches",
                                    "2": "Total Latch Wait Time (ms)",
                                    "3": "",
                                    "4": "2020-10-13 01:36:38.9166667 +00:00",
                                    "5": "0",
                                    "6": "2020-10-12 19:52:39.3240447 -07:00",
                                    "7": "667",
                                    "8": "667",
                                    "9": "0.146239859679"
                                },
                                {
                                    "0": "PERFMON",
                                    "1": "SQLServer:Locks",
                                    "2": "Average Wait Time (ms)",
                                    "3": "_Total",
                                    "4": "2020-10-13 01:36:38.9166667 +00:00",
                                    "5": "0",
                                    "6": "2020-10-12 19:52:39.3240447 -07:00",
                                    "7": "76092",
                                    "8": "76092",
                                    "9": "16.683183512387"
                                },
                                {
                                    "0": "PERFMON",
                                    "1": "SQLServer:Locks",
                                    "2": "Average Wait Time (ms)",
                                    "3": "Database",
                                    "4": "2020-10-13 01:36:38.9166667 +00:00",
                                    "5": "0",
                                    "6": "2020-10-12 19:52:39.3240447 -07:00",
                                    "7": "466",
                                    "8": "466",
                                    "9": "0.102170576627"
                                },
                                {
                                    "0": "PERFMON",
                                    "1": "SQLServer:Locks",
                                    "2": "Average Wait Time (ms)",
                                    "3": "Key",
                                    "4": "2020-10-13 01:36:38.9166667 +00:00",
                                    "5": "0",
                                    "6": "2020-10-12 19:52:39.3240447 -07:00",
                                    "7": "75626",
                                    "8": "75626",
                                    "9": "16.581012935759"
                                },
                                {
                                    "0": "PERFMON",
                                    "1": "SQLServer:Locks",
                                    "2": "Average Wait Time Base",
                                    "3": "_Total",
                                    "4": "2020-10-13 01:36:38.9166667 +00:00",
                                    "5": "0",
                                    "6": "2020-10-12 19:52:39.3240447 -07:00",
                                    "7": "22",
                                    "8": "22",
                                    "9": "0.004823503617"
                                },
                                {
                                    "0": "PERFMON",
                                    "1": "SQLServer:Locks",
                                    "2": "Average Wait Time Base",
                                    "3": "Database",
                                    "4": "2020-10-13 01:36:38.9166667 +00:00",
                                    "5": "0",
                                    "6": "2020-10-12 19:52:39.3240447 -07:00",
                                    "7": "6",
                                    "8": "6",
                                    "9": "0.001315500986"
                                },
                                {
                                    "0": "PERFMON",
                                    "1": "SQLServer:Locks",
                                    "2": "Average Wait Time Base",
                                    "3": "Key",
                                    "4": "2020-10-13 01:36:38.9166667 +00:00",
                                    "5": "0",
                                    "6": "2020-10-12 19:52:39.3240447 -07:00",
                                    "7": "16",
                                    "8": "16",
                                    "9": "0.003508002631"
                                },
                                {
                                    "0": "PERFMON",
                                    "1": "SQLServer:Locks",
                                    "2": "Lock Requests/sec",
                                    "3": "_Total",
                                    "4": "2020-10-13 01:36:38.9166667 +00:00",
                                    "5": "0",
                                    "6": "2020-10-12 19:52:39.3240447 -07:00",
                                    "7": "387864",
                                    "8": "387864",
                                    "9": "85.039245779434"
                                },
                                {
                                    "0": "PERFMON",
                                    "1": "SQLServer:Locks",
                                    "2": "Lock Requests/sec",
                                    "3": "AllocUnit",
                                    "4": "2020-10-13 01:36:38.9166667 +00:00",
                                    "5": "0",
                                    "6": "2020-10-12 19:52:39.3240447 -07:00",
                                    "7": "2",
                                    "8": "2",
                                    "9": "0.000438500328"
                                },
                                {
                                    "0": "PERFMON",
                                    "1": "SQLServer:Locks",
                                    "2": "Lock Requests/sec",
                                    "3": "Database",
                                    "4": "2020-10-13 01:36:38.9166667 +00:00",
                                    "5": "0",
                                    "6": "2020-10-12 19:52:39.3240447 -07:00",
                                    "7": "13870",
                                    "8": "13870",
                                    "9": "3.040999780749"
                                },
                                {
                                    "0": "PERFMON",
                                    "1": "SQLServer:Locks",
                                    "2": "Lock Requests/sec",
                                    "3": "Extent",
                                    "4": "2020-10-13 01:36:38.9166667 +00:00",
                                    "5": "0",
                                    "6": "2020-10-12 19:52:39.3240447 -07:00",
                                    "7": "6496",
                                    "8": "6496",
                                    "9": "1.424249068186"
                                },
                                {
                                    "0": "PERFMON",
                                    "1": "SQLServer:Locks",
                                    "2": "Lock Requests/sec",
                                    "3": "File",
                                    "4": "2020-10-13 01:36:38.9166667 +00:00",
                                    "5": "0",
                                    "6": "2020-10-12 19:52:39.3240447 -07:00",
                                    "7": "26",
                                    "8": "26",
                                    "9": "0.005700504275"
                                },
                                {
                                    "0": "PERFMON",
                                    "1": "SQLServer:Locks",
                                    "2": "Lock Requests/sec",
                                    "3": "HoBT",
                                    "4": "2020-10-13 01:36:38.9166667 +00:00",
                                    "5": "0",
                                    "6": "2020-10-12 19:52:39.3240447 -07:00",
                                    "7": "259",
                                    "8": "259",
                                    "9": "0.056785792589"
                                },
                                {
                                    "0": "PERFMON",
                                    "1": "SQLServer:Locks",
                                    "2": "Lock Requests/sec",
                                    "3": "Key",
                                    "4": "2020-10-13 01:36:38.9166667 +00:00",
                                    "5": "0",
                                    "6": "2020-10-12 19:52:39.3240447 -07:00",
                                    "7": "140664",
                                    "8": "140664",
                                    "9": "30.840605130453"
                                },
                                {
                                    "0": "PERFMON",
                                    "1": "SQLServer:Locks",
                                    "2": "Lock Requests/sec",
                                    "3": "Metadata",
                                    "4": "2020-10-13 01:36:38.9166667 +00:00",
                                    "5": "0",
                                    "6": "2020-10-12 19:52:39.3240447 -07:00",
                                    "7": "71431",
                                    "8": "71431",
                                    "9": "15.661258495943"
                                },
                                {
                                    "0": "PERFMON",
                                    "1": "SQLServer:Locks",
                                    "2": "Lock Requests/sec",
                                    "3": "Object",
                                    "4": "2020-10-13 01:36:38.9166667 +00:00",
                                    "5": "0",
                                    "6": "2020-10-12 19:52:39.3240447 -07:00",
                                    "7": "148730",
                                    "8": "148730",
                                    "9": "32.609076956807"
                                },
                                {
                                    "0": "PERFMON",
                                    "1": "SQLServer:Locks",
                                    "2": "Lock Requests/sec",
                                    "3": "Page",
                                    "4": "2020-10-13 01:36:38.9166667 +00:00",
                                    "5": "0",
                                    "6": "2020-10-12 19:52:39.3240447 -07:00",
                                    "7": "5883",
                                    "8": "5883",
                                    "9": "1.289848717386"
                                },
                                {
                                    "0": "PERFMON",
                                    "1": "SQLServer:Locks",
                                    "2": "Lock Requests/sec",
                                    "3": "RID",
                                    "4": "2020-10-13 01:36:38.9166667 +00:00",
                                    "5": "0",
                                    "6": "2020-10-12 19:52:39.3240447 -07:00",
                                    "7": "503",
                                    "8": "503",
                                    "9": "0.110282832712"
                                },
                                {
                                    "0": "PERFMON",
                                    "1": "SQLServer:Locks",
                                    "2": "Lock Timeouts/sec",
                                    "3": "_Total",
                                    "4": "2020-10-13 01:36:38.9166667 +00:00",
                                    "5": "0",
                                    "6": "2020-10-12 19:52:39.3240447 -07:00",
                                    "7": "16",
                                    "8": "16",
                                    "9": "0.003508002631"
                                },
                                {
                                    "0": "PERFMON",
                                    "1": "SQLServer:Locks",
                                    "2": "Lock Timeouts/sec",
                                    "3": "Key",
                                    "4": "2020-10-13 01:36:38.9166667 +00:00",
                                    "5": "0",
                                    "6": "2020-10-12 19:52:39.3240447 -07:00",
                                    "7": "16",
                                    "8": "16",
                                    "9": "0.003508002631"
                                },
                                {
                                    "0": "PERFMON",
                                    "1": "SQLServer:Locks",
                                    "2": "Lock Wait Time (ms)",
                                    "3": "_Total",
                                    "4": "2020-10-13 01:36:38.9166667 +00:00",
                                    "5": "0",
                                    "6": "2020-10-12 19:52:39.3240447 -07:00",
                                    "7": "76092",
                                    "8": "76092",
                                    "9": "16.683183512387"
                                },
                                {
                                    "0": "PERFMON",
                                    "1": "SQLServer:Locks",
                                    "2": "Lock Wait Time (ms)",
                                    "3": "Database",
                                    "4": "2020-10-13 01:36:38.9166667 +00:00",
                                    "5": "0",
                                    "6": "2020-10-12 19:52:39.3240447 -07:00",
                                    "7": "466",
                                    "8": "466",
                                    "9": "0.102170576627"
                                },
                                {
                                    "0": "PERFMON",
                                    "1": "SQLServer:Locks",
                                    "2": "Lock Wait Time (ms)",
                                    "3": "Key",
                                    "4": "2020-10-13 01:36:38.9166667 +00:00",
                                    "5": "0",
                                    "6": "2020-10-12 19:52:39.3240447 -07:00",
                                    "7": "75626",
                                    "8": "75626",
                                    "9": "16.581012935759"
                                },
                                {
                                    "0": "PERFMON",
                                    "1": "SQLServer:Locks",
                                    "2": "Lock Waits/sec",
                                    "3": "_Total",
                                    "4": "2020-10-13 01:36:38.9166667 +00:00",
                                    "5": "0",
                                    "6": "2020-10-12 19:52:39.3240447 -07:00",
                                    "7": "22",
                                    "8": "22",
                                    "9": "0.004823503617"
                                },
                                {
                                    "0": "PERFMON",
                                    "1": "SQLServer:Locks",
                                    "2": "Lock Waits/sec",
                                    "3": "Database",
                                    "4": "2020-10-13 01:36:38.9166667 +00:00",
                                    "5": "0",
                                    "6": "2020-10-12 19:52:39.3240447 -07:00",
                                    "7": "6",
                                    "8": "6",
                                    "9": "0.001315500986"
                                },
                                {
                                    "0": "PERFMON",
                                    "1": "SQLServer:Locks",
                                    "2": "Lock Waits/sec",
                                    "3": "Key",
                                    "4": "2020-10-13 01:36:38.9166667 +00:00",
                                    "5": "0",
                                    "6": "2020-10-12 19:52:39.3240447 -07:00",
                                    "7": "16",
                                    "8": "16",
                                    "9": "0.003508002631"
                                },
                                {
                                    "0": "PERFMON",
                                    "1": "SQLServer:Locks",
                                    "2": "Number of Deadlocks/sec",
                                    "3": "_Total",
                                    "4": "2020-10-13 01:36:38.9166667 +00:00",
                                    "5": "0",
                                    "6": "2020-10-12 19:52:39.3240447 -07:00",
                                    "7": "8",
                                    "8": "8",
                                    "9": "0.001754001315"
                                },
                                {
                                    "0": "PERFMON",
                                    "1": "SQLServer:Locks",
                                    "2": "Number of Deadlocks/sec",
                                    "3": "Key",
                                    "4": "2020-10-13 01:36:38.9166667 +00:00",
                                    "5": "0",
                                    "6": "2020-10-12 19:52:39.3240447 -07:00",
                                    "7": "8",
                                    "8": "8",
                                    "9": "0.001754001315"
                                },
                                {
                                    "0": "PERFMON",
                                    "1": "SQLServer:Memory Manager",
                                    "2": "Maximum Workspace Memory (KB)",
                                    "3": "",
                                    "4": "2020-10-13 01:36:38.9166667 +00:00",
                                    "5": "0",
                                    "6": "2020-10-12 19:52:39.3240447 -07:00",
                                    "7": "1423080",
                                    "8": "1423080",
                                    "9": "312.010524007893"
                                },
                                {
                                    "0": "PERFMON",
                                    "1": "SQLServer:Memory Manager",
                                    "2": "Target Server Memory (KB)",
                                    "3": "",
                                    "4": "2020-10-13 01:36:38.9166667 +00:00",
                                    "5": "0",
                                    "6": "2020-10-12 19:52:39.3240447 -07:00",
                                    "7": "1981168",
                                    "8": "1981168",
                                    "9": "434.371409778557"
                                },
                                {
                                    "0": "PERFMON",
                                    "1": "SQLServer:Memory Manager",
                                    "2": "Total Server Memory (KB)",
                                    "3": "",
                                    "4": "2020-10-13 01:36:38.9166667 +00:00",
                                    "5": "0",
                                    "6": "2020-10-12 19:52:39.3240447 -07:00",
                                    "7": "439608",
                                    "8": "439608",
                                    "9": "96.384126288094"
                                },
                                {
                                    "0": "PERFMON",
                                    "1": "SQLServer:SQL Errors",
                                    "2": "Errors/sec",
                                    "3": "_Total",
                                    "4": "2020-10-13 01:36:38.9166667 +00:00",
                                    "5": "0",
                                    "6": "2020-10-12 19:52:39.3240447 -07:00",
                                    "7": "594",
                                    "8": "594",
                                    "9": "0.130234597675"
                                },
                                {
                                    "0": "PERFMON",
                                    "1": "SQLServer:SQL Statistics",
                                    "2": "Auto-Param Attempts/sec",
                                    "3": "",
                                    "4": "2020-10-13 01:36:38.9166667 +00:00",
                                    "5": "0",
                                    "6": "2020-10-12 19:52:39.3240447 -07:00",
                                    "7": "112",
                                    "8": "112",
                                    "9": "0.024556018417"
                                },
                                {
                                    "0": "PERFMON",
                                    "1": "SQLServer:SQL Statistics",
                                    "2": "Batch Requests/sec",
                                    "3": "",
                                    "4": "2020-10-13 01:36:38.9166667 +00:00",
                                    "5": "0",
                                    "6": "2020-10-12 19:52:39.3240447 -07:00",
                                    "7": "2873",
                                    "8": "2873",
                                    "9": "0.629905722429"
                                },
                                {
                                    "0": "PERFMON",
                                    "1": "SQLServer:SQL Statistics",
                                    "2": "Failed Auto-Params/sec",
                                    "3": "",
                                    "4": "2020-10-13 01:36:38.9166667 +00:00",
                                    "5": "0",
                                    "6": "2020-10-12 19:52:39.3240447 -07:00",
                                    "7": "96",
                                    "8": "96",
                                    "9": "0.021048015786"
                                },
                                {
                                    "0": "PERFMON",
                                    "1": "SQLServer:SQL Statistics",
                                    "2": "Safe Auto-Params/sec",
                                    "3": "",
                                    "4": "2020-10-13 01:36:38.9166667 +00:00",
                                    "5": "0",
                                    "6": "2020-10-12 19:52:39.3240447 -07:00",
                                    "7": "9",
                                    "8": "9",
                                    "9": "0.001973251479"
                                },
                                {
                                    "0": "PERFMON",
                                    "1": "SQLServer:SQL Statistics",
                                    "2": "SQL Attention rate",
                                    "3": "",
                                    "4": "2020-10-13 01:36:38.9166667 +00:00",
                                    "5": "0",
                                    "6": "2020-10-12 19:52:39.3240447 -07:00",
                                    "7": "946",
                                    "8": "946",
                                    "9": "0.207410655557"
                                },
                                {
                                    "0": "PERFMON",
                                    "1": "SQLServer:SQL Statistics",
                                    "2": "SQL Compilations/sec",
                                    "3": "",
                                    "4": "2020-10-13 01:36:38.9166667 +00:00",
                                    "5": "0",
                                    "6": "2020-10-12 19:52:39.3240447 -07:00",
                                    "7": "1605",
                                    "8": "1605",
                                    "9": "0.351896513922"
                                },
                                {
                                    "0": "PERFMON",
                                    "1": "SQLServer:SQL Statistics",
                                    "2": "SQL Re-Compilations/sec",
                                    "3": "",
                                    "4": "2020-10-13 01:36:38.9166667 +00:00",
                                    "5": "0",
                                    "6": "2020-10-12 19:52:39.3240447 -07:00",
                                    "7": "901",
                                    "8": "901",
                                    "9": "0.197544398158"
                                },
                                {
                                    "0": "PERFMON",
                                    "1": "SQLServer:SQL Statistics",
                                    "2": "Unsafe Auto-Params/sec",
                                    "3": "",
                                    "4": "2020-10-13 01:36:38.9166667 +00:00",
                                    "5": "0",
                                    "6": "2020-10-12 19:52:39.3240447 -07:00",
                                    "7": "7",
                                    "8": "7",
                                    "9": "0.001534751151"
                                },
                                {
                                    "0": "PERFMON",
                                    "1": "SQLServer:Workload Group Stats",
                                    "2": "Query optimizations/sec",
                                    "3": "default",
                                    "4": "2020-10-13 01:36:38.9166667 +00:00",
                                    "5": "0",
                                    "6": "2020-10-12 19:52:39.3240447 -07:00",
                                    "7": "1782",
                                    "8": "1782",
                                    "9": "0.390703793027"
                                },
                                {
                                    "0": "PERFMON",
                                    "1": "SQLServer:Workload Group Stats",
                                    "2": "Query optimizations/sec",
                                    "3": "internal",
                                    "4": "2020-10-13 01:36:38.9166667 +00:00",
                                    "5": "0",
                                    "6": "2020-10-12 19:52:39.3240447 -07:00",
                                    "7": "19",
                                    "8": "19",
                                    "9": "0.004165753124"
                                },
                                {
                                    "0": "PERFMON",
                                    "1": "SQLServer:Workload Group Stats",
                                    "2": "Suboptimal plans/sec",
                                    "3": "default",
                                    "4": "2020-10-13 01:36:38.9166667 +00:00",
                                    "5": "0",
                                    "6": "2020-10-12 19:52:39.3240447 -07:00",
                                    "7": "19",
                                    "8": "19",
                                    "9": "0.004165753124"
                                }
                            ]
                        },
                        "text/html": [
                            "<table>",
                            "<tr><th>Pattern</th><th>object_name</th><th>counter_name</th><th>instance_name</th><th>FirstSampleTime</th><th>FirstSampleValue</th><th>LastSampleTime</th><th>LastSampleValue</th><th>ValueDelta</th><th>ValuePerSecond</th></tr>",
                            "<tr><td>PERFMON</td><td>SQLServer:Access Methods</td><td>Full Scans/sec</td><td></td><td>2020-10-13 01:36:38.9166667 +00:00</td><td>0</td><td>2020-10-12 19:52:39.3240447 -07:00</td><td>849</td><td>849</td><td>0.186143389607</td></tr>",
                            "<tr><td>PERFMON</td><td>SQLServer:Access Methods</td><td>Index Searches/sec</td><td></td><td>2020-10-13 01:36:38.9166667 +00:00</td><td>0</td><td>2020-10-12 19:52:39.3240447 -07:00</td><td>170677</td><td>170677</td><td>37.420960315720</td></tr>",
                            "<tr><td>PERFMON</td><td>SQLServer:Access Methods</td><td>Page Splits/sec</td><td></td><td>2020-10-13 01:36:38.9166667 +00:00</td><td>0</td><td>2020-10-12 19:52:39.3240447 -07:00</td><td>236</td><td>236</td><td>0.051743038807</td></tr>",
                            "<tr><td>PERFMON</td><td>SQLServer:Access Methods</td><td>Skipped Ghosted Records/sec</td><td></td><td>2020-10-13 01:36:38.9166667 +00:00</td><td>0</td><td>2020-10-12 19:52:39.3240447 -07:00</td><td>132</td><td>132</td><td>0.028941021705</td></tr>",
                            "<tr><td>PERFMON</td><td>SQLServer:Access Methods</td><td>Workfiles Created/sec</td><td></td><td>2020-10-13 01:36:38.9166667 +00:00</td><td>0</td><td>2020-10-12 19:52:39.3240447 -07:00</td><td>16728</td><td>16728</td><td>3.667616750712</td></tr>",
                            "<tr><td>PERFMON</td><td>SQLServer:Access Methods</td><td>Worktables Created/sec</td><td></td><td>2020-10-13 01:36:38.9166667 +00:00</td><td>0</td><td>2020-10-12 19:52:39.3240447 -07:00</td><td>4187</td><td>4187</td><td>0.918000438500</td></tr>",
                            "<tr><td>PERFMON</td><td>SQLServer:Access Methods</td><td>Worktables From Cache Base</td><td></td><td>2020-10-13 01:36:38.9166667 +00:00</td><td>0</td><td>2020-10-12 19:52:39.3240447 -07:00</td><td>84</td><td>84</td><td>0.018417013812</td></tr>",
                            "<tr><td>PERFMON</td><td>SQLServer:Access Methods</td><td>Worktables From Cache Ratio</td><td></td><td>2020-10-13 01:36:38.9166667 +00:00</td><td>0</td><td>2020-10-12 19:52:39.3240447 -07:00</td><td>36</td><td>36</td><td>0.007893005919</td></tr>",
                            "<tr><td>PERFMON</td><td>SQLServer:Buffer Manager</td><td>Buffer cache hit ratio</td><td></td><td>2020-10-13 01:36:38.9166667 +00:00</td><td>0</td><td>2020-10-12 19:52:39.3240447 -07:00</td><td>7575</td><td>7575</td><td>1.660819995614</td></tr>",
                            "<tr><td>PERFMON</td><td>SQLServer:Buffer Manager</td><td>Buffer cache hit ratio base</td><td></td><td>2020-10-13 01:36:38.9166667 +00:00</td><td>0</td><td>2020-10-12 19:52:39.3240447 -07:00</td><td>7575</td><td>7575</td><td>1.660819995614</td></tr>",
                            "<tr><td>PERFMON</td><td>SQLServer:Buffer Manager</td><td>Checkpoint pages/sec</td><td></td><td>2020-10-13 01:36:38.9166667 +00:00</td><td>0</td><td>2020-10-12 19:52:39.3240447 -07:00</td><td>9</td><td>9</td><td>0.001973251479</td></tr>",
                            "<tr><td>PERFMON</td><td>SQLServer:Buffer Manager</td><td>Database pages</td><td></td><td>2020-10-13 01:36:38.9166667 +00:00</td><td>0</td><td>2020-10-12 19:52:39.3240447 -07:00</td><td>8766</td><td>8766</td><td>1.921946941460</td></tr>",
                            "<tr><td>PERFMON</td><td>SQLServer:Buffer Manager</td><td>Page life expectancy</td><td></td><td>2020-10-13 01:36:38.9166667 +00:00</td><td>0</td><td>2020-10-12 19:52:39.3240447 -07:00</td><td>3485</td><td>3485</td><td>0.764086823065</td></tr>",
                            "<tr><td>PERFMON</td><td>SQLServer:Buffer Manager</td><td>Page lookups/sec</td><td></td><td>2020-10-13 01:36:38.9166667 +00:00</td><td>0</td><td>2020-10-12 19:52:39.3240447 -07:00</td><td>653495</td><td>653495</td><td>143.278886209164</td></tr>",
                            "<tr><td>PERFMON</td><td>SQLServer:Buffer Manager</td><td>Page reads/sec</td><td></td><td>2020-10-13 01:36:38.9166667 +00:00</td><td>0</td><td>2020-10-12 19:52:39.3240447 -07:00</td><td>7751</td><td>7751</td><td>1.699408024556</td></tr>",
                            "<tr><td>PERFMON</td><td>SQLServer:Buffer Manager</td><td>Page writes/sec</td><td></td><td>2020-10-13 01:36:38.9166667 +00:00</td><td>0</td><td>2020-10-12 19:52:39.3240447 -07:00</td><td>1051</td><td>1051</td><td>0.230431922823</td></tr>",
                            "<tr><td>PERFMON</td><td>SQLServer:Buffer Manager</td><td>Readahead pages/sec</td><td></td><td>2020-10-13 01:36:38.9166667 +00:00</td><td>0</td><td>2020-10-12 19:52:39.3240447 -07:00</td><td>509</td><td>509</td><td>0.111598333698</td></tr>",
                            "<tr><td>PERFMON</td><td>SQLServer:Buffer Manager</td><td>Target pages</td><td></td><td>2020-10-13 01:36:38.9166667 +00:00</td><td>0</td><td>2020-10-12 19:52:39.3240447 -07:00</td><td>11829248</td><td>11829248</td><td>2593.564569173426</td></tr>",
                            "<tr><td>PERFMON</td><td>SQLServer:Databases</td><td>Log Bytes Flushed/sec</td><td>_Total</td><td>2020-10-13 01:36:38.9166667 +00:00</td><td>0</td><td>2020-10-12 19:52:39.3240447 -07:00</td><td>1760768</td><td>1760768</td><td>386.048673536505</td></tr>",
                            "<tr><td>PERFMON</td><td>SQLServer:Databases</td><td>Log Pool LogWriter Pushes/sec</td><td>_Total</td><td>2020-10-13 01:36:38.9166667 +00:00</td><td>0</td><td>2020-10-12 19:52:39.3240447 -07:00</td><td>2</td><td>2</td><td>0.000438500328</td></tr>",
                            "<tr><td>PERFMON</td><td>SQLServer:Databases</td><td>Transactions/sec</td><td>_Total</td><td>2020-10-13 01:36:38.9166667 +00:00</td><td>0</td><td>2020-10-12 19:52:39.3240447 -07:00</td><td>3732</td><td>3732</td><td>0.818241613681</td></tr>",
                            "<tr><td>PERFMON</td><td>SQLServer:Databases</td><td>Transactions/sec</td><td>AW1</td><td>2020-10-13 01:36:38.9166667 +00:00</td><td>0</td><td>2020-10-12 19:52:39.3240447 -07:00</td><td>113</td><td>113</td><td>0.024775268581</td></tr>",
                            "<tr><td>PERFMON</td><td>SQLServer:Databases</td><td>Transactions/sec</td><td>AW2</td><td>2020-10-13 01:36:38.9166667 +00:00</td><td>0</td><td>2020-10-12 19:52:39.3240447 -07:00</td><td>96</td><td>96</td><td>0.021048015786</td></tr>",
                            "<tr><td>PERFMON</td><td>SQLServer:Databases</td><td>Transactions/sec</td><td>DBAmaintenance</td><td>2020-10-13 01:36:38.9166667 +00:00</td><td>0</td><td>2020-10-12 19:52:39.3240447 -07:00</td><td>96</td><td>96</td><td>0.021048015786</td></tr>",
                            "<tr><td>PERFMON</td><td>SQLServer:Databases</td><td>Transactions/sec</td><td>master</td><td>2020-10-13 01:36:38.9166667 +00:00</td><td>0</td><td>2020-10-12 19:52:39.3240447 -07:00</td><td>1821</td><td>1821</td><td>0.399254549440</td></tr>",
                            "<tr><td>PERFMON</td><td>SQLServer:Databases</td><td>Transactions/sec</td><td>model</td><td>2020-10-13 01:36:38.9166667 +00:00</td><td>0</td><td>2020-10-12 19:52:39.3240447 -07:00</td><td>91</td><td>91</td><td>0.019951764963</td></tr>",
                            "<tr><td>PERFMON</td><td>SQLServer:Databases</td><td>Transactions/sec</td><td>msdb</td><td>2020-10-13 01:36:38.9166667 +00:00</td><td>0</td><td>2020-10-12 19:52:39.3240447 -07:00</td><td>130</td><td>130</td><td>0.028502521376</td></tr>",
                            "<tr><td>PERFMON</td><td>SQLServer:Databases</td><td>Transactions/sec</td><td>mssqlsystemresource</td><td>2020-10-13 01:36:38.9166667 +00:00</td><td>0</td><td>2020-10-12 19:52:39.3240447 -07:00</td><td>17</td><td>17</td><td>0.003727252795</td></tr>",
                            "<tr><td>PERFMON</td><td>SQLServer:Databases</td><td>Transactions/sec</td><td>tempdb</td><td>2020-10-13 01:36:38.9166667 +00:00</td><td>0</td><td>2020-10-12 19:52:39.3240447 -07:00</td><td>1368</td><td>1368</td><td>0.299934224950</td></tr>",
                            "<tr><td>PERFMON</td><td>SQLServer:Databases</td><td>Write Transactions/sec</td><td>_Total</td><td>2020-10-13 01:36:38.9166667 +00:00</td><td>0</td><td>2020-10-12 19:52:39.3240447 -07:00</td><td>1134</td><td>1134</td><td>0.248629686472</td></tr>",
                            "<tr><td>PERFMON</td><td>SQLServer:Databases</td><td>Write Transactions/sec</td><td>AW1</td><td>2020-10-13 01:36:38.9166667 +00:00</td><td>0</td><td>2020-10-12 19:52:39.3240447 -07:00</td><td>4</td><td>4</td><td>0.000877000657</td></tr>",
                            "<tr><td>PERFMON</td><td>SQLServer:Databases</td><td>Write Transactions/sec</td><td>AW2</td><td>2020-10-13 01:36:38.9166667 +00:00</td><td>0</td><td>2020-10-12 19:52:39.3240447 -07:00</td><td>3</td><td>3</td><td>0.000657750493</td></tr>",
                            "<tr><td>PERFMON</td><td>SQLServer:Databases</td><td>Write Transactions/sec</td><td>DBAmaintenance</td><td>2020-10-13 01:36:38.9166667 +00:00</td><td>0</td><td>2020-10-12 19:52:39.3240447 -07:00</td><td>1</td><td>1</td><td>0.000219250164</td></tr>",
                            "<tr><td>PERFMON</td><td>SQLServer:Databases</td><td>Write Transactions/sec</td><td>master</td><td>2020-10-13 01:36:38.9166667 +00:00</td><td>0</td><td>2020-10-12 19:52:39.3240447 -07:00</td><td>44</td><td>44</td><td>0.009647007235</td></tr>",
                            "<tr><td>PERFMON</td><td>SQLServer:Databases</td><td>Write Transactions/sec</td><td>msdb</td><td>2020-10-13 01:36:38.9166667 +00:00</td><td>0</td><td>2020-10-12 19:52:39.3240447 -07:00</td><td>10</td><td>10</td><td>0.002192501644</td></tr>",
                            "<tr><td>PERFMON</td><td>SQLServer:Databases</td><td>Write Transactions/sec</td><td>tempdb</td><td>2020-10-13 01:36:38.9166667 +00:00</td><td>0</td><td>2020-10-12 19:52:39.3240447 -07:00</td><td>1072</td><td>1072</td><td>0.235036176277</td></tr>",
                            "<tr><td>PERFMON</td><td>SQLServer:General Statistics</td><td>Active Temp Tables</td><td></td><td>2020-10-13 01:36:38.9166667 +00:00</td><td>0</td><td>2020-10-12 19:52:39.3240447 -07:00</td><td>24</td><td>24</td><td>0.005262003946</td></tr>",
                            "<tr><td>PERFMON</td><td>SQLServer:General Statistics</td><td>Logins/sec</td><td></td><td>2020-10-13 01:36:38.9166667 +00:00</td><td>0</td><td>2020-10-12 19:52:39.3240447 -07:00</td><td>197</td><td>197</td><td>0.043192282394</td></tr>",
                            "<tr><td>PERFMON</td><td>SQLServer:General Statistics</td><td>Logouts/sec</td><td></td><td>2020-10-13 01:36:38.9166667 +00:00</td><td>0</td><td>2020-10-12 19:52:39.3240447 -07:00</td><td>188</td><td>188</td><td>0.041219030914</td></tr>",
                            "<tr><td>PERFMON</td><td>SQLServer:General Statistics</td><td>User Connections</td><td></td><td>2020-10-13 01:36:38.9166667 +00:00</td><td>0</td><td>2020-10-12 19:52:39.3240447 -07:00</td><td>9</td><td>9</td><td>0.001973251479</td></tr>",
                            "<tr><td>PERFMON</td><td>SQLServer:Latches</td><td>Average Latch Wait Time (ms)</td><td></td><td>2020-10-13 01:36:38.9166667 +00:00</td><td>0</td><td>2020-10-12 19:52:39.3240447 -07:00</td><td>667</td><td>667</td><td>0.146239859679</td></tr>",
                            "<tr><td>PERFMON</td><td>SQLServer:Latches</td><td>Average Latch Wait Time Base</td><td></td><td>2020-10-13 01:36:38.9166667 +00:00</td><td>0</td><td>2020-10-12 19:52:39.3240447 -07:00</td><td>1006</td><td>1006</td><td>0.220565665424</td></tr>",
                            "<tr><td>PERFMON</td><td>SQLServer:Latches</td><td>Latch Waits/sec</td><td></td><td>2020-10-13 01:36:38.9166667 +00:00</td><td>0</td><td>2020-10-12 19:52:39.3240447 -07:00</td><td>1006</td><td>1006</td><td>0.220565665424</td></tr>",
                            "<tr><td>PERFMON</td><td>SQLServer:Latches</td><td>Total Latch Wait Time (ms)</td><td></td><td>2020-10-13 01:36:38.9166667 +00:00</td><td>0</td><td>2020-10-12 19:52:39.3240447 -07:00</td><td>667</td><td>667</td><td>0.146239859679</td></tr>",
                            "<tr><td>PERFMON</td><td>SQLServer:Locks</td><td>Average Wait Time (ms)</td><td>_Total</td><td>2020-10-13 01:36:38.9166667 +00:00</td><td>0</td><td>2020-10-12 19:52:39.3240447 -07:00</td><td>76092</td><td>76092</td><td>16.683183512387</td></tr>",
                            "<tr><td>PERFMON</td><td>SQLServer:Locks</td><td>Average Wait Time (ms)</td><td>Database</td><td>2020-10-13 01:36:38.9166667 +00:00</td><td>0</td><td>2020-10-12 19:52:39.3240447 -07:00</td><td>466</td><td>466</td><td>0.102170576627</td></tr>",
                            "<tr><td>PERFMON</td><td>SQLServer:Locks</td><td>Average Wait Time (ms)</td><td>Key</td><td>2020-10-13 01:36:38.9166667 +00:00</td><td>0</td><td>2020-10-12 19:52:39.3240447 -07:00</td><td>75626</td><td>75626</td><td>16.581012935759</td></tr>",
                            "<tr><td>PERFMON</td><td>SQLServer:Locks</td><td>Average Wait Time Base</td><td>_Total</td><td>2020-10-13 01:36:38.9166667 +00:00</td><td>0</td><td>2020-10-12 19:52:39.3240447 -07:00</td><td>22</td><td>22</td><td>0.004823503617</td></tr>",
                            "<tr><td>PERFMON</td><td>SQLServer:Locks</td><td>Average Wait Time Base</td><td>Database</td><td>2020-10-13 01:36:38.9166667 +00:00</td><td>0</td><td>2020-10-12 19:52:39.3240447 -07:00</td><td>6</td><td>6</td><td>0.001315500986</td></tr>",
                            "<tr><td>PERFMON</td><td>SQLServer:Locks</td><td>Average Wait Time Base</td><td>Key</td><td>2020-10-13 01:36:38.9166667 +00:00</td><td>0</td><td>2020-10-12 19:52:39.3240447 -07:00</td><td>16</td><td>16</td><td>0.003508002631</td></tr>",
                            "<tr><td>PERFMON</td><td>SQLServer:Locks</td><td>Lock Requests/sec</td><td>_Total</td><td>2020-10-13 01:36:38.9166667 +00:00</td><td>0</td><td>2020-10-12 19:52:39.3240447 -07:00</td><td>387864</td><td>387864</td><td>85.039245779434</td></tr>",
                            "<tr><td>PERFMON</td><td>SQLServer:Locks</td><td>Lock Requests/sec</td><td>AllocUnit</td><td>2020-10-13 01:36:38.9166667 +00:00</td><td>0</td><td>2020-10-12 19:52:39.3240447 -07:00</td><td>2</td><td>2</td><td>0.000438500328</td></tr>",
                            "<tr><td>PERFMON</td><td>SQLServer:Locks</td><td>Lock Requests/sec</td><td>Database</td><td>2020-10-13 01:36:38.9166667 +00:00</td><td>0</td><td>2020-10-12 19:52:39.3240447 -07:00</td><td>13870</td><td>13870</td><td>3.040999780749</td></tr>",
                            "<tr><td>PERFMON</td><td>SQLServer:Locks</td><td>Lock Requests/sec</td><td>Extent</td><td>2020-10-13 01:36:38.9166667 +00:00</td><td>0</td><td>2020-10-12 19:52:39.3240447 -07:00</td><td>6496</td><td>6496</td><td>1.424249068186</td></tr>",
                            "<tr><td>PERFMON</td><td>SQLServer:Locks</td><td>Lock Requests/sec</td><td>File</td><td>2020-10-13 01:36:38.9166667 +00:00</td><td>0</td><td>2020-10-12 19:52:39.3240447 -07:00</td><td>26</td><td>26</td><td>0.005700504275</td></tr>",
                            "<tr><td>PERFMON</td><td>SQLServer:Locks</td><td>Lock Requests/sec</td><td>HoBT</td><td>2020-10-13 01:36:38.9166667 +00:00</td><td>0</td><td>2020-10-12 19:52:39.3240447 -07:00</td><td>259</td><td>259</td><td>0.056785792589</td></tr>",
                            "<tr><td>PERFMON</td><td>SQLServer:Locks</td><td>Lock Requests/sec</td><td>Key</td><td>2020-10-13 01:36:38.9166667 +00:00</td><td>0</td><td>2020-10-12 19:52:39.3240447 -07:00</td><td>140664</td><td>140664</td><td>30.840605130453</td></tr>",
                            "<tr><td>PERFMON</td><td>SQLServer:Locks</td><td>Lock Requests/sec</td><td>Metadata</td><td>2020-10-13 01:36:38.9166667 +00:00</td><td>0</td><td>2020-10-12 19:52:39.3240447 -07:00</td><td>71431</td><td>71431</td><td>15.661258495943</td></tr>",
                            "<tr><td>PERFMON</td><td>SQLServer:Locks</td><td>Lock Requests/sec</td><td>Object</td><td>2020-10-13 01:36:38.9166667 +00:00</td><td>0</td><td>2020-10-12 19:52:39.3240447 -07:00</td><td>148730</td><td>148730</td><td>32.609076956807</td></tr>",
                            "<tr><td>PERFMON</td><td>SQLServer:Locks</td><td>Lock Requests/sec</td><td>Page</td><td>2020-10-13 01:36:38.9166667 +00:00</td><td>0</td><td>2020-10-12 19:52:39.3240447 -07:00</td><td>5883</td><td>5883</td><td>1.289848717386</td></tr>",
                            "<tr><td>PERFMON</td><td>SQLServer:Locks</td><td>Lock Requests/sec</td><td>RID</td><td>2020-10-13 01:36:38.9166667 +00:00</td><td>0</td><td>2020-10-12 19:52:39.3240447 -07:00</td><td>503</td><td>503</td><td>0.110282832712</td></tr>",
                            "<tr><td>PERFMON</td><td>SQLServer:Locks</td><td>Lock Timeouts/sec</td><td>_Total</td><td>2020-10-13 01:36:38.9166667 +00:00</td><td>0</td><td>2020-10-12 19:52:39.3240447 -07:00</td><td>16</td><td>16</td><td>0.003508002631</td></tr>",
                            "<tr><td>PERFMON</td><td>SQLServer:Locks</td><td>Lock Timeouts/sec</td><td>Key</td><td>2020-10-13 01:36:38.9166667 +00:00</td><td>0</td><td>2020-10-12 19:52:39.3240447 -07:00</td><td>16</td><td>16</td><td>0.003508002631</td></tr>",
                            "<tr><td>PERFMON</td><td>SQLServer:Locks</td><td>Lock Wait Time (ms)</td><td>_Total</td><td>2020-10-13 01:36:38.9166667 +00:00</td><td>0</td><td>2020-10-12 19:52:39.3240447 -07:00</td><td>76092</td><td>76092</td><td>16.683183512387</td></tr>",
                            "<tr><td>PERFMON</td><td>SQLServer:Locks</td><td>Lock Wait Time (ms)</td><td>Database</td><td>2020-10-13 01:36:38.9166667 +00:00</td><td>0</td><td>2020-10-12 19:52:39.3240447 -07:00</td><td>466</td><td>466</td><td>0.102170576627</td></tr>",
                            "<tr><td>PERFMON</td><td>SQLServer:Locks</td><td>Lock Wait Time (ms)</td><td>Key</td><td>2020-10-13 01:36:38.9166667 +00:00</td><td>0</td><td>2020-10-12 19:52:39.3240447 -07:00</td><td>75626</td><td>75626</td><td>16.581012935759</td></tr>",
                            "<tr><td>PERFMON</td><td>SQLServer:Locks</td><td>Lock Waits/sec</td><td>_Total</td><td>2020-10-13 01:36:38.9166667 +00:00</td><td>0</td><td>2020-10-12 19:52:39.3240447 -07:00</td><td>22</td><td>22</td><td>0.004823503617</td></tr>",
                            "<tr><td>PERFMON</td><td>SQLServer:Locks</td><td>Lock Waits/sec</td><td>Database</td><td>2020-10-13 01:36:38.9166667 +00:00</td><td>0</td><td>2020-10-12 19:52:39.3240447 -07:00</td><td>6</td><td>6</td><td>0.001315500986</td></tr>",
                            "<tr><td>PERFMON</td><td>SQLServer:Locks</td><td>Lock Waits/sec</td><td>Key</td><td>2020-10-13 01:36:38.9166667 +00:00</td><td>0</td><td>2020-10-12 19:52:39.3240447 -07:00</td><td>16</td><td>16</td><td>0.003508002631</td></tr>",
                            "<tr><td>PERFMON</td><td>SQLServer:Locks</td><td>Number of Deadlocks/sec</td><td>_Total</td><td>2020-10-13 01:36:38.9166667 +00:00</td><td>0</td><td>2020-10-12 19:52:39.3240447 -07:00</td><td>8</td><td>8</td><td>0.001754001315</td></tr>",
                            "<tr><td>PERFMON</td><td>SQLServer:Locks</td><td>Number of Deadlocks/sec</td><td>Key</td><td>2020-10-13 01:36:38.9166667 +00:00</td><td>0</td><td>2020-10-12 19:52:39.3240447 -07:00</td><td>8</td><td>8</td><td>0.001754001315</td></tr>",
                            "<tr><td>PERFMON</td><td>SQLServer:Memory Manager</td><td>Maximum Workspace Memory (KB)</td><td></td><td>2020-10-13 01:36:38.9166667 +00:00</td><td>0</td><td>2020-10-12 19:52:39.3240447 -07:00</td><td>1423080</td><td>1423080</td><td>312.010524007893</td></tr>",
                            "<tr><td>PERFMON</td><td>SQLServer:Memory Manager</td><td>Target Server Memory (KB)</td><td></td><td>2020-10-13 01:36:38.9166667 +00:00</td><td>0</td><td>2020-10-12 19:52:39.3240447 -07:00</td><td>1981168</td><td>1981168</td><td>434.371409778557</td></tr>",
                            "<tr><td>PERFMON</td><td>SQLServer:Memory Manager</td><td>Total Server Memory (KB)</td><td></td><td>2020-10-13 01:36:38.9166667 +00:00</td><td>0</td><td>2020-10-12 19:52:39.3240447 -07:00</td><td>439608</td><td>439608</td><td>96.384126288094</td></tr>",
                            "<tr><td>PERFMON</td><td>SQLServer:SQL Errors</td><td>Errors/sec</td><td>_Total</td><td>2020-10-13 01:36:38.9166667 +00:00</td><td>0</td><td>2020-10-12 19:52:39.3240447 -07:00</td><td>594</td><td>594</td><td>0.130234597675</td></tr>",
                            "<tr><td>PERFMON</td><td>SQLServer:SQL Statistics</td><td>Auto-Param Attempts/sec</td><td></td><td>2020-10-13 01:36:38.9166667 +00:00</td><td>0</td><td>2020-10-12 19:52:39.3240447 -07:00</td><td>112</td><td>112</td><td>0.024556018417</td></tr>",
                            "<tr><td>PERFMON</td><td>SQLServer:SQL Statistics</td><td>Batch Requests/sec</td><td></td><td>2020-10-13 01:36:38.9166667 +00:00</td><td>0</td><td>2020-10-12 19:52:39.3240447 -07:00</td><td>2873</td><td>2873</td><td>0.629905722429</td></tr>",
                            "<tr><td>PERFMON</td><td>SQLServer:SQL Statistics</td><td>Failed Auto-Params/sec</td><td></td><td>2020-10-13 01:36:38.9166667 +00:00</td><td>0</td><td>2020-10-12 19:52:39.3240447 -07:00</td><td>96</td><td>96</td><td>0.021048015786</td></tr>",
                            "<tr><td>PERFMON</td><td>SQLServer:SQL Statistics</td><td>Safe Auto-Params/sec</td><td></td><td>2020-10-13 01:36:38.9166667 +00:00</td><td>0</td><td>2020-10-12 19:52:39.3240447 -07:00</td><td>9</td><td>9</td><td>0.001973251479</td></tr>",
                            "<tr><td>PERFMON</td><td>SQLServer:SQL Statistics</td><td>SQL Attention rate</td><td></td><td>2020-10-13 01:36:38.9166667 +00:00</td><td>0</td><td>2020-10-12 19:52:39.3240447 -07:00</td><td>946</td><td>946</td><td>0.207410655557</td></tr>",
                            "<tr><td>PERFMON</td><td>SQLServer:SQL Statistics</td><td>SQL Compilations/sec</td><td></td><td>2020-10-13 01:36:38.9166667 +00:00</td><td>0</td><td>2020-10-12 19:52:39.3240447 -07:00</td><td>1605</td><td>1605</td><td>0.351896513922</td></tr>",
                            "<tr><td>PERFMON</td><td>SQLServer:SQL Statistics</td><td>SQL Re-Compilations/sec</td><td></td><td>2020-10-13 01:36:38.9166667 +00:00</td><td>0</td><td>2020-10-12 19:52:39.3240447 -07:00</td><td>901</td><td>901</td><td>0.197544398158</td></tr>",
                            "<tr><td>PERFMON</td><td>SQLServer:SQL Statistics</td><td>Unsafe Auto-Params/sec</td><td></td><td>2020-10-13 01:36:38.9166667 +00:00</td><td>0</td><td>2020-10-12 19:52:39.3240447 -07:00</td><td>7</td><td>7</td><td>0.001534751151</td></tr>",
                            "<tr><td>PERFMON</td><td>SQLServer:Workload Group Stats</td><td>Query optimizations/sec</td><td>default</td><td>2020-10-13 01:36:38.9166667 +00:00</td><td>0</td><td>2020-10-12 19:52:39.3240447 -07:00</td><td>1782</td><td>1782</td><td>0.390703793027</td></tr>",
                            "<tr><td>PERFMON</td><td>SQLServer:Workload Group Stats</td><td>Query optimizations/sec</td><td>internal</td><td>2020-10-13 01:36:38.9166667 +00:00</td><td>0</td><td>2020-10-12 19:52:39.3240447 -07:00</td><td>19</td><td>19</td><td>0.004165753124</td></tr>",
                            "<tr><td>PERFMON</td><td>SQLServer:Workload Group Stats</td><td>Suboptimal plans/sec</td><td>default</td><td>2020-10-13 01:36:38.9166667 +00:00</td><td>0</td><td>2020-10-12 19:52:39.3240447 -07:00</td><td>19</td><td>19</td><td>0.004165753124</td></tr>",
                            "</table>"
                        ]
                    }
                },
                {
                    "output_type": "execute_result",
                    "metadata": {},
                    "execution_count": 1,
                    "data": {
                        "application/vnd.dataresource+json": {
                            "schema": {
                                "fields": [
                                    {
                                        "name": "Pattern"
                                    },
                                    {
                                        "name": "Finding"
                                    },
                                    {
                                        "name": "More Info"
                                    },
                                    {
                                        "name": "Details"
                                    }
                                ]
                            },
                            "data": [
                                {
                                    "0": "Plan Cache",
                                    "1": "Plan cache not analyzed",
                                    "2": "Use @CheckProcedureCache = 1 or run sp_BlitzCache for more analysis",
                                    "3": "<?ClickToSeeDetails -- \r\nfirstresponderkit.org\r\n -- ?>"
                                }
                            ]
                        },
                        "text/html": [
                            "<table>",
                            "<tr><th>Pattern</th><th>Finding</th><th>More Info</th><th>Details</th></tr>",
                            "<tr><td>Plan Cache</td><td>Plan cache not analyzed</td><td>Use @CheckProcedureCache = 1 or run sp_BlitzCache for more analysis</td><td>&lt;?ClickToSeeDetails -- \r\nfirstresponderkit.org\r\n -- ?&gt;</td></tr>",
                            "</table>"
                        ]
                    }
                }
            ],
            "execution_count": 1
        },
        {
            "cell_type": "markdown",
            "source": [
                "## If the server is relatively stable, also run this:"
            ],
            "metadata": {
                "azdata_cell_guid": "c41e4799-5ffb-481d-8670-5c7263af0171"
            }
        },
        {
            "cell_type": "code",
            "source": [
                "\r\n",
                "EXEC sp_BlitzFirst @ExpertMode = 1, @Seconds = 5"
            ],
            "metadata": {
                "azdata_cell_guid": "a245aec0-3f6b-499d-b7e0-1946fecd9faa"
            },
            "outputs": [
                {
                    "output_type": "display_data",
                    "data": {
                        "text/html": "Setting up configuration variables"
                    },
                    "metadata": {}
                },
                {
                    "output_type": "display_data",
                    "data": {
                        "text/html": "Now starting diagnostic analysis"
                    },
                    "metadata": {}
                },
                {
                    "output_type": "display_data",
                    "data": {
                        "text/html": "Checking for Read intent databases to exclude"
                    },
                    "metadata": {}
                },
                {
                    "output_type": "display_data",
                    "data": {
                        "text/html": "Determining SQL Server version."
                    },
                    "metadata": {}
                },
                {
                    "output_type": "display_data",
                    "data": {
                        "text/html": "Capturing first pass of wait stats, perfmon counters, file stats"
                    },
                    "metadata": {}
                },
                {
                    "output_type": "display_data",
                    "data": {
                        "text/html": "Beginning investigatory queries"
                    },
                    "metadata": {}
                },
                {
                    "output_type": "display_data",
                    "data": {
                        "text/html": "Finished running investigatory queries"
                    },
                    "metadata": {}
                },
                {
                    "output_type": "display_data",
                    "data": {
                        "text/html": "Waiting to match @Seconds parameter"
                    },
                    "metadata": {}
                },
                {
                    "output_type": "display_data",
                    "data": {
                        "text/html": "Capturing second pass of wait stats, perfmon counters, file stats"
                    },
                    "metadata": {}
                },
                {
                    "output_type": "display_data",
                    "data": {
                        "text/html": "Analyzing changes between first and second passes of DMVs"
                    },
                    "metadata": {}
                },
                {
                    "output_type": "display_data",
                    "data": {
                        "text/html": "Analysis finished, outputting results"
                    },
                    "metadata": {}
                },
                {
                    "output_type": "display_data",
                    "data": {
                        "text/html": "Total execution time: 00:00:08.908"
                    },
                    "metadata": {}
                },
                {
                    "output_type": "execute_result",
                    "metadata": {},
                    "execution_count": 2,
                    "data": {
                        "application/vnd.dataresource+json": {
                            "schema": {
                                "fields": [
                                    {
                                        "name": "run_date"
                                    },
                                    {
                                        "name": "elapsed_time"
                                    },
                                    {
                                        "name": "session_id"
                                    },
                                    {
                                        "name": "database_name"
                                    },
                                    {
                                        "name": "query_text"
                                    },
                                    {
                                        "name": "query_plan"
                                    },
                                    {
                                        "name": "live_query_plan"
                                    },
                                    {
                                        "name": "query_cost"
                                    },
                                    {
                                        "name": "status"
                                    },
                                    {
                                        "name": "wait_info"
                                    },
                                    {
                                        "name": "top_session_waits"
                                    },
                                    {
                                        "name": "blocking_session_id"
                                    },
                                    {
                                        "name": "open_transaction_count"
                                    },
                                    {
                                        "name": "is_implicit_transaction"
                                    },
                                    {
                                        "name": "nt_domain"
                                    },
                                    {
                                        "name": "host_name"
                                    },
                                    {
                                        "name": "login_name"
                                    },
                                    {
                                        "name": "nt_user_name"
                                    },
                                    {
                                        "name": "program_name"
                                    }
                                ]
                            },
                            "data": []
                        },
                        "text/html": [
                            "<table>",
                            "<tr><th>run_date</th><th>elapsed_time</th><th>session_id</th><th>database_name</th><th>query_text</th><th>query_plan</th><th>live_query_plan</th><th>query_cost</th><th>status</th><th>wait_info</th><th>top_session_waits</th><th>blocking_session_id</th><th>open_transaction_count</th><th>is_implicit_transaction</th><th>nt_domain</th><th>host_name</th><th>login_name</th><th>nt_user_name</th><th>program_name</th></tr>",
                            "</table>"
                        ]
                    }
                },
                {
                    "output_type": "execute_result",
                    "metadata": {},
                    "execution_count": 2,
                    "data": {
                        "application/vnd.dataresource+json": {
                            "schema": {
                                "fields": [
                                    {
                                        "name": "Priority"
                                    },
                                    {
                                        "name": "FindingsGroup"
                                    },
                                    {
                                        "name": "Finding"
                                    },
                                    {
                                        "name": "URL"
                                    },
                                    {
                                        "name": "Details"
                                    },
                                    {
                                        "name": "HowToStopIt"
                                    },
                                    {
                                        "name": "CheckID"
                                    },
                                    {
                                        "name": "StartTime"
                                    },
                                    {
                                        "name": "LoginName"
                                    },
                                    {
                                        "name": "NTUserName"
                                    },
                                    {
                                        "name": "OriginalLoginName"
                                    },
                                    {
                                        "name": "ProgramName"
                                    },
                                    {
                                        "name": "HostName"
                                    },
                                    {
                                        "name": "DatabaseID"
                                    },
                                    {
                                        "name": "DatabaseName"
                                    },
                                    {
                                        "name": "OpenTransactionCount"
                                    },
                                    {
                                        "name": "QueryPlan"
                                    },
                                    {
                                        "name": "QueryText"
                                    },
                                    {
                                        "name": "PlanHandle"
                                    },
                                    {
                                        "name": "SqlHandle"
                                    },
                                    {
                                        "name": "StatementStartOffset"
                                    },
                                    {
                                        "name": "StatementEndOffset"
                                    },
                                    {
                                        "name": "Executions"
                                    },
                                    {
                                        "name": "ExecutionsPercent"
                                    },
                                    {
                                        "name": "Duration"
                                    },
                                    {
                                        "name": "DurationPercent"
                                    },
                                    {
                                        "name": "CPU"
                                    },
                                    {
                                        "name": "CPUPercent"
                                    },
                                    {
                                        "name": "Reads"
                                    },
                                    {
                                        "name": "ReadsPercent"
                                    },
                                    {
                                        "name": "PlanCreationTime"
                                    },
                                    {
                                        "name": "TotalExecutions"
                                    },
                                    {
                                        "name": "TotalExecutionsPercent"
                                    },
                                    {
                                        "name": "TotalDuration"
                                    },
                                    {
                                        "name": "TotalDurationPercent"
                                    },
                                    {
                                        "name": "TotalCPU"
                                    },
                                    {
                                        "name": "TotalCPUPercent"
                                    },
                                    {
                                        "name": "TotalReads"
                                    },
                                    {
                                        "name": "TotalReadsPercent"
                                    },
                                    {
                                        "name": "DetailsInt"
                                    }
                                ]
                            },
                            "data": [
                                {
                                    "0": "0",
                                    "1": "sp_BlitzFirst 2020-10-11 00:00:00.0000000 +00:00",
                                    "2": "From Your Community Volunteers",
                                    "3": "http://FirstResponderKit.org/",
                                    "4": "<?ClickToSeeDetails -- \r\nWe hope you found this tool useful.\r\n -- ?>",
                                    "5": "NULL",
                                    "6": "-1",
                                    "7": "NULL",
                                    "8": "NULL",
                                    "9": "NULL",
                                    "10": "NULL",
                                    "11": "NULL",
                                    "12": "NULL",
                                    "13": "NULL",
                                    "14": "NULL",
                                    "15": "NULL",
                                    "16": "NULL",
                                    "17": "NULL",
                                    "18": "NULL",
                                    "19": "NULL",
                                    "20": "NULL",
                                    "21": "NULL",
                                    "22": "NULL",
                                    "23": "NULL",
                                    "24": "NULL",
                                    "25": "NULL",
                                    "26": "NULL",
                                    "27": "NULL",
                                    "28": "NULL",
                                    "29": "NULL",
                                    "30": "NULL",
                                    "31": "NULL",
                                    "32": "NULL",
                                    "33": "NULL",
                                    "34": "NULL",
                                    "35": "NULL",
                                    "36": "NULL",
                                    "37": "NULL",
                                    "38": "NULL",
                                    "39": "NULL"
                                },
                                {
                                    "0": "1",
                                    "1": "No Problems Found",
                                    "2": "From Your Community Volunteers",
                                    "3": "http://FirstResponderKit.org/",
                                    "4": "<?ClickToSeeDetails -- \r\nTry running our more in-depth checks with sp_Blitz, or there may not be an unusual SQL Server performance problem. \r\n -- ?>",
                                    "5": "NULL",
                                    "6": "-1",
                                    "7": "NULL",
                                    "8": "NULL",
                                    "9": "NULL",
                                    "10": "NULL",
                                    "11": "NULL",
                                    "12": "NULL",
                                    "13": "NULL",
                                    "14": "NULL",
                                    "15": "NULL",
                                    "16": "NULL",
                                    "17": "NULL",
                                    "18": "NULL",
                                    "19": "NULL",
                                    "20": "NULL",
                                    "21": "NULL",
                                    "22": "NULL",
                                    "23": "NULL",
                                    "24": "NULL",
                                    "25": "NULL",
                                    "26": "NULL",
                                    "27": "NULL",
                                    "28": "NULL",
                                    "29": "NULL",
                                    "30": "NULL",
                                    "31": "NULL",
                                    "32": "NULL",
                                    "33": "NULL",
                                    "34": "NULL",
                                    "35": "NULL",
                                    "36": "NULL",
                                    "37": "NULL",
                                    "38": "NULL",
                                    "39": "NULL"
                                },
                                {
                                    "0": "250",
                                    "1": "Server Info",
                                    "2": "Batch Requests per Sec",
                                    "3": "http://www.BrentOzar.com/go/measure",
                                    "4": "<?ClickToSeeDetails -- \r\n0.00\r\n -- ?>",
                                    "5": "NULL",
                                    "6": "19",
                                    "7": "NULL",
                                    "8": "NULL",
                                    "9": "NULL",
                                    "10": "NULL",
                                    "11": "NULL",
                                    "12": "NULL",
                                    "13": "NULL",
                                    "14": "NULL",
                                    "15": "NULL",
                                    "16": "NULL",
                                    "17": "NULL",
                                    "18": "NULL",
                                    "19": "NULL",
                                    "20": "NULL",
                                    "21": "NULL",
                                    "22": "NULL",
                                    "23": "NULL",
                                    "24": "NULL",
                                    "25": "NULL",
                                    "26": "NULL",
                                    "27": "NULL",
                                    "28": "NULL",
                                    "29": "NULL",
                                    "30": "NULL",
                                    "31": "NULL",
                                    "32": "NULL",
                                    "33": "NULL",
                                    "34": "NULL",
                                    "35": "NULL",
                                    "36": "NULL",
                                    "37": "NULL",
                                    "38": "NULL",
                                    "39": "0"
                                },
                                {
                                    "0": "250",
                                    "1": "Server Info",
                                    "2": "CPU Utilization",
                                    "3": "http://www.BrentOzar.com/go/cpu",
                                    "4": "<?ClickToSeeDetails -- \r\n3%. Ring buffer details: <Record id=\"1\" type=\"RING_BUFFER_SCHEDULER_MONITOR\" time=\"25603426\"><SchedulerMonitorEvent><SystemHealth><ProcessUtilization>0</ProcessUtilization><SystemIdle>97</SystemIdle><UserModeTime>10000000</UserModeTime><KernelModeTime>3906250</KernelModeTime><PageFaults>99065</PageFaults><WorkingSetDelta>262119424</WorkingSetDelta><MemoryUtilization>100</MemoryUtilization></SystemHealth></SchedulerMonitorEvent></Record>\r\n -- ?>",
                                    "5": "<?ClickToSeeCommmand -- \r\n\r\nWARNING: Running this command may result in data loss or an outage.\r\nThis tool is meant as a shortcut to help generate scripts for DBAs.\r\nIt is not a substitute for database training and experience.\r\nNow, having said that, here's the details:\r\n\r\n\r\n3% ON Oct 12 2020  8:50PM Ring buffer details:  <Record id=\"1\" type=\"RING_BUFFER_SCHEDULER_MONITOR\" time=\"25603426\"><SchedulerMonitorEvent><SystemHealth><ProcessUtilization>0</ProcessUtilization><SystemIdle>97</SystemIdle><UserModeTime>10000000</UserModeTime><KernelModeTime>3906250</KernelModeTime><PageFaults>99065</PageFaults><WorkingSetDelta>262119424</WorkingSetDelta><MemoryUtilization>100</MemoryUtilization></SystemHealth></SchedulerMonitorEvent></Record>\r\n\r\n5% ON Oct 12 2020  8:49PM Ring buffer details:  <Record id=\"2\" type=\"RING_BUFFER_SCHEDULER_MONITOR\" time=\"25663550\"><SchedulerMonitorEvent><SystemHealth><ProcessUtilization>0</ProcessUtilization><SystemIdle>95</SystemIdle><UserModeTime>2500000</UserModeTime><KernelModeTime>0</KernelModeTime><PageFaults>6392</PageFaults><WorkingSetDelta>22601728</WorkingSetDelta><MemoryUtilization>100</MemoryUtilization></SystemHealth></SchedulerMonitorEvent></Record>\r\n\r\n14% ON Oct 12 2020  8:48PM Ring buffer details:  <Record id=\"3\" type=\"RING_BUFFER_SCHEDULER_MONITOR\" time=\"25723648\"><SchedulerMonitorEvent><SystemHealth><ProcessUtilization>0</ProcessUtilization><SystemIdle>86</SystemIdle><UserModeTime>625000</UserModeTime><KernelModeTime>0</KernelModeTime><PageFaults>1779</PageFaults><WorkingSetDelta>2613248</WorkingSetDelta><MemoryUtilization>100</MemoryUtilization></SystemHealth></SchedulerMonitorEvent></Record>\r\n\r\n6% ON Oct 12 2020  8:47PM Ring buffer details:  <Record id=\"4\" type=\"RING_BUFFER_SCHEDULER_MONITOR\" time=\"25783749\"><SchedulerMonitorEvent><SystemHealth><ProcessUtilization>0</ProcessUtilization><SystemIdle>94</SystemIdle><UserModeTime>4375000</UserModeTime><KernelModeTime>0</KernelModeTime><PageFaults>3528</PageFaults><WorkingSetDelta>12881920</WorkingSetDelta><MemoryUtilization>100</MemoryUtilization></SystemHealth></SchedulerMonitorEvent></Record>\r\n\r\n6% ON Oct 12 2020  8:46PM Ring buffer details:  <Record id=\"5\" type=\"RING_BUFFER_SCHEDULER_MONITOR\" time=\"25843844\"><SchedulerMonitorEvent><SystemHealth><ProcessUtilization>0</ProcessUtilization><SystemIdle>94</SystemIdle><UserModeTime>10781250</UserModeTime><KernelModeTime>937500</KernelModeTime><PageFaults>4406</PageFaults><WorkingSetDelta>7086080</WorkingSetDelta><MemoryUtilization>100</MemoryUtilization></SystemHealth></SchedulerMonitorEvent></Record>\r\n\r\n5% ON Oct 12 2020  8:45PM Ring buffer details:  <Record id=\"6\" type=\"RING_BUFFER_SCHEDULER_MONITOR\" time=\"25903963\"><SchedulerMonitorEvent><SystemHealth><ProcessUtilization>0</ProcessUtilization><SystemIdle>95</SystemIdle><UserModeTime>9062500</UserModeTime><KernelModeTime>156250</KernelModeTime><PageFaults>2184</PageFaults><WorkingSetDelta>7507968</WorkingSetDelta><MemoryUtilization>100</MemoryUtilization></SystemHealth></SchedulerMonitorEvent></Record>\r\n\r\n4% ON Oct 12 2020  8:44PM Ring buffer details:  <Record id=\"7\" type=\"RING_BUFFER_SCHEDULER_MONITOR\" time=\"25964054\"><SchedulerMonitorEvent><SystemHealth><ProcessUtilization>0</ProcessUtilization><SystemIdle>96</SystemIdle><UserModeTime>4531250</UserModeTime><KernelModeTime>937500</KernelModeTime><PageFaults>291</PageFaults><WorkingSetDelta>-3674112</WorkingSetDelta><MemoryUtilization>100</MemoryUtilization></SystemHealth></SchedulerMonitorEvent></Record>\r\n\r\n3% ON Oct 12 2020  8:43PM Ring buffer details:  <Record id=\"8\" type=\"RING_BUFFER_SCHEDULER_MONITOR\" time=\"26024172\"><SchedulerMonitorEvent><SystemHealth><ProcessUtilization>0</ProcessUtilization><SystemIdle>97</SystemIdle><UserModeTime>3593750</UserModeTime><KernelModeTime>312500</KernelModeTime><PageFaults>413</PageFaults><WorkingSetDelta>1449984</WorkingSetDelta><MemoryUtilization>100</MemoryUtilization></SystemHealth></SchedulerMonitorEvent></Record>\r\n\r\n5% ON Oct 12 2020  8:42PM Ring buffer details:  <Record id=\"9\" type=\"RING_BUFFER_SCHEDULER_MONITOR\" time=\"26084257\"><SchedulerMonitorEvent><SystemHealth><ProcessUtilization>0</ProcessUtilization><SystemIdle>95</SystemIdle><UserModeTime>7187500</UserModeTime><KernelModeTime>156250</KernelModeTime><PageFaults>5527</PageFaults><WorkingSetDelta>-103608320</WorkingSetDelta><MemoryUtilization>84</MemoryUtilization></SystemHealth></SchedulerMonitorEvent></Record>\r\n\r\n6% ON Oct 12 2020  8:41PM Ring buffer details:  <Record id=\"10\" type=\"RING_BUFFER_SCHEDULER_MONITOR\" time=\"26144346\"><SchedulerMonitorEvent><SystemHealth><ProcessUtilization>0</ProcessUtilization><SystemIdle>94</SystemIdle><UserModeTime>7187500</UserModeTime><KernelModeTime>625000</KernelModeTime><PageFaults>2244</PageFaults><WorkingSetDelta>8822784</WorkingSetDelta><MemoryUtilization>84</MemoryUtilization></SystemHealth></SchedulerMonitorEvent></Record>\r\n\r\n2% ON Oct 12 2020  8:40PM Ring buffer details:  <Record id=\"11\" type=\"RING_BUFFER_SCHEDULER_MONITOR\" time=\"26204442\"><SchedulerMonitorEvent><SystemHealth><ProcessUtilization>0</ProcessUtilization><SystemIdle>98</SystemIdle><UserModeTime>9375000</UserModeTime><KernelModeTime>781250</KernelModeTime><PageFaults>552</PageFaults><WorkingSetDelta>2019328</WorkingSetDelta><MemoryUtilization>85</MemoryUtilization></SystemHealth></SchedulerMonitorEvent></Record>\r\n\r\n2% ON Oct 12 2020  8:39PM Ring buffer details:  <Record id=\"12\" type=\"RING_BUFFER_SCHEDULER_MONITOR\" time=\"26264542\"><SchedulerMonitorEvent><SystemHealth><ProcessUtilization>0</ProcessUtilization><SystemIdle>98</SystemIdle><UserModeTime>12031250</UserModeTime><KernelModeTime>1093750</KernelModeTime><PageFaults>60</PageFaults><WorkingSetDelta>-20480</WorkingSetDelta><MemoryUtilization>85</MemoryUtilization></SystemHealth></SchedulerMonitorEvent></Record>\r\n\r\n5% ON Oct 12 2020  8:38PM Ring buffer details:  <Record id=\"13\" type=\"RING_BUFFER_SCHEDULER_MONITOR\" time=\"26324627\"><SchedulerMonitorEvent><SystemHealth><ProcessUtilization>0</ProcessUtilization><SystemIdle>95</SystemIdle><UserModeTime>8593750</UserModeTime><KernelModeTime>937500</KernelModeTime><PageFaults>68</PageFaults><WorkingSetDelta>32768</WorkingSetDelta><MemoryUtilization>85</MemoryUtilization></SystemHealth></SchedulerMonitorEvent></Record>\r\n\r\n5% ON Oct 12 2020  8:37PM Ring buffer details:  <Record id=\"14\" type=\"RING_BUFFER_SCHEDULER_MONITOR\" time=\"26384723\"><SchedulerMonitorEvent><SystemHealth><ProcessUtilization>0</ProcessUtilization><SystemIdle>95</SystemIdle><UserModeTime>10000000</UserModeTime><KernelModeTime>781250</KernelModeTime><PageFaults>104</PageFaults><WorkingSetDelta>172032</WorkingSetDelta><MemoryUtilization>85</MemoryUtilization></SystemHealth></SchedulerMonitorEvent></Record>\r\n\r\n2% ON Oct 12 2020  8:36PM Ring buffer details:  <Record id=\"15\" type=\"RING_BUFFER_SCHEDULER_MONITOR\" time=\"26444791\"><SchedulerMonitorEvent><SystemHealth><ProcessUtilization>0</ProcessUtilization><SystemIdle>98</SystemIdle><UserModeTime>12031250</UserModeTime><KernelModeTime>625000</KernelModeTime><PageFaults>70</PageFaults><WorkingSetDelta>40960</WorkingSetDelta><MemoryUtilization>85</MemoryUtilization></SystemHealth></SchedulerMonitorEvent></Record>\r\n\r\n3% ON Oct 12 2020  8:35PM Ring buffer details:  <Record id=\"16\" type=\"RING_BUFFER_SCHEDULER_MONITOR\" time=\"26504904\"><SchedulerMonitorEvent><SystemHealth><ProcessUtilization>0</ProcessUtilization><SystemIdle>97</SystemIdle><UserModeTime>12500000</UserModeTime><KernelModeTime>1562500</KernelModeTime><PageFaults>72</PageFaults><WorkingSetDelta>49152</WorkingSetDelta><MemoryUtilization>85</MemoryUtilization></SystemHealth></SchedulerMonitorEvent></Record>\r\n\r\n3% ON Oct 12 2020  8:34PM Ring buffer details:  <Record id=\"17\" type=\"RING_BUFFER_SCHEDULER_MONITOR\" time=\"26565019\"><SchedulerMonitorEvent><SystemHealth><ProcessUtilization>0</ProcessUtilization><SystemIdle>97</SystemIdle><UserModeTime>11875000</UserModeTime><KernelModeTime>937500</KernelModeTime><PageFaults>62</PageFaults><WorkingSetDelta>12288</WorkingSetDelta><MemoryUtilization>85</MemoryUtilization></SystemHealth></SchedulerMonitorEvent></Record>\r\n\r\n3% ON Oct 12 2020  8:33PM Ring buffer details:  <Record id=\"18\" type=\"RING_BUFFER_SCHEDULER_MONITOR\" time=\"26625097\"><SchedulerMonitorEvent><SystemHealth><ProcessUtilization>0</ProcessUtilization><SystemIdle>97</SystemIdle><UserModeTime>11718750</UserModeTime><KernelModeTime>1718750</KernelModeTime><PageFaults>61</PageFaults><WorkingSetDelta>4096</WorkingSetDelta><MemoryUtilization>85</MemoryUtilization></SystemHealth></SchedulerMonitorEvent></Record>\r\n\r\n3% ON Oct 12 2020  8:32PM Ring buffer details:  <Record id=\"19\" type=\"RING_BUFFER_SCHEDULER_MONITOR\" time=\"26685199\"><SchedulerMonitorEvent><SystemHealth><ProcessUtilization>0</ProcessUtilization><SystemIdle>97</SystemIdle><UserModeTime>14375000</UserModeTime><KernelModeTime>1406250</KernelModeTime><PageFaults>70</PageFaults><WorkingSetDelta>45056</WorkingSetDelta><MemoryUtilization>85</MemoryUtilization></SystemHealth></SchedulerMonitorEvent></Record>\r\n\r\n7% ON Oct 12 2020  8:31PM Ring buffer details:  <Record id=\"20\" type=\"RING_BUFFER_SCHEDULER_MONITOR\" time=\"26745298\"><SchedulerMonitorEvent><SystemHealth><ProcessUtilization>1</ProcessUtilization><SystemIdle>93</SystemIdle><UserModeTime>22187500</UserModeTime><KernelModeTime>1875000</KernelModeTime><PageFaults>4450</PageFaults><WorkingSetDelta>14376960</WorkingSetDelta><MemoryUtilization>86</MemoryUtilization></SystemHealth></SchedulerMonitorEvent></Record>\r\n\r\n5% ON Oct 12 2020  8:30PM Ring buffer details:  <Record id=\"21\" type=\"RING_BUFFER_SCHEDULER_MONITOR\" time=\"26805365\"><SchedulerMonitorEvent><SystemHealth><ProcessUtilization>0</ProcessUtilization><SystemIdle>95</SystemIdle><UserModeTime>17812500</UserModeTime><KernelModeTime>3125000</KernelModeTime><PageFaults>6253</PageFaults><WorkingSetDelta>421888</WorkingSetDelta><MemoryUtilization>86</MemoryUtilization></SystemHealth></SchedulerMonitorEvent></Record>\r\n\r\n7% ON Oct 12 2020  8:29PM Ring buffer details:  <Record id=\"22\" type=\"RING_BUFFER_SCHEDULER_MONITOR\" time=\"26865458\"><SchedulerMonitorEvent><SystemHealth><ProcessUtilization>0</ProcessUtilization><SystemIdle>93</SystemIdle><UserModeTime>12656250</UserModeTime><KernelModeTime>2656250</KernelModeTime><PageFaults>7347</PageFaults><WorkingSetDelta>643072</WorkingSetDelta><MemoryUtilization>86</MemoryUtilization></SystemHealth></SchedulerMonitorEvent></Record>\r\n\r\n11% ON Oct 12 2020  8:28PM Ring buffer details:  <Record id=\"23\" type=\"RING_BUFFER_SCHEDULER_MONITOR\" time=\"26925568\"><SchedulerMonitorEvent><SystemHealth><ProcessUtilization>1</ProcessUtilization><SystemIdle>89</SystemIdle><UserModeTime>20937500</UserModeTime><KernelModeTime>3437500</KernelModeTime><PageFaults>11262</PageFaults><WorkingSetDelta>16384</WorkingSetDelta><MemoryUtilization>86</MemoryUtilization></SystemHealth></SchedulerMonitorEvent></Record>\r\n\r\n5% ON Oct 12 2020  8:27PM Ring buffer details:  <Record id=\"24\" type=\"RING_BUFFER_SCHEDULER_MONITOR\" time=\"26985663\"><SchedulerMonitorEvent><SystemHealth><ProcessUtilization>0</ProcessUtilization><SystemIdle>95</SystemIdle><UserModeTime>3906250</UserModeTime><KernelModeTime>937500</KernelModeTime><PageFaults>4737</PageFaults><WorkingSetDelta>581632</WorkingSetDelta><MemoryUtilization>86</MemoryUtilization></SystemHealth></SchedulerMonitorEvent></Record>\r\n\r\n2% ON Oct 12 2020  8:26PM Ring buffer details:  <Record id=\"25\" type=\"RING_BUFFER_SCHEDULER_MONITOR\" time=\"27045763\"><SchedulerMonitorEvent><SystemHealth><ProcessUtilization>0</ProcessUtilization><SystemIdle>98</SystemIdle><UserModeTime>0</UserModeTime><KernelModeTime>0</KernelModeTime><PageFaults>61</PageFaults><WorkingSetDelta>8192</WorkingSetDelta><MemoryUtilization>86</MemoryUtilization></SystemHealth></SchedulerMonitorEvent></Record>\r\n\r\n1% ON Oct 12 2020  8:25PM Ring buffer details:  <Record id=\"26\" type=\"RING_BUFFER_SCHEDULER_MONITOR\" time=\"27105848\"><SchedulerMonitorEvent><SystemHealth><ProcessUtilization>0</ProcessUtilization><SystemIdle>99</SystemIdle><UserModeTime>0</UserModeTime><KernelModeTime>156250</KernelModeTime><PageFaults>60</PageFaults><WorkingSetDelta>0</WorkingSetDelta><MemoryUtilization>86</MemoryUtilization></SystemHealth></SchedulerMonitorEvent></Record>\r\n\r\n2% ON Oct 12 2020  8:24PM Ring buffer details:  <Record id=\"27\" type=\"RING_BUFFER_SCHEDULER_MONITOR\" time=\"27165933\"><SchedulerMonitorEvent><SystemHealth><ProcessUtilization>0</ProcessUtilization><SystemIdle>98</SystemIdle><UserModeTime>0</UserModeTime><KernelModeTime>0</KernelModeTime><PageFaults>68</PageFaults><WorkingSetDelta>28672</WorkingSetDelta><MemoryUtilization>86</MemoryUtilization></SystemHealth></SchedulerMonitorEvent></Record>\r\n\r\n2% ON Oct 12 2020  8:23PM Ring buffer details:  <Record id=\"28\" type=\"RING_BUFFER_SCHEDULER_MONITOR\" time=\"27226012\"><SchedulerMonitorEvent><SystemHealth><ProcessUtilization>0</ProcessUtilization><SystemIdle>98</SystemIdle><UserModeTime>0</UserModeTime><KernelModeTime>0</KernelModeTime><PageFaults>59</PageFaults><WorkingSetDelta>-24576</WorkingSetDelta><MemoryUtilization>86</MemoryUtilization></SystemHealth></SchedulerMonitorEvent></Record>\r\n\r\n2% ON Oct 12 2020  8:22PM Ring buffer details:  <Record id=\"29\" type=\"RING_BUFFER_SCHEDULER_MONITOR\" time=\"27286130\"><SchedulerMonitorEvent><SystemHealth><ProcessUtilization>0</ProcessUtilization><SystemIdle>98</SystemIdle><UserModeTime>468750</UserModeTime><KernelModeTime>0</KernelModeTime><PageFaults>2787</PageFaults><WorkingSetDelta>-5885952</WorkingSetDelta><MemoryUtilization>83</MemoryUtilization></SystemHealth></SchedulerMonitorEvent></Record>\r\n\r\n3% ON Oct 12 2020  8:21PM Ring buffer details:  <Record id=\"30\" type=\"RING_BUFFER_SCHEDULER_MONITOR\" time=\"27346215\"><SchedulerMonitorEvent><SystemHealth><ProcessUtilization>0</ProcessUtilization><SystemIdle>97</SystemIdle><UserModeTime>8593750</UserModeTime><KernelModeTime>156250</KernelModeTime><PageFaults>2499</PageFaults><WorkingSetDelta>9076736</WorkingSetDelta><MemoryUtilization>85</MemoryUtilization></SystemHealth></SchedulerMonitorEvent></Record>\r\n\r\n2% ON Oct 12 2020  8:20PM Ring buffer details:  <Record id=\"31\" type=\"RING_BUFFER_SCHEDULER_MONITOR\" time=\"27406306\"><SchedulerMonitorEvent><SystemHealth><ProcessUtilization>0</ProcessUtilization><SystemIdle>98</SystemIdle><UserModeTime>1718750</UserModeTime><KernelModeTime>0</KernelModeTime><PageFaults>533</PageFaults><WorkingSetDelta>1122304</WorkingSetDelta><MemoryUtilization>86</MemoryUtilization></SystemHealth></SchedulerMonitorEvent></Record>\r\n\r\n6% ON Oct 12 2020  8:19PM Ring buffer details:  <Record id=\"32\" type=\"RING_BUFFER_SCHEDULER_MONITOR\" time=\"27466393\"><SchedulerMonitorEvent><SystemHealth><ProcessUtilization>0</ProcessUtilization><SystemIdle>94</SystemIdle><UserModeTime>9375000</UserModeTime><KernelModeTime>468750</KernelModeTime><PageFaults>14505</PageFaults><WorkingSetDelta>54345728</WorkingSetDelta><MemoryUtilization>94</MemoryUtilization></SystemHealth></SchedulerMonitorEvent></Record>\r\n\r\n7% ON Oct 12 2020  8:18PM Ring buffer details:  <Record id=\"33\" type=\"RING_BUFFER_SCHEDULER_MONITOR\" time=\"27526495\"><SchedulerMonitorEvent><SystemHealth><ProcessUtilization>0</ProcessUtilization><SystemIdle>93</SystemIdle><UserModeTime>156250</UserModeTime><KernelModeTime>0</KernelModeTime><PageFaults>62</PageFaults><WorkingSetDelta>12288</WorkingSetDelta><MemoryUtilization>94</MemoryUtilization></SystemHealth></SchedulerMonitorEvent></Record>\r\n\r\n7% ON Oct 12 2020  8:17PM Ring buffer details:  <Record id=\"34\" type=\"RING_BUFFER_SCHEDULER_MONITOR\" time=\"27586582\"><SchedulerMonitorEvent><SystemHealth><ProcessUtilization>0</ProcessUtilization><SystemIdle>93</SystemIdle><UserModeTime>781250</UserModeTime><KernelModeTime>0</KernelModeTime><PageFaults>1177</PageFaults><WorkingSetDelta>4554752</WorkingSetDelta><MemoryUtilization>94</MemoryUtilization></SystemHealth></SchedulerMonitorEvent></Record>\r\n\r\n4% ON Oct 12 2020  8:16PM Ring buffer details:  <Record id=\"35\" type=\"RING_BUFFER_SCHEDULER_MONITOR\" time=\"27646712\"><SchedulerMonitorEvent><SystemHealth><ProcessUtilization>0</ProcessUtilization><SystemIdle>96</SystemIdle><UserModeTime>312500</UserModeTime><KernelModeTime>0</KernelModeTime><PageFaults>85</PageFaults><WorkingSetDelta>98304</WorkingSetDelta><MemoryUtilization>94</MemoryUtilization></SystemHealth></SchedulerMonitorEvent></Record>\r\n\r\n1% ON Oct 12 2020  8:15PM Ring buffer details:  <Record id=\"36\" type=\"RING_BUFFER_SCHEDULER_MONITOR\" time=\"27706803\"><SchedulerMonitorEvent><SystemHealth><ProcessUtilization>0</ProcessUtilization><SystemIdle>99</SystemIdle><UserModeTime>156250</UserModeTime><KernelModeTime>0</KernelModeTime><PageFaults>59</PageFaults><WorkingSetDelta>0</WorkingSetDelta><MemoryUtilization>94</MemoryUtilization></SystemHealth></SchedulerMonitorEvent></Record>\r\n\r\n1% ON Oct 12 2020  8:14PM Ring buffer details:  <Record id=\"37\" type=\"RING_BUFFER_SCHEDULER_MONITOR\" time=\"27766903\"><SchedulerMonitorEvent><SystemHealth><ProcessUtilization>0</ProcessUtilization><SystemIdle>99</SystemIdle><UserModeTime>0</UserModeTime><KernelModeTime>0</KernelModeTime><PageFaults>63</PageFaults><WorkingSetDelta>-12288</WorkingSetDelta><MemoryUtilization>94</MemoryUtilization></SystemHealth></SchedulerMonitorEvent></Record>\r\n\r\n1% ON Oct 12 2020  8:13PM Ring buffer details:  <Record id=\"38\" type=\"RING_BUFFER_SCHEDULER_MONITOR\" time=\"27826988\"><SchedulerMonitorEvent><SystemHealth><ProcessUtilization>0</ProcessUtilization><SystemIdle>99</SystemIdle><UserModeTime>0</UserModeTime><KernelModeTime>0</KernelModeTime><PageFaults>59</PageFaults><WorkingSetDelta>0</WorkingSetDelta><MemoryUtilization>94</MemoryUtilization></SystemHealth></SchedulerMonitorEvent></Record>\r\n\r\n1% ON Oct 12 2020  8:12PM Ring buffer details:  <Record id=\"39\" type=\"RING_BUFFER_SCHEDULER_MONITOR\" time=\"27887098\"><SchedulerMonitorEvent><SystemHealth><ProcessUtilization>0</ProcessUtilization><SystemIdle>99</SystemIdle><UserModeTime>468750</UserModeTime><KernelModeTime>0</KernelModeTime><PageFaults>127</PageFaults><WorkingSetDelta>69632</WorkingSetDelta><MemoryUtilization>94</MemoryUtilization></SystemHealth></SchedulerMonitorEvent></Record>\r\n\r\n1% ON Oct 12 2020  8:11PM Ring buffer details:  <Record id=\"40\" type=\"RING_BUFFER_SCHEDULER_MONITOR\" time=\"27947207\"><SchedulerMonitorEvent><SystemHealth><ProcessUtilization>0</ProcessUtilization><SystemIdle>99</SystemIdle><UserModeTime>312500</UserModeTime><KernelModeTime>0</KernelModeTime><PageFaults>72</PageFaults><WorkingSetDelta>-389120</WorkingSetDelta><MemoryUtilization>94</MemoryUtilization></SystemHealth></SchedulerMonitorEvent></Record>\r\n\r\n12% ON Oct 12 2020  8:10PM Ring buffer details:  <Record id=\"41\" type=\"RING_BUFFER_SCHEDULER_MONITOR\" time=\"28009811\"><SchedulerMonitorEvent><SystemHealth><ProcessUtilization>0</ProcessUtilization><SystemIdle>88</SystemIdle><UserModeTime>312500</UserModeTime><KernelModeTime>0</KernelModeTime><PageFaults>60</PageFaults><WorkingSetDelta>4096</WorkingSetDelta><MemoryUtilization>94</MemoryUtilization></SystemHealth></SchedulerMonitorEvent></Record>\r\n\r\n7% ON Oct 12 2020  8:09PM Ring buffer details:  <Record id=\"42\" type=\"RING_BUFFER_SCHEDULER_MONITOR\" time=\"28069916\"><SchedulerMonitorEvent><SystemHealth><ProcessUtilization>0</ProcessUtilization><SystemIdle>93</SystemIdle><UserModeTime>156250</UserModeTime><KernelModeTime>156250</KernelModeTime><PageFaults>70</PageFaults><WorkingSetDelta>-491520</WorkingSetDelta><MemoryUtilization>94</MemoryUtilization></SystemHealth></SchedulerMonitorEvent></Record>\r\n\r\n6% ON Oct 12 2020  8:08PM Ring buffer details:  <Record id=\"43\" type=\"RING_BUFFER_SCHEDULER_MONITOR\" time=\"28130003\"><SchedulerMonitorEvent><SystemHealth><ProcessUtilization>0</ProcessUtilization><SystemIdle>94</SystemIdle><UserModeTime>0</UserModeTime><KernelModeTime>0</KernelModeTime><PageFaults>62</PageFaults><WorkingSetDelta>8192</WorkingSetDelta><MemoryUtilization>94</MemoryUtilization></SystemHealth></SchedulerMonitorEvent></Record>\r\n\r\n19% ON Oct 12 2020  8:07PM Ring buffer details:  <Record id=\"44\" type=\"RING_BUFFER_SCHEDULER_MONITOR\" time=\"28190119\"><SchedulerMonitorEvent><SystemHealth><ProcessUtilization>0</ProcessUtilization><SystemIdle>81</SystemIdle><UserModeTime>2031250</UserModeTime><KernelModeTime>625000</KernelModeTime><PageFaults>1025</PageFaults><WorkingSetDelta>315392</WorkingSetDelta><MemoryUtilization>94</MemoryUtilization></SystemHealth></SchedulerMonitorEvent></Record>\r\n\r\n5% ON Oct 12 2020  8:06PM Ring buffer details:  <Record id=\"45\" type=\"RING_BUFFER_SCHEDULER_MONITOR\" time=\"28250213\"><SchedulerMonitorEvent><SystemHealth><ProcessUtilization>0</ProcessUtilization><SystemIdle>95</SystemIdle><UserModeTime>312500</UserModeTime><KernelModeTime>0</KernelModeTime><PageFaults>71</PageFaults><WorkingSetDelta>-20480</WorkingSetDelta><MemoryUtilization>94</MemoryUtilization></SystemHealth></SchedulerMonitorEvent></Record>\r\n\r\n3% ON Oct 12 2020  8:05PM Ring buffer details:  <Record id=\"46\" type=\"RING_BUFFER_SCHEDULER_MONITOR\" time=\"28310318\"><SchedulerMonitorEvent><SystemHealth><ProcessUtilization>0</ProcessUtilization><SystemIdle>97</SystemIdle><UserModeTime>468750</UserModeTime><KernelModeTime>0</KernelModeTime><PageFaults>60</PageFaults><WorkingSetDelta>0</WorkingSetDelta><MemoryUtilization>94</MemoryUtilization></SystemHealth></SchedulerMonitorEvent></Record>\r\n\r\n1% ON Oct 12 2020  8:04PM Ring buffer details:  <Record id=\"47\" type=\"RING_BUFFER_SCHEDULER_MONITOR\" time=\"28370447\"><SchedulerMonitorEvent><SystemHealth><ProcessUtilization>0</ProcessUtilization><SystemIdle>99</SystemIdle><UserModeTime>312500</UserModeTime><KernelModeTime>0</KernelModeTime><PageFaults>59</PageFaults><WorkingSetDelta>0</WorkingSetDelta><MemoryUtilization>94</MemoryUtilization></SystemHealth></SchedulerMonitorEvent></Record>\r\n\r\n3% ON Oct 12 2020  8:03PM Ring buffer details:  <Record id=\"48\" type=\"RING_BUFFER_SCHEDULER_MONITOR\" time=\"28430561\"><SchedulerMonitorEvent><SystemHealth><ProcessUtilization>0</ProcessUtilization><SystemIdle>97</SystemIdle><UserModeTime>312500</UserModeTime><KernelModeTime>0</KernelModeTime><PageFaults>60</PageFaults><WorkingSetDelta>0</WorkingSetDelta><MemoryUtilization>94</MemoryUtilization></SystemHealth></SchedulerMonitorEvent></Record>\r\n\r\n9% ON Oct 12 2020  8:02PM Ring buffer details:  <Record id=\"49\" type=\"RING_BUFFER_SCHEDULER_MONITOR\" time=\"28490679\"><SchedulerMonitorEvent><SystemHealth><ProcessUtilization>0</ProcessUtilization><SystemIdle>91</SystemIdle><UserModeTime>8281250</UserModeTime><KernelModeTime>2031250</KernelModeTime><PageFaults>3134</PageFaults><WorkingSetDelta>-22245376</WorkingSetDelta><MemoryUtilization>87</MemoryUtilization></SystemHealth></SchedulerMonitorEvent></Record>\r\n\r\n15% ON Oct 12 2020  8:01PM Ring buffer details:  <Record id=\"50\" type=\"RING_BUFFER_SCHEDULER_MONITOR\" time=\"28550780\"><SchedulerMonitorEvent><SystemHealth><ProcessUtilization>2</ProcessUtilization><SystemIdle>85</SystemIdle><UserModeTime>60937500</UserModeTime><KernelModeTime>5000000</KernelModeTime><PageFaults>25496</PageFaults><WorkingSetDelta>94556160</WorkingSetDelta><MemoryUtilization>94</MemoryUtilization></SystemHealth></SchedulerMonitorEvent></Record>\r\n\r\n13% ON Oct 12 2020  8:00PM Ring buffer details:  <Record id=\"51\" type=\"RING_BUFFER_SCHEDULER_MONITOR\" time=\"28610879\"><SchedulerMonitorEvent><SystemHealth><ProcessUtilization>0</ProcessUtilization><SystemIdle>87</SystemIdle><UserModeTime>312500</UserModeTime><KernelModeTime>0</KernelModeTime><PageFaults>78</PageFaults><WorkingSetDelta>73728</WorkingSetDelta><MemoryUtilization>94</MemoryUtilization></SystemHealth></SchedulerMonitorEvent></Record>\r\n\r\n15% ON Oct 12 2020  7:59PM Ring buffer details:  <Record id=\"52\" type=\"RING_BUFFER_SCHEDULER_MONITOR\" time=\"28670985\"><SchedulerMonitorEvent><SystemHealth><ProcessUtilization>0</ProcessUtilization><SystemIdle>85</SystemIdle><UserModeTime>2656250</UserModeTime><KernelModeTime>312500</KernelModeTime><PageFaults>88</PageFaults><WorkingSetDelta>77824</WorkingSetDelta><MemoryUtilization>94</MemoryUtilization></SystemHealth></SchedulerMonitorEvent></Record>\r\n\r\n5% ON Oct 12 2020  7:58PM Ring buffer details:  <Record id=\"53\" type=\"RING_BUFFER_SCHEDULER_MONITOR\" time=\"28731065\"><SchedulerMonitorEvent><SystemHealth><ProcessUtilization>0</ProcessUtilization><SystemIdle>95</SystemIdle><UserModeTime>468750</UserModeTime><KernelModeTime>0</KernelModeTime><PageFaults>59</PageFaults><WorkingSetDelta>0</WorkingSetDelta><MemoryUtilization>94</MemoryUtilization></SystemHealth></SchedulerMonitorEvent></Record>\r\n\r\n8% ON Oct 12 2020  7:57PM Ring buffer details:  <Record id=\"54\" type=\"RING_BUFFER_SCHEDULER_MONITOR\" time=\"28791162\"><SchedulerMonitorEvent><SystemHealth><ProcessUtilization>0</ProcessUtilization><SystemIdle>92</SystemIdle><UserModeTime>1875000</UserModeTime><KernelModeTime>312500</KernelModeTime><PageFaults>1903</PageFaults><WorkingSetDelta>7458816</WorkingSetDelta><MemoryUtilization>94</MemoryUtilization></SystemHealth></SchedulerMonitorEvent></Record>\r\n\r\n7% ON Oct 12 2020  7:56PM Ring buffer details:  <Record id=\"55\" type=\"RING_BUFFER_SCHEDULER_MONITOR\" time=\"28851262\"><SchedulerMonitorEvent><SystemHealth><ProcessUtilization>0</ProcessUtilization><SystemIdle>93</SystemIdle><UserModeTime>625000</UserModeTime><KernelModeTime>0</KernelModeTime><PageFaults>60</PageFaults><WorkingSetDelta>0</WorkingSetDelta><MemoryUtilization>94</MemoryUtilization></SystemHealth></SchedulerMonitorEvent></Record>\r\n\r\n9% ON Oct 12 2020  7:55PM Ring buffer details:  <Record id=\"56\" type=\"RING_BUFFER_SCHEDULER_MONITOR\" time=\"28911359\"><SchedulerMonitorEvent><SystemHealth><ProcessUtilization>0</ProcessUtilization><SystemIdle>91</SystemIdle><UserModeTime>625000</UserModeTime><KernelModeTime>0</KernelModeTime><PageFaults>59</PageFaults><WorkingSetDelta>0</WorkingSetDelta><MemoryUtilization>94</MemoryUtilization></SystemHealth></SchedulerMonitorEvent></Record>\r\n\r\n8% ON Oct 12 2020  7:54PM Ring buffer details:  <Record id=\"57\" type=\"RING_BUFFER_SCHEDULER_MONITOR\" time=\"28971474\"><SchedulerMonitorEvent><SystemHealth><ProcessUtilization>0</ProcessUtilization><SystemIdle>92</SystemIdle><UserModeTime>468750</UserModeTime><KernelModeTime>0</KernelModeTime><PageFaults>60</PageFaults><WorkingSetDelta>0</WorkingSetDelta><MemoryUtilization>94</MemoryUtilization></SystemHealth></SchedulerMonitorEvent></Record>\r\n\r\n14% ON Oct 12 2020  7:53PM Ring buffer details:  <Record id=\"58\" type=\"RING_BUFFER_SCHEDULER_MONITOR\" time=\"29031595\"><SchedulerMonitorEvent><SystemHealth><ProcessUtilization>2</ProcessUtilization><SystemIdle>86</SystemIdle><UserModeTime>65468750</UserModeTime><KernelModeTime>625000</KernelModeTime><PageFaults>1674</PageFaults><WorkingSetDelta>-1880064</WorkingSetDelta><MemoryUtilization>94</MemoryUtilization></SystemHealth></SchedulerMonitorEvent></Record>\r\n\r\n-- ?>",
                                    "6": "23",
                                    "7": "NULL",
                                    "8": "NULL",
                                    "9": "NULL",
                                    "10": "NULL",
                                    "11": "NULL",
                                    "12": "NULL",
                                    "13": "NULL",
                                    "14": "NULL",
                                    "15": "NULL",
                                    "16": "NULL",
                                    "17": "NULL",
                                    "18": "NULL",
                                    "19": "NULL",
                                    "20": "NULL",
                                    "21": "NULL",
                                    "22": "NULL",
                                    "23": "NULL",
                                    "24": "NULL",
                                    "25": "NULL",
                                    "26": "NULL",
                                    "27": "NULL",
                                    "28": "NULL",
                                    "29": "NULL",
                                    "30": "NULL",
                                    "31": "NULL",
                                    "32": "NULL",
                                    "33": "NULL",
                                    "34": "NULL",
                                    "35": "NULL",
                                    "36": "NULL",
                                    "37": "NULL",
                                    "38": "NULL",
                                    "39": "3"
                                },
                                {
                                    "0": "250",
                                    "1": "Server Info",
                                    "2": "SQL Compilations per Sec",
                                    "3": "http://www.BrentOzar.com/go/measure",
                                    "4": "<?ClickToSeeDetails -- \r\n6\r\n -- ?>",
                                    "5": "NULL",
                                    "6": "25",
                                    "7": "NULL",
                                    "8": "NULL",
                                    "9": "NULL",
                                    "10": "NULL",
                                    "11": "NULL",
                                    "12": "NULL",
                                    "13": "NULL",
                                    "14": "NULL",
                                    "15": "NULL",
                                    "16": "NULL",
                                    "17": "NULL",
                                    "18": "NULL",
                                    "19": "NULL",
                                    "20": "NULL",
                                    "21": "NULL",
                                    "22": "NULL",
                                    "23": "NULL",
                                    "24": "NULL",
                                    "25": "NULL",
                                    "26": "NULL",
                                    "27": "NULL",
                                    "28": "NULL",
                                    "29": "NULL",
                                    "30": "NULL",
                                    "31": "NULL",
                                    "32": "NULL",
                                    "33": "NULL",
                                    "34": "NULL",
                                    "35": "NULL",
                                    "36": "NULL",
                                    "37": "NULL",
                                    "38": "NULL",
                                    "39": "6"
                                },
                                {
                                    "0": "250",
                                    "1": "Server Info",
                                    "2": "SQL Re-Compilations per Sec",
                                    "3": "http://www.BrentOzar.com/go/measure",
                                    "4": "<?ClickToSeeDetails -- \r\n5\r\n -- ?>",
                                    "5": "NULL",
                                    "6": "26",
                                    "7": "NULL",
                                    "8": "NULL",
                                    "9": "NULL",
                                    "10": "NULL",
                                    "11": "NULL",
                                    "12": "NULL",
                                    "13": "NULL",
                                    "14": "NULL",
                                    "15": "NULL",
                                    "16": "NULL",
                                    "17": "NULL",
                                    "18": "NULL",
                                    "19": "NULL",
                                    "20": "NULL",
                                    "21": "NULL",
                                    "22": "NULL",
                                    "23": "NULL",
                                    "24": "NULL",
                                    "25": "NULL",
                                    "26": "NULL",
                                    "27": "NULL",
                                    "28": "NULL",
                                    "29": "NULL",
                                    "30": "NULL",
                                    "31": "NULL",
                                    "32": "NULL",
                                    "33": "NULL",
                                    "34": "NULL",
                                    "35": "NULL",
                                    "36": "NULL",
                                    "37": "NULL",
                                    "38": "NULL",
                                    "39": "5"
                                },
                                {
                                    "0": "250",
                                    "1": "Server Info",
                                    "2": "Wait Time per Core per Sec",
                                    "3": "http://www.BrentOzar.com/go/measure",
                                    "4": "<?ClickToSeeDetails -- \r\n0.00\r\n -- ?>",
                                    "5": "NULL",
                                    "6": "20",
                                    "7": "NULL",
                                    "8": "NULL",
                                    "9": "NULL",
                                    "10": "NULL",
                                    "11": "NULL",
                                    "12": "NULL",
                                    "13": "NULL",
                                    "14": "NULL",
                                    "15": "NULL",
                                    "16": "NULL",
                                    "17": "NULL",
                                    "18": "NULL",
                                    "19": "NULL",
                                    "20": "NULL",
                                    "21": "NULL",
                                    "22": "NULL",
                                    "23": "NULL",
                                    "24": "NULL",
                                    "25": "NULL",
                                    "26": "NULL",
                                    "27": "NULL",
                                    "28": "NULL",
                                    "29": "NULL",
                                    "30": "NULL",
                                    "31": "NULL",
                                    "32": "NULL",
                                    "33": "NULL",
                                    "34": "NULL",
                                    "35": "NULL",
                                    "36": "NULL",
                                    "37": "NULL",
                                    "38": "NULL",
                                    "39": "0"
                                },
                                {
                                    "0": "251",
                                    "1": "Server Info",
                                    "2": "Database Count",
                                    "3": "http://www.BrentOzar.com/askbrent/",
                                    "4": "<?ClickToSeeDetails -- \r\n3\r\n -- ?>",
                                    "5": "NULL",
                                    "6": "22",
                                    "7": "NULL",
                                    "8": "NULL",
                                    "9": "NULL",
                                    "10": "NULL",
                                    "11": "NULL",
                                    "12": "NULL",
                                    "13": "NULL",
                                    "14": "NULL",
                                    "15": "NULL",
                                    "16": "NULL",
                                    "17": "NULL",
                                    "18": "NULL",
                                    "19": "NULL",
                                    "20": "NULL",
                                    "21": "NULL",
                                    "22": "NULL",
                                    "23": "NULL",
                                    "24": "NULL",
                                    "25": "NULL",
                                    "26": "NULL",
                                    "27": "NULL",
                                    "28": "NULL",
                                    "29": "NULL",
                                    "30": "NULL",
                                    "31": "NULL",
                                    "32": "NULL",
                                    "33": "NULL",
                                    "34": "NULL",
                                    "35": "NULL",
                                    "36": "NULL",
                                    "37": "NULL",
                                    "38": "NULL",
                                    "39": "3"
                                },
                                {
                                    "0": "251",
                                    "1": "Server Info",
                                    "2": "Database Size, Total GB",
                                    "3": "http://www.BrentOzar.com/askbrent/",
                                    "4": "<?ClickToSeeDetails -- \r\n0.73437500000\r\n -- ?>",
                                    "5": "NULL",
                                    "6": "21",
                                    "7": "NULL",
                                    "8": "NULL",
                                    "9": "NULL",
                                    "10": "NULL",
                                    "11": "NULL",
                                    "12": "NULL",
                                    "13": "NULL",
                                    "14": "NULL",
                                    "15": "NULL",
                                    "16": "NULL",
                                    "17": "NULL",
                                    "18": "NULL",
                                    "19": "NULL",
                                    "20": "NULL",
                                    "21": "NULL",
                                    "22": "NULL",
                                    "23": "NULL",
                                    "24": "NULL",
                                    "25": "NULL",
                                    "26": "NULL",
                                    "27": "NULL",
                                    "28": "NULL",
                                    "29": "NULL",
                                    "30": "NULL",
                                    "31": "NULL",
                                    "32": "NULL",
                                    "33": "NULL",
                                    "34": "NULL",
                                    "35": "NULL",
                                    "36": "NULL",
                                    "37": "NULL",
                                    "38": "NULL",
                                    "39": "0"
                                },
                                {
                                    "0": "251",
                                    "1": "Server Info",
                                    "2": "Memory Grant/Workspace info",
                                    "3": "http://www.BrentOzar.com/askbrent/",
                                    "4": "<?ClickToSeeDetails -- \r\nGrants Outstanding: 0\r\nTotal Granted(MB): 0\r\nTotal WorkSpace(MB): 1368\r\nGranted workspace: 0.00%\r\nOldest Grant in seconds: 0\r\n -- ?>",
                                    "5": "NULL",
                                    "6": "40",
                                    "7": "NULL",
                                    "8": "NULL",
                                    "9": "NULL",
                                    "10": "NULL",
                                    "11": "NULL",
                                    "12": "NULL",
                                    "13": "NULL",
                                    "14": "NULL",
                                    "15": "NULL",
                                    "16": "NULL",
                                    "17": "NULL",
                                    "18": "NULL",
                                    "19": "NULL",
                                    "20": "NULL",
                                    "21": "NULL",
                                    "22": "NULL",
                                    "23": "NULL",
                                    "24": "NULL",
                                    "25": "NULL",
                                    "26": "NULL",
                                    "27": "NULL",
                                    "28": "NULL",
                                    "29": "NULL",
                                    "30": "NULL",
                                    "31": "NULL",
                                    "32": "NULL",
                                    "33": "NULL",
                                    "34": "NULL",
                                    "35": "NULL",
                                    "36": "NULL",
                                    "37": "NULL",
                                    "38": "NULL",
                                    "39": "0"
                                },
                                {
                                    "0": "255",
                                    "1": "Thanks!",
                                    "2": "From Your Community Volunteers",
                                    "3": "http://FirstResponderKit.org/",
                                    "4": "<?ClickToSeeDetails -- \r\nTo get help or add your own contributions, join us at http://FirstResponderKit.org.\r\n -- ?>",
                                    "5": "NULL",
                                    "6": "-1",
                                    "7": "NULL",
                                    "8": "NULL",
                                    "9": "NULL",
                                    "10": "NULL",
                                    "11": "NULL",
                                    "12": "NULL",
                                    "13": "NULL",
                                    "14": "NULL",
                                    "15": "NULL",
                                    "16": "NULL",
                                    "17": "NULL",
                                    "18": "NULL",
                                    "19": "NULL",
                                    "20": "NULL",
                                    "21": "NULL",
                                    "22": "NULL",
                                    "23": "NULL",
                                    "24": "NULL",
                                    "25": "NULL",
                                    "26": "NULL",
                                    "27": "NULL",
                                    "28": "NULL",
                                    "29": "NULL",
                                    "30": "NULL",
                                    "31": "NULL",
                                    "32": "NULL",
                                    "33": "NULL",
                                    "34": "NULL",
                                    "35": "NULL",
                                    "36": "NULL",
                                    "37": "NULL",
                                    "38": "NULL",
                                    "39": "NULL"
                                }
                            ]
                        },
                        "text/html": [
                            "<table>",
                            "<tr><th>Priority</th><th>FindingsGroup</th><th>Finding</th><th>URL</th><th>Details</th><th>HowToStopIt</th><th>CheckID</th><th>StartTime</th><th>LoginName</th><th>NTUserName</th><th>OriginalLoginName</th><th>ProgramName</th><th>HostName</th><th>DatabaseID</th><th>DatabaseName</th><th>OpenTransactionCount</th><th>QueryPlan</th><th>QueryText</th><th>PlanHandle</th><th>SqlHandle</th><th>StatementStartOffset</th><th>StatementEndOffset</th><th>Executions</th><th>ExecutionsPercent</th><th>Duration</th><th>DurationPercent</th><th>CPU</th><th>CPUPercent</th><th>Reads</th><th>ReadsPercent</th><th>PlanCreationTime</th><th>TotalExecutions</th><th>TotalExecutionsPercent</th><th>TotalDuration</th><th>TotalDurationPercent</th><th>TotalCPU</th><th>TotalCPUPercent</th><th>TotalReads</th><th>TotalReadsPercent</th><th>DetailsInt</th></tr>",
                            "<tr><td>0</td><td>sp_BlitzFirst 2020-10-11 00:00:00.0000000 +00:00</td><td>From Your Community Volunteers</td><td>http://FirstResponderKit.org/</td><td>&lt;?ClickToSeeDetails -- \r\nWe hope you found this tool useful.\r\n -- ?&gt;</td><td>NULL</td><td>-1</td><td>NULL</td><td>NULL</td><td>NULL</td><td>NULL</td><td>NULL</td><td>NULL</td><td>NULL</td><td>NULL</td><td>NULL</td><td>NULL</td><td>NULL</td><td>NULL</td><td>NULL</td><td>NULL</td><td>NULL</td><td>NULL</td><td>NULL</td><td>NULL</td><td>NULL</td><td>NULL</td><td>NULL</td><td>NULL</td><td>NULL</td><td>NULL</td><td>NULL</td><td>NULL</td><td>NULL</td><td>NULL</td><td>NULL</td><td>NULL</td><td>NULL</td><td>NULL</td><td>NULL</td></tr>",
                            "<tr><td>1</td><td>No Problems Found</td><td>From Your Community Volunteers</td><td>http://FirstResponderKit.org/</td><td>&lt;?ClickToSeeDetails -- \r\nTry running our more in-depth checks with sp_Blitz, or there may not be an unusual SQL Server performance problem. \r\n -- ?&gt;</td><td>NULL</td><td>-1</td><td>NULL</td><td>NULL</td><td>NULL</td><td>NULL</td><td>NULL</td><td>NULL</td><td>NULL</td><td>NULL</td><td>NULL</td><td>NULL</td><td>NULL</td><td>NULL</td><td>NULL</td><td>NULL</td><td>NULL</td><td>NULL</td><td>NULL</td><td>NULL</td><td>NULL</td><td>NULL</td><td>NULL</td><td>NULL</td><td>NULL</td><td>NULL</td><td>NULL</td><td>NULL</td><td>NULL</td><td>NULL</td><td>NULL</td><td>NULL</td><td>NULL</td><td>NULL</td><td>NULL</td></tr>",
                            "<tr><td>250</td><td>Server Info</td><td>Batch Requests per Sec</td><td>http://www.BrentOzar.com/go/measure</td><td>&lt;?ClickToSeeDetails -- \r\n0.00\r\n -- ?&gt;</td><td>NULL</td><td>19</td><td>NULL</td><td>NULL</td><td>NULL</td><td>NULL</td><td>NULL</td><td>NULL</td><td>NULL</td><td>NULL</td><td>NULL</td><td>NULL</td><td>NULL</td><td>NULL</td><td>NULL</td><td>NULL</td><td>NULL</td><td>NULL</td><td>NULL</td><td>NULL</td><td>NULL</td><td>NULL</td><td>NULL</td><td>NULL</td><td>NULL</td><td>NULL</td><td>NULL</td><td>NULL</td><td>NULL</td><td>NULL</td><td>NULL</td><td>NULL</td><td>NULL</td><td>NULL</td><td>0</td></tr>",
                            "<tr><td>250</td><td>Server Info</td><td>CPU Utilization</td><td>http://www.BrentOzar.com/go/cpu</td><td>&lt;?ClickToSeeDetails -- \r\n3%. Ring buffer details: &lt;Record id=&quot;1&quot; type=&quot;RING_BUFFER_SCHEDULER_MONITOR&quot; time=&quot;25603426&quot;&gt;&lt;SchedulerMonitorEvent&gt;&lt;SystemHealth&gt;&lt;ProcessUtilization&gt;0&lt;/ProcessUtilization&gt;&lt;SystemIdle&gt;97&lt;/SystemIdle&gt;&lt;UserModeTime&gt;10000000&lt;/UserModeTime&gt;&lt;KernelModeTime&gt;3906250&lt;/KernelModeTime&gt;&lt;PageFaults&gt;99065&lt;/PageFaults&gt;&lt;WorkingSetDelta&gt;262119424&lt;/WorkingSetDelta&gt;&lt;MemoryUtilization&gt;100&lt;/MemoryUtilization&gt;&lt;/SystemHealth&gt;&lt;/SchedulerMonitorEvent&gt;&lt;/Record&gt;\r\n -- ?&gt;</td><td>&lt;?ClickToSeeCommmand -- \r\n\r\nWARNING: Running this command may result in data loss or an outage.\r\nThis tool is meant as a shortcut to help generate scripts for DBAs.\r\nIt is not a substitute for database training and experience.\r\nNow, having said that, here's the details:\r\n\r\n\r\n3% ON Oct 12 2020  8:50PM Ring buffer details:  &lt;Record id=&quot;1&quot; type=&quot;RING_BUFFER_SCHEDULER_MONITOR&quot; time=&quot;25603426&quot;&gt;&lt;SchedulerMonitorEvent&gt;&lt;SystemHealth&gt;&lt;ProcessUtilization&gt;0&lt;/ProcessUtilization&gt;&lt;SystemIdle&gt;97&lt;/SystemIdle&gt;&lt;UserModeTime&gt;10000000&lt;/UserModeTime&gt;&lt;KernelModeTime&gt;3906250&lt;/KernelModeTime&gt;&lt;PageFaults&gt;99065&lt;/PageFaults&gt;&lt;WorkingSetDelta&gt;262119424&lt;/WorkingSetDelta&gt;&lt;MemoryUtilization&gt;100&lt;/MemoryUtilization&gt;&lt;/SystemHealth&gt;&lt;/SchedulerMonitorEvent&gt;&lt;/Record&gt;\r\n\r\n5% ON Oct 12 2020  8:49PM Ring buffer details:  &lt;Record id=&quot;2&quot; type=&quot;RING_BUFFER_SCHEDULER_MONITOR&quot; time=&quot;25663550&quot;&gt;&lt;SchedulerMonitorEvent&gt;&lt;SystemHealth&gt;&lt;ProcessUtilization&gt;0&lt;/ProcessUtilization&gt;&lt;SystemIdle&gt;95&lt;/SystemIdle&gt;&lt;UserModeTime&gt;2500000&lt;/UserModeTime&gt;&lt;KernelModeTime&gt;0&lt;/KernelModeTime&gt;&lt;PageFaults&gt;6392&lt;/PageFaults&gt;&lt;WorkingSetDelta&gt;22601728&lt;/WorkingSetDelta&gt;&lt;MemoryUtilization&gt;100&lt;/MemoryUtilization&gt;&lt;/SystemHealth&gt;&lt;/SchedulerMonitorEvent&gt;&lt;/Record&gt;\r\n\r\n14% ON Oct 12 2020  8:48PM Ring buffer details:  &lt;Record id=&quot;3&quot; type=&quot;RING_BUFFER_SCHEDULER_MONITOR&quot; time=&quot;25723648&quot;&gt;&lt;SchedulerMonitorEvent&gt;&lt;SystemHealth&gt;&lt;ProcessUtilization&gt;0&lt;/ProcessUtilization&gt;&lt;SystemIdle&gt;86&lt;/SystemIdle&gt;&lt;UserModeTime&gt;625000&lt;/UserModeTime&gt;&lt;KernelModeTime&gt;0&lt;/KernelModeTime&gt;&lt;PageFaults&gt;1779&lt;/PageFaults&gt;&lt;WorkingSetDelta&gt;2613248&lt;/WorkingSetDelta&gt;&lt;MemoryUtilization&gt;100&lt;/MemoryUtilization&gt;&lt;/SystemHealth&gt;&lt;/SchedulerMonitorEvent&gt;&lt;/Record&gt;\r\n\r\n6% ON Oct 12 2020  8:47PM Ring buffer details:  &lt;Record id=&quot;4&quot; type=&quot;RING_BUFFER_SCHEDULER_MONITOR&quot; time=&quot;25783749&quot;&gt;&lt;SchedulerMonitorEvent&gt;&lt;SystemHealth&gt;&lt;ProcessUtilization&gt;0&lt;/ProcessUtilization&gt;&lt;SystemIdle&gt;94&lt;/SystemIdle&gt;&lt;UserModeTime&gt;4375000&lt;/UserModeTime&gt;&lt;KernelModeTime&gt;0&lt;/KernelModeTime&gt;&lt;PageFaults&gt;3528&lt;/PageFaults&gt;&lt;WorkingSetDelta&gt;12881920&lt;/WorkingSetDelta&gt;&lt;MemoryUtilization&gt;100&lt;/MemoryUtilization&gt;&lt;/SystemHealth&gt;&lt;/SchedulerMonitorEvent&gt;&lt;/Record&gt;\r\n\r\n6% ON Oct 12 2020  8:46PM Ring buffer details:  &lt;Record id=&quot;5&quot; type=&quot;RING_BUFFER_SCHEDULER_MONITOR&quot; time=&quot;25843844&quot;&gt;&lt;SchedulerMonitorEvent&gt;&lt;SystemHealth&gt;&lt;ProcessUtilization&gt;0&lt;/ProcessUtilization&gt;&lt;SystemIdle&gt;94&lt;/SystemIdle&gt;&lt;UserModeTime&gt;10781250&lt;/UserModeTime&gt;&lt;KernelModeTime&gt;937500&lt;/KernelModeTime&gt;&lt;PageFaults&gt;4406&lt;/PageFaults&gt;&lt;WorkingSetDelta&gt;7086080&lt;/WorkingSetDelta&gt;&lt;MemoryUtilization&gt;100&lt;/MemoryUtilization&gt;&lt;/SystemHealth&gt;&lt;/SchedulerMonitorEvent&gt;&lt;/Record&gt;\r\n\r\n5% ON Oct 12 2020  8:45PM Ring buffer details:  &lt;Record id=&quot;6&quot; type=&quot;RING_BUFFER_SCHEDULER_MONITOR&quot; time=&quot;25903963&quot;&gt;&lt;SchedulerMonitorEvent&gt;&lt;SystemHealth&gt;&lt;ProcessUtilization&gt;0&lt;/ProcessUtilization&gt;&lt;SystemIdle&gt;95&lt;/SystemIdle&gt;&lt;UserModeTime&gt;9062500&lt;/UserModeTime&gt;&lt;KernelModeTime&gt;156250&lt;/KernelModeTime&gt;&lt;PageFaults&gt;2184&lt;/PageFaults&gt;&lt;WorkingSetDelta&gt;7507968&lt;/WorkingSetDelta&gt;&lt;MemoryUtilization&gt;100&lt;/MemoryUtilization&gt;&lt;/SystemHealth&gt;&lt;/SchedulerMonitorEvent&gt;&lt;/Record&gt;\r\n\r\n4% ON Oct 12 2020  8:44PM Ring buffer details:  &lt;Record id=&quot;7&quot; type=&quot;RING_BUFFER_SCHEDULER_MONITOR&quot; time=&quot;25964054&quot;&gt;&lt;SchedulerMonitorEvent&gt;&lt;SystemHealth&gt;&lt;ProcessUtilization&gt;0&lt;/ProcessUtilization&gt;&lt;SystemIdle&gt;96&lt;/SystemIdle&gt;&lt;UserModeTime&gt;4531250&lt;/UserModeTime&gt;&lt;KernelModeTime&gt;937500&lt;/KernelModeTime&gt;&lt;PageFaults&gt;291&lt;/PageFaults&gt;&lt;WorkingSetDelta&gt;-3674112&lt;/WorkingSetDelta&gt;&lt;MemoryUtilization&gt;100&lt;/MemoryUtilization&gt;&lt;/SystemHealth&gt;&lt;/SchedulerMonitorEvent&gt;&lt;/Record&gt;\r\n\r\n3% ON Oct 12 2020  8:43PM Ring buffer details:  &lt;Record id=&quot;8&quot; type=&quot;RING_BUFFER_SCHEDULER_MONITOR&quot; time=&quot;26024172&quot;&gt;&lt;SchedulerMonitorEvent&gt;&lt;SystemHealth&gt;&lt;ProcessUtilization&gt;0&lt;/ProcessUtilization&gt;&lt;SystemIdle&gt;97&lt;/SystemIdle&gt;&lt;UserModeTime&gt;3593750&lt;/UserModeTime&gt;&lt;KernelModeTime&gt;312500&lt;/KernelModeTime&gt;&lt;PageFaults&gt;413&lt;/PageFaults&gt;&lt;WorkingSetDelta&gt;1449984&lt;/WorkingSetDelta&gt;&lt;MemoryUtilization&gt;100&lt;/MemoryUtilization&gt;&lt;/SystemHealth&gt;&lt;/SchedulerMonitorEvent&gt;&lt;/Record&gt;\r\n\r\n5% ON Oct 12 2020  8:42PM Ring buffer details:  &lt;Record id=&quot;9&quot; type=&quot;RING_BUFFER_SCHEDULER_MONITOR&quot; time=&quot;26084257&quot;&gt;&lt;SchedulerMonitorEvent&gt;&lt;SystemHealth&gt;&lt;ProcessUtilization&gt;0&lt;/ProcessUtilization&gt;&lt;SystemIdle&gt;95&lt;/SystemIdle&gt;&lt;UserModeTime&gt;7187500&lt;/UserModeTime&gt;&lt;KernelModeTime&gt;156250&lt;/KernelModeTime&gt;&lt;PageFaults&gt;5527&lt;/PageFaults&gt;&lt;WorkingSetDelta&gt;-103608320&lt;/WorkingSetDelta&gt;&lt;MemoryUtilization&gt;84&lt;/MemoryUtilization&gt;&lt;/SystemHealth&gt;&lt;/SchedulerMonitorEvent&gt;&lt;/Record&gt;\r\n\r\n6% ON Oct 12 2020  8:41PM Ring buffer details:  &lt;Record id=&quot;10&quot; type=&quot;RING_BUFFER_SCHEDULER_MONITOR&quot; time=&quot;26144346&quot;&gt;&lt;SchedulerMonitorEvent&gt;&lt;SystemHealth&gt;&lt;ProcessUtilization&gt;0&lt;/ProcessUtilization&gt;&lt;SystemIdle&gt;94&lt;/SystemIdle&gt;&lt;UserModeTime&gt;7187500&lt;/UserModeTime&gt;&lt;KernelModeTime&gt;625000&lt;/KernelModeTime&gt;&lt;PageFaults&gt;2244&lt;/PageFaults&gt;&lt;WorkingSetDelta&gt;8822784&lt;/WorkingSetDelta&gt;&lt;MemoryUtilization&gt;84&lt;/MemoryUtilization&gt;&lt;/SystemHealth&gt;&lt;/SchedulerMonitorEvent&gt;&lt;/Record&gt;\r\n\r\n2% ON Oct 12 2020  8:40PM Ring buffer details:  &lt;Record id=&quot;11&quot; type=&quot;RING_BUFFER_SCHEDULER_MONITOR&quot; time=&quot;26204442&quot;&gt;&lt;SchedulerMonitorEvent&gt;&lt;SystemHealth&gt;&lt;ProcessUtilization&gt;0&lt;/ProcessUtilization&gt;&lt;SystemIdle&gt;98&lt;/SystemIdle&gt;&lt;UserModeTime&gt;9375000&lt;/UserModeTime&gt;&lt;KernelModeTime&gt;781250&lt;/KernelModeTime&gt;&lt;PageFaults&gt;552&lt;/PageFaults&gt;&lt;WorkingSetDelta&gt;2019328&lt;/WorkingSetDelta&gt;&lt;MemoryUtilization&gt;85&lt;/MemoryUtilization&gt;&lt;/SystemHealth&gt;&lt;/SchedulerMonitorEvent&gt;&lt;/Record&gt;\r\n\r\n2% ON Oct 12 2020  8:39PM Ring buffer details:  &lt;Record id=&quot;12&quot; type=&quot;RING_BUFFER_SCHEDULER_MONITOR&quot; time=&quot;26264542&quot;&gt;&lt;SchedulerMonitorEvent&gt;&lt;SystemHealth&gt;&lt;ProcessUtilization&gt;0&lt;/ProcessUtilization&gt;&lt;SystemIdle&gt;98&lt;/SystemIdle&gt;&lt;UserModeTime&gt;12031250&lt;/UserModeTime&gt;&lt;KernelModeTime&gt;1093750&lt;/KernelModeTime&gt;&lt;PageFaults&gt;60&lt;/PageFaults&gt;&lt;WorkingSetDelta&gt;-20480&lt;/WorkingSetDelta&gt;&lt;MemoryUtilization&gt;85&lt;/MemoryUtilization&gt;&lt;/SystemHealth&gt;&lt;/SchedulerMonitorEvent&gt;&lt;/Record&gt;\r\n\r\n5% ON Oct 12 2020  8:38PM Ring buffer details:  &lt;Record id=&quot;13&quot; type=&quot;RING_BUFFER_SCHEDULER_MONITOR&quot; time=&quot;26324627&quot;&gt;&lt;SchedulerMonitorEvent&gt;&lt;SystemHealth&gt;&lt;ProcessUtilization&gt;0&lt;/ProcessUtilization&gt;&lt;SystemIdle&gt;95&lt;/SystemIdle&gt;&lt;UserModeTime&gt;8593750&lt;/UserModeTime&gt;&lt;KernelModeTime&gt;937500&lt;/KernelModeTime&gt;&lt;PageFaults&gt;68&lt;/PageFaults&gt;&lt;WorkingSetDelta&gt;32768&lt;/WorkingSetDelta&gt;&lt;MemoryUtilization&gt;85&lt;/MemoryUtilization&gt;&lt;/SystemHealth&gt;&lt;/SchedulerMonitorEvent&gt;&lt;/Record&gt;\r\n\r\n5% ON Oct 12 2020  8:37PM Ring buffer details:  &lt;Record id=&quot;14&quot; type=&quot;RING_BUFFER_SCHEDULER_MONITOR&quot; time=&quot;26384723&quot;&gt;&lt;SchedulerMonitorEvent&gt;&lt;SystemHealth&gt;&lt;ProcessUtilization&gt;0&lt;/ProcessUtilization&gt;&lt;SystemIdle&gt;95&lt;/SystemIdle&gt;&lt;UserModeTime&gt;10000000&lt;/UserModeTime&gt;&lt;KernelModeTime&gt;781250&lt;/KernelModeTime&gt;&lt;PageFaults&gt;104&lt;/PageFaults&gt;&lt;WorkingSetDelta&gt;172032&lt;/WorkingSetDelta&gt;&lt;MemoryUtilization&gt;85&lt;/MemoryUtilization&gt;&lt;/SystemHealth&gt;&lt;/SchedulerMonitorEvent&gt;&lt;/Record&gt;\r\n\r\n2% ON Oct 12 2020  8:36PM Ring buffer details:  &lt;Record id=&quot;15&quot; type=&quot;RING_BUFFER_SCHEDULER_MONITOR&quot; time=&quot;26444791&quot;&gt;&lt;SchedulerMonitorEvent&gt;&lt;SystemHealth&gt;&lt;ProcessUtilization&gt;0&lt;/ProcessUtilization&gt;&lt;SystemIdle&gt;98&lt;/SystemIdle&gt;&lt;UserModeTime&gt;12031250&lt;/UserModeTime&gt;&lt;KernelModeTime&gt;625000&lt;/KernelModeTime&gt;&lt;PageFaults&gt;70&lt;/PageFaults&gt;&lt;WorkingSetDelta&gt;40960&lt;/WorkingSetDelta&gt;&lt;MemoryUtilization&gt;85&lt;/MemoryUtilization&gt;&lt;/SystemHealth&gt;&lt;/SchedulerMonitorEvent&gt;&lt;/Record&gt;\r\n\r\n3% ON Oct 12 2020  8:35PM Ring buffer details:  &lt;Record id=&quot;16&quot; type=&quot;RING_BUFFER_SCHEDULER_MONITOR&quot; time=&quot;26504904&quot;&gt;&lt;SchedulerMonitorEvent&gt;&lt;SystemHealth&gt;&lt;ProcessUtilization&gt;0&lt;/ProcessUtilization&gt;&lt;SystemIdle&gt;97&lt;/SystemIdle&gt;&lt;UserModeTime&gt;12500000&lt;/UserModeTime&gt;&lt;KernelModeTime&gt;1562500&lt;/KernelModeTime&gt;&lt;PageFaults&gt;72&lt;/PageFaults&gt;&lt;WorkingSetDelta&gt;49152&lt;/WorkingSetDelta&gt;&lt;MemoryUtilization&gt;85&lt;/MemoryUtilization&gt;&lt;/SystemHealth&gt;&lt;/SchedulerMonitorEvent&gt;&lt;/Record&gt;\r\n\r\n3% ON Oct 12 2020  8:34PM Ring buffer details:  &lt;Record id=&quot;17&quot; type=&quot;RING_BUFFER_SCHEDULER_MONITOR&quot; time=&quot;26565019&quot;&gt;&lt;SchedulerMonitorEvent&gt;&lt;SystemHealth&gt;&lt;ProcessUtilization&gt;0&lt;/ProcessUtilization&gt;&lt;SystemIdle&gt;97&lt;/SystemIdle&gt;&lt;UserModeTime&gt;11875000&lt;/UserModeTime&gt;&lt;KernelModeTime&gt;937500&lt;/KernelModeTime&gt;&lt;PageFaults&gt;62&lt;/PageFaults&gt;&lt;WorkingSetDelta&gt;12288&lt;/WorkingSetDelta&gt;&lt;MemoryUtilization&gt;85&lt;/MemoryUtilization&gt;&lt;/SystemHealth&gt;&lt;/SchedulerMonitorEvent&gt;&lt;/Record&gt;\r\n\r\n3% ON Oct 12 2020  8:33PM Ring buffer details:  &lt;Record id=&quot;18&quot; type=&quot;RING_BUFFER_SCHEDULER_MONITOR&quot; time=&quot;26625097&quot;&gt;&lt;SchedulerMonitorEvent&gt;&lt;SystemHealth&gt;&lt;ProcessUtilization&gt;0&lt;/ProcessUtilization&gt;&lt;SystemIdle&gt;97&lt;/SystemIdle&gt;&lt;UserModeTime&gt;11718750&lt;/UserModeTime&gt;&lt;KernelModeTime&gt;1718750&lt;/KernelModeTime&gt;&lt;PageFaults&gt;61&lt;/PageFaults&gt;&lt;WorkingSetDelta&gt;4096&lt;/WorkingSetDelta&gt;&lt;MemoryUtilization&gt;85&lt;/MemoryUtilization&gt;&lt;/SystemHealth&gt;&lt;/SchedulerMonitorEvent&gt;&lt;/Record&gt;\r\n\r\n3% ON Oct 12 2020  8:32PM Ring buffer details:  &lt;Record id=&quot;19&quot; type=&quot;RING_BUFFER_SCHEDULER_MONITOR&quot; time=&quot;26685199&quot;&gt;&lt;SchedulerMonitorEvent&gt;&lt;SystemHealth&gt;&lt;ProcessUtilization&gt;0&lt;/ProcessUtilization&gt;&lt;SystemIdle&gt;97&lt;/SystemIdle&gt;&lt;UserModeTime&gt;14375000&lt;/UserModeTime&gt;&lt;KernelModeTime&gt;1406250&lt;/KernelModeTime&gt;&lt;PageFaults&gt;70&lt;/PageFaults&gt;&lt;WorkingSetDelta&gt;45056&lt;/WorkingSetDelta&gt;&lt;MemoryUtilization&gt;85&lt;/MemoryUtilization&gt;&lt;/SystemHealth&gt;&lt;/SchedulerMonitorEvent&gt;&lt;/Record&gt;\r\n\r\n7% ON Oct 12 2020  8:31PM Ring buffer details:  &lt;Record id=&quot;20&quot; type=&quot;RING_BUFFER_SCHEDULER_MONITOR&quot; time=&quot;26745298&quot;&gt;&lt;SchedulerMonitorEvent&gt;&lt;SystemHealth&gt;&lt;ProcessUtilization&gt;1&lt;/ProcessUtilization&gt;&lt;SystemIdle&gt;93&lt;/SystemIdle&gt;&lt;UserModeTime&gt;22187500&lt;/UserModeTime&gt;&lt;KernelModeTime&gt;1875000&lt;/KernelModeTime&gt;&lt;PageFaults&gt;4450&lt;/PageFaults&gt;&lt;WorkingSetDelta&gt;14376960&lt;/WorkingSetDelta&gt;&lt;MemoryUtilization&gt;86&lt;/MemoryUtilization&gt;&lt;/SystemHealth&gt;&lt;/SchedulerMonitorEvent&gt;&lt;/Record&gt;\r\n\r\n5% ON Oct 12 2020  8:30PM Ring buffer details:  &lt;Record id=&quot;21&quot; type=&quot;RING_BUFFER_SCHEDULER_MONITOR&quot; time=&quot;26805365&quot;&gt;&lt;SchedulerMonitorEvent&gt;&lt;SystemHealth&gt;&lt;ProcessUtilization&gt;0&lt;/ProcessUtilization&gt;&lt;SystemIdle&gt;95&lt;/SystemIdle&gt;&lt;UserModeTime&gt;17812500&lt;/UserModeTime&gt;&lt;KernelModeTime&gt;3125000&lt;/KernelModeTime&gt;&lt;PageFaults&gt;6253&lt;/PageFaults&gt;&lt;WorkingSetDelta&gt;421888&lt;/WorkingSetDelta&gt;&lt;MemoryUtilization&gt;86&lt;/MemoryUtilization&gt;&lt;/SystemHealth&gt;&lt;/SchedulerMonitorEvent&gt;&lt;/Record&gt;\r\n\r\n7% ON Oct 12 2020  8:29PM Ring buffer details:  &lt;Record id=&quot;22&quot; type=&quot;RING_BUFFER_SCHEDULER_MONITOR&quot; time=&quot;26865458&quot;&gt;&lt;SchedulerMonitorEvent&gt;&lt;SystemHealth&gt;&lt;ProcessUtilization&gt;0&lt;/ProcessUtilization&gt;&lt;SystemIdle&gt;93&lt;/SystemIdle&gt;&lt;UserModeTime&gt;12656250&lt;/UserModeTime&gt;&lt;KernelModeTime&gt;2656250&lt;/KernelModeTime&gt;&lt;PageFaults&gt;7347&lt;/PageFaults&gt;&lt;WorkingSetDelta&gt;643072&lt;/WorkingSetDelta&gt;&lt;MemoryUtilization&gt;86&lt;/MemoryUtilization&gt;&lt;/SystemHealth&gt;&lt;/SchedulerMonitorEvent&gt;&lt;/Record&gt;\r\n\r\n11% ON Oct 12 2020  8:28PM Ring buffer details:  &lt;Record id=&quot;23&quot; type=&quot;RING_BUFFER_SCHEDULER_MONITOR&quot; time=&quot;26925568&quot;&gt;&lt;SchedulerMonitorEvent&gt;&lt;SystemHealth&gt;&lt;ProcessUtilization&gt;1&lt;/ProcessUtilization&gt;&lt;SystemIdle&gt;89&lt;/SystemIdle&gt;&lt;UserModeTime&gt;20937500&lt;/UserModeTime&gt;&lt;KernelModeTime&gt;3437500&lt;/KernelModeTime&gt;&lt;PageFaults&gt;11262&lt;/PageFaults&gt;&lt;WorkingSetDelta&gt;16384&lt;/WorkingSetDelta&gt;&lt;MemoryUtilization&gt;86&lt;/MemoryUtilization&gt;&lt;/SystemHealth&gt;&lt;/SchedulerMonitorEvent&gt;&lt;/Record&gt;\r\n\r\n5% ON Oct 12 2020  8:27PM Ring buffer details:  &lt;Record id=&quot;24&quot; type=&quot;RING_BUFFER_SCHEDULER_MONITOR&quot; time=&quot;26985663&quot;&gt;&lt;SchedulerMonitorEvent&gt;&lt;SystemHealth&gt;&lt;ProcessUtilization&gt;0&lt;/ProcessUtilization&gt;&lt;SystemIdle&gt;95&lt;/SystemIdle&gt;&lt;UserModeTime&gt;3906250&lt;/UserModeTime&gt;&lt;KernelModeTime&gt;937500&lt;/KernelModeTime&gt;&lt;PageFaults&gt;4737&lt;/PageFaults&gt;&lt;WorkingSetDelta&gt;581632&lt;/WorkingSetDelta&gt;&lt;MemoryUtilization&gt;86&lt;/MemoryUtilization&gt;&lt;/SystemHealth&gt;&lt;/SchedulerMonitorEvent&gt;&lt;/Record&gt;\r\n\r\n2% ON Oct 12 2020  8:26PM Ring buffer details:  &lt;Record id=&quot;25&quot; type=&quot;RING_BUFFER_SCHEDULER_MONITOR&quot; time=&quot;27045763&quot;&gt;&lt;SchedulerMonitorEvent&gt;&lt;SystemHealth&gt;&lt;ProcessUtilization&gt;0&lt;/ProcessUtilization&gt;&lt;SystemIdle&gt;98&lt;/SystemIdle&gt;&lt;UserModeTime&gt;0&lt;/UserModeTime&gt;&lt;KernelModeTime&gt;0&lt;/KernelModeTime&gt;&lt;PageFaults&gt;61&lt;/PageFaults&gt;&lt;WorkingSetDelta&gt;8192&lt;/WorkingSetDelta&gt;&lt;MemoryUtilization&gt;86&lt;/MemoryUtilization&gt;&lt;/SystemHealth&gt;&lt;/SchedulerMonitorEvent&gt;&lt;/Record&gt;\r\n\r\n1% ON Oct 12 2020  8:25PM Ring buffer details:  &lt;Record id=&quot;26&quot; type=&quot;RING_BUFFER_SCHEDULER_MONITOR&quot; time=&quot;27105848&quot;&gt;&lt;SchedulerMonitorEvent&gt;&lt;SystemHealth&gt;&lt;ProcessUtilization&gt;0&lt;/ProcessUtilization&gt;&lt;SystemIdle&gt;99&lt;/SystemIdle&gt;&lt;UserModeTime&gt;0&lt;/UserModeTime&gt;&lt;KernelModeTime&gt;156250&lt;/KernelModeTime&gt;&lt;PageFaults&gt;60&lt;/PageFaults&gt;&lt;WorkingSetDelta&gt;0&lt;/WorkingSetDelta&gt;&lt;MemoryUtilization&gt;86&lt;/MemoryUtilization&gt;&lt;/SystemHealth&gt;&lt;/SchedulerMonitorEvent&gt;&lt;/Record&gt;\r\n\r\n2% ON Oct 12 2020  8:24PM Ring buffer details:  &lt;Record id=&quot;27&quot; type=&quot;RING_BUFFER_SCHEDULER_MONITOR&quot; time=&quot;27165933&quot;&gt;&lt;SchedulerMonitorEvent&gt;&lt;SystemHealth&gt;&lt;ProcessUtilization&gt;0&lt;/ProcessUtilization&gt;&lt;SystemIdle&gt;98&lt;/SystemIdle&gt;&lt;UserModeTime&gt;0&lt;/UserModeTime&gt;&lt;KernelModeTime&gt;0&lt;/KernelModeTime&gt;&lt;PageFaults&gt;68&lt;/PageFaults&gt;&lt;WorkingSetDelta&gt;28672&lt;/WorkingSetDelta&gt;&lt;MemoryUtilization&gt;86&lt;/MemoryUtilization&gt;&lt;/SystemHealth&gt;&lt;/SchedulerMonitorEvent&gt;&lt;/Record&gt;\r\n\r\n2% ON Oct 12 2020  8:23PM Ring buffer details:  &lt;Record id=&quot;28&quot; type=&quot;RING_BUFFER_SCHEDULER_MONITOR&quot; time=&quot;27226012&quot;&gt;&lt;SchedulerMonitorEvent&gt;&lt;SystemHealth&gt;&lt;ProcessUtilization&gt;0&lt;/ProcessUtilization&gt;&lt;SystemIdle&gt;98&lt;/SystemIdle&gt;&lt;UserModeTime&gt;0&lt;/UserModeTime&gt;&lt;KernelModeTime&gt;0&lt;/KernelModeTime&gt;&lt;PageFaults&gt;59&lt;/PageFaults&gt;&lt;WorkingSetDelta&gt;-24576&lt;/WorkingSetDelta&gt;&lt;MemoryUtilization&gt;86&lt;/MemoryUtilization&gt;&lt;/SystemHealth&gt;&lt;/SchedulerMonitorEvent&gt;&lt;/Record&gt;\r\n\r\n2% ON Oct 12 2020  8:22PM Ring buffer details:  &lt;Record id=&quot;29&quot; type=&quot;RING_BUFFER_SCHEDULER_MONITOR&quot; time=&quot;27286130&quot;&gt;&lt;SchedulerMonitorEvent&gt;&lt;SystemHealth&gt;&lt;ProcessUtilization&gt;0&lt;/ProcessUtilization&gt;&lt;SystemIdle&gt;98&lt;/SystemIdle&gt;&lt;UserModeTime&gt;468750&lt;/UserModeTime&gt;&lt;KernelModeTime&gt;0&lt;/KernelModeTime&gt;&lt;PageFaults&gt;2787&lt;/PageFaults&gt;&lt;WorkingSetDelta&gt;-5885952&lt;/WorkingSetDelta&gt;&lt;MemoryUtilization&gt;83&lt;/MemoryUtilization&gt;&lt;/SystemHealth&gt;&lt;/SchedulerMonitorEvent&gt;&lt;/Record&gt;\r\n\r\n3% ON Oct 12 2020  8:21PM Ring buffer details:  &lt;Record id=&quot;30&quot; type=&quot;RING_BUFFER_SCHEDULER_MONITOR&quot; time=&quot;27346215&quot;&gt;&lt;SchedulerMonitorEvent&gt;&lt;SystemHealth&gt;&lt;ProcessUtilization&gt;0&lt;/ProcessUtilization&gt;&lt;SystemIdle&gt;97&lt;/SystemIdle&gt;&lt;UserModeTime&gt;8593750&lt;/UserModeTime&gt;&lt;KernelModeTime&gt;156250&lt;/KernelModeTime&gt;&lt;PageFaults&gt;2499&lt;/PageFaults&gt;&lt;WorkingSetDelta&gt;9076736&lt;/WorkingSetDelta&gt;&lt;MemoryUtilization&gt;85&lt;/MemoryUtilization&gt;&lt;/SystemHealth&gt;&lt;/SchedulerMonitorEvent&gt;&lt;/Record&gt;\r\n\r\n2% ON Oct 12 2020  8:20PM Ring buffer details:  &lt;Record id=&quot;31&quot; type=&quot;RING_BUFFER_SCHEDULER_MONITOR&quot; time=&quot;27406306&quot;&gt;&lt;SchedulerMonitorEvent&gt;&lt;SystemHealth&gt;&lt;ProcessUtilization&gt;0&lt;/ProcessUtilization&gt;&lt;SystemIdle&gt;98&lt;/SystemIdle&gt;&lt;UserModeTime&gt;1718750&lt;/UserModeTime&gt;&lt;KernelModeTime&gt;0&lt;/KernelModeTime&gt;&lt;PageFaults&gt;533&lt;/PageFaults&gt;&lt;WorkingSetDelta&gt;1122304&lt;/WorkingSetDelta&gt;&lt;MemoryUtilization&gt;86&lt;/MemoryUtilization&gt;&lt;/SystemHealth&gt;&lt;/SchedulerMonitorEvent&gt;&lt;/Record&gt;\r\n\r\n6% ON Oct 12 2020  8:19PM Ring buffer details:  &lt;Record id=&quot;32&quot; type=&quot;RING_BUFFER_SCHEDULER_MONITOR&quot; time=&quot;27466393&quot;&gt;&lt;SchedulerMonitorEvent&gt;&lt;SystemHealth&gt;&lt;ProcessUtilization&gt;0&lt;/ProcessUtilization&gt;&lt;SystemIdle&gt;94&lt;/SystemIdle&gt;&lt;UserModeTime&gt;9375000&lt;/UserModeTime&gt;&lt;KernelModeTime&gt;468750&lt;/KernelModeTime&gt;&lt;PageFaults&gt;14505&lt;/PageFaults&gt;&lt;WorkingSetDelta&gt;54345728&lt;/WorkingSetDelta&gt;&lt;MemoryUtilization&gt;94&lt;/MemoryUtilization&gt;&lt;/SystemHealth&gt;&lt;/SchedulerMonitorEvent&gt;&lt;/Record&gt;\r\n\r\n7% ON Oct 12 2020  8:18PM Ring buffer details:  &lt;Record id=&quot;33&quot; type=&quot;RING_BUFFER_SCHEDULER_MONITOR&quot; time=&quot;27526495&quot;&gt;&lt;SchedulerMonitorEvent&gt;&lt;SystemHealth&gt;&lt;ProcessUtilization&gt;0&lt;/ProcessUtilization&gt;&lt;SystemIdle&gt;93&lt;/SystemIdle&gt;&lt;UserModeTime&gt;156250&lt;/UserModeTime&gt;&lt;KernelModeTime&gt;0&lt;/KernelModeTime&gt;&lt;PageFaults&gt;62&lt;/PageFaults&gt;&lt;WorkingSetDelta&gt;12288&lt;/WorkingSetDelta&gt;&lt;MemoryUtilization&gt;94&lt;/MemoryUtilization&gt;&lt;/SystemHealth&gt;&lt;/SchedulerMonitorEvent&gt;&lt;/Record&gt;\r\n\r\n7% ON Oct 12 2020  8:17PM Ring buffer details:  &lt;Record id=&quot;34&quot; type=&quot;RING_BUFFER_SCHEDULER_MONITOR&quot; time=&quot;27586582&quot;&gt;&lt;SchedulerMonitorEvent&gt;&lt;SystemHealth&gt;&lt;ProcessUtilization&gt;0&lt;/ProcessUtilization&gt;&lt;SystemIdle&gt;93&lt;/SystemIdle&gt;&lt;UserModeTime&gt;781250&lt;/UserModeTime&gt;&lt;KernelModeTime&gt;0&lt;/KernelModeTime&gt;&lt;PageFaults&gt;1177&lt;/PageFaults&gt;&lt;WorkingSetDelta&gt;4554752&lt;/WorkingSetDelta&gt;&lt;MemoryUtilization&gt;94&lt;/MemoryUtilization&gt;&lt;/SystemHealth&gt;&lt;/SchedulerMonitorEvent&gt;&lt;/Record&gt;\r\n\r\n4% ON Oct 12 2020  8:16PM Ring buffer details:  &lt;Record id=&quot;35&quot; type=&quot;RING_BUFFER_SCHEDULER_MONITOR&quot; time=&quot;27646712&quot;&gt;&lt;SchedulerMonitorEvent&gt;&lt;SystemHealth&gt;&lt;ProcessUtilization&gt;0&lt;/ProcessUtilization&gt;&lt;SystemIdle&gt;96&lt;/SystemIdle&gt;&lt;UserModeTime&gt;312500&lt;/UserModeTime&gt;&lt;KernelModeTime&gt;0&lt;/KernelModeTime&gt;&lt;PageFaults&gt;85&lt;/PageFaults&gt;&lt;WorkingSetDelta&gt;98304&lt;/WorkingSetDelta&gt;&lt;MemoryUtilization&gt;94&lt;/MemoryUtilization&gt;&lt;/SystemHealth&gt;&lt;/SchedulerMonitorEvent&gt;&lt;/Record&gt;\r\n\r\n1% ON Oct 12 2020  8:15PM Ring buffer details:  &lt;Record id=&quot;36&quot; type=&quot;RING_BUFFER_SCHEDULER_MONITOR&quot; time=&quot;27706803&quot;&gt;&lt;SchedulerMonitorEvent&gt;&lt;SystemHealth&gt;&lt;ProcessUtilization&gt;0&lt;/ProcessUtilization&gt;&lt;SystemIdle&gt;99&lt;/SystemIdle&gt;&lt;UserModeTime&gt;156250&lt;/UserModeTime&gt;&lt;KernelModeTime&gt;0&lt;/KernelModeTime&gt;&lt;PageFaults&gt;59&lt;/PageFaults&gt;&lt;WorkingSetDelta&gt;0&lt;/WorkingSetDelta&gt;&lt;MemoryUtilization&gt;94&lt;/MemoryUtilization&gt;&lt;/SystemHealth&gt;&lt;/SchedulerMonitorEvent&gt;&lt;/Record&gt;\r\n\r\n1% ON Oct 12 2020  8:14PM Ring buffer details:  &lt;Record id=&quot;37&quot; type=&quot;RING_BUFFER_SCHEDULER_MONITOR&quot; time=&quot;27766903&quot;&gt;&lt;SchedulerMonitorEvent&gt;&lt;SystemHealth&gt;&lt;ProcessUtilization&gt;0&lt;/ProcessUtilization&gt;&lt;SystemIdle&gt;99&lt;/SystemIdle&gt;&lt;UserModeTime&gt;0&lt;/UserModeTime&gt;&lt;KernelModeTime&gt;0&lt;/KernelModeTime&gt;&lt;PageFaults&gt;63&lt;/PageFaults&gt;&lt;WorkingSetDelta&gt;-12288&lt;/WorkingSetDelta&gt;&lt;MemoryUtilization&gt;94&lt;/MemoryUtilization&gt;&lt;/SystemHealth&gt;&lt;/SchedulerMonitorEvent&gt;&lt;/Record&gt;\r\n\r\n1% ON Oct 12 2020  8:13PM Ring buffer details:  &lt;Record id=&quot;38&quot; type=&quot;RING_BUFFER_SCHEDULER_MONITOR&quot; time=&quot;27826988&quot;&gt;&lt;SchedulerMonitorEvent&gt;&lt;SystemHealth&gt;&lt;ProcessUtilization&gt;0&lt;/ProcessUtilization&gt;&lt;SystemIdle&gt;99&lt;/SystemIdle&gt;&lt;UserModeTime&gt;0&lt;/UserModeTime&gt;&lt;KernelModeTime&gt;0&lt;/KernelModeTime&gt;&lt;PageFaults&gt;59&lt;/PageFaults&gt;&lt;WorkingSetDelta&gt;0&lt;/WorkingSetDelta&gt;&lt;MemoryUtilization&gt;94&lt;/MemoryUtilization&gt;&lt;/SystemHealth&gt;&lt;/SchedulerMonitorEvent&gt;&lt;/Record&gt;\r\n\r\n1% ON Oct 12 2020  8:12PM Ring buffer details:  &lt;Record id=&quot;39&quot; type=&quot;RING_BUFFER_SCHEDULER_MONITOR&quot; time=&quot;27887098&quot;&gt;&lt;SchedulerMonitorEvent&gt;&lt;SystemHealth&gt;&lt;ProcessUtilization&gt;0&lt;/ProcessUtilization&gt;&lt;SystemIdle&gt;99&lt;/SystemIdle&gt;&lt;UserModeTime&gt;468750&lt;/UserModeTime&gt;&lt;KernelModeTime&gt;0&lt;/KernelModeTime&gt;&lt;PageFaults&gt;127&lt;/PageFaults&gt;&lt;WorkingSetDelta&gt;69632&lt;/WorkingSetDelta&gt;&lt;MemoryUtilization&gt;94&lt;/MemoryUtilization&gt;&lt;/SystemHealth&gt;&lt;/SchedulerMonitorEvent&gt;&lt;/Record&gt;\r\n\r\n1% ON Oct 12 2020  8:11PM Ring buffer details:  &lt;Record id=&quot;40&quot; type=&quot;RING_BUFFER_SCHEDULER_MONITOR&quot; time=&quot;27947207&quot;&gt;&lt;SchedulerMonitorEvent&gt;&lt;SystemHealth&gt;&lt;ProcessUtilization&gt;0&lt;/ProcessUtilization&gt;&lt;SystemIdle&gt;99&lt;/SystemIdle&gt;&lt;UserModeTime&gt;312500&lt;/UserModeTime&gt;&lt;KernelModeTime&gt;0&lt;/KernelModeTime&gt;&lt;PageFaults&gt;72&lt;/PageFaults&gt;&lt;WorkingSetDelta&gt;-389120&lt;/WorkingSetDelta&gt;&lt;MemoryUtilization&gt;94&lt;/MemoryUtilization&gt;&lt;/SystemHealth&gt;&lt;/SchedulerMonitorEvent&gt;&lt;/Record&gt;\r\n\r\n12% ON Oct 12 2020  8:10PM Ring buffer details:  &lt;Record id=&quot;41&quot; type=&quot;RING_BUFFER_SCHEDULER_MONITOR&quot; time=&quot;28009811&quot;&gt;&lt;SchedulerMonitorEvent&gt;&lt;SystemHealth&gt;&lt;ProcessUtilization&gt;0&lt;/ProcessUtilization&gt;&lt;SystemIdle&gt;88&lt;/SystemIdle&gt;&lt;UserModeTime&gt;312500&lt;/UserModeTime&gt;&lt;KernelModeTime&gt;0&lt;/KernelModeTime&gt;&lt;PageFaults&gt;60&lt;/PageFaults&gt;&lt;WorkingSetDelta&gt;4096&lt;/WorkingSetDelta&gt;&lt;MemoryUtilization&gt;94&lt;/MemoryUtilization&gt;&lt;/SystemHealth&gt;&lt;/SchedulerMonitorEvent&gt;&lt;/Record&gt;\r\n\r\n7% ON Oct 12 2020  8:09PM Ring buffer details:  &lt;Record id=&quot;42&quot; type=&quot;RING_BUFFER_SCHEDULER_MONITOR&quot; time=&quot;28069916&quot;&gt;&lt;SchedulerMonitorEvent&gt;&lt;SystemHealth&gt;&lt;ProcessUtilization&gt;0&lt;/ProcessUtilization&gt;&lt;SystemIdle&gt;93&lt;/SystemIdle&gt;&lt;UserModeTime&gt;156250&lt;/UserModeTime&gt;&lt;KernelModeTime&gt;156250&lt;/KernelModeTime&gt;&lt;PageFaults&gt;70&lt;/PageFaults&gt;&lt;WorkingSetDelta&gt;-491520&lt;/WorkingSetDelta&gt;&lt;MemoryUtilization&gt;94&lt;/MemoryUtilization&gt;&lt;/SystemHealth&gt;&lt;/SchedulerMonitorEvent&gt;&lt;/Record&gt;\r\n\r\n6% ON Oct 12 2020  8:08PM Ring buffer details:  &lt;Record id=&quot;43&quot; type=&quot;RING_BUFFER_SCHEDULER_MONITOR&quot; time=&quot;28130003&quot;&gt;&lt;SchedulerMonitorEvent&gt;&lt;SystemHealth&gt;&lt;ProcessUtilization&gt;0&lt;/ProcessUtilization&gt;&lt;SystemIdle&gt;94&lt;/SystemIdle&gt;&lt;UserModeTime&gt;0&lt;/UserModeTime&gt;&lt;KernelModeTime&gt;0&lt;/KernelModeTime&gt;&lt;PageFaults&gt;62&lt;/PageFaults&gt;&lt;WorkingSetDelta&gt;8192&lt;/WorkingSetDelta&gt;&lt;MemoryUtilization&gt;94&lt;/MemoryUtilization&gt;&lt;/SystemHealth&gt;&lt;/SchedulerMonitorEvent&gt;&lt;/Record&gt;\r\n\r\n19% ON Oct 12 2020  8:07PM Ring buffer details:  &lt;Record id=&quot;44&quot; type=&quot;RING_BUFFER_SCHEDULER_MONITOR&quot; time=&quot;28190119&quot;&gt;&lt;SchedulerMonitorEvent&gt;&lt;SystemHealth&gt;&lt;ProcessUtilization&gt;0&lt;/ProcessUtilization&gt;&lt;SystemIdle&gt;81&lt;/SystemIdle&gt;&lt;UserModeTime&gt;2031250&lt;/UserModeTime&gt;&lt;KernelModeTime&gt;625000&lt;/KernelModeTime&gt;&lt;PageFaults&gt;1025&lt;/PageFaults&gt;&lt;WorkingSetDelta&gt;315392&lt;/WorkingSetDelta&gt;&lt;MemoryUtilization&gt;94&lt;/MemoryUtilization&gt;&lt;/SystemHealth&gt;&lt;/SchedulerMonitorEvent&gt;&lt;/Record&gt;\r\n\r\n5% ON Oct 12 2020  8:06PM Ring buffer details:  &lt;Record id=&quot;45&quot; type=&quot;RING_BUFFER_SCHEDULER_MONITOR&quot; time=&quot;28250213&quot;&gt;&lt;SchedulerMonitorEvent&gt;&lt;SystemHealth&gt;&lt;ProcessUtilization&gt;0&lt;/ProcessUtilization&gt;&lt;SystemIdle&gt;95&lt;/SystemIdle&gt;&lt;UserModeTime&gt;312500&lt;/UserModeTime&gt;&lt;KernelModeTime&gt;0&lt;/KernelModeTime&gt;&lt;PageFaults&gt;71&lt;/PageFaults&gt;&lt;WorkingSetDelta&gt;-20480&lt;/WorkingSetDelta&gt;&lt;MemoryUtilization&gt;94&lt;/MemoryUtilization&gt;&lt;/SystemHealth&gt;&lt;/SchedulerMonitorEvent&gt;&lt;/Record&gt;\r\n\r\n3% ON Oct 12 2020  8:05PM Ring buffer details:  &lt;Record id=&quot;46&quot; type=&quot;RING_BUFFER_SCHEDULER_MONITOR&quot; time=&quot;28310318&quot;&gt;&lt;SchedulerMonitorEvent&gt;&lt;SystemHealth&gt;&lt;ProcessUtilization&gt;0&lt;/ProcessUtilization&gt;&lt;SystemIdle&gt;97&lt;/SystemIdle&gt;&lt;UserModeTime&gt;468750&lt;/UserModeTime&gt;&lt;KernelModeTime&gt;0&lt;/KernelModeTime&gt;&lt;PageFaults&gt;60&lt;/PageFaults&gt;&lt;WorkingSetDelta&gt;0&lt;/WorkingSetDelta&gt;&lt;MemoryUtilization&gt;94&lt;/MemoryUtilization&gt;&lt;/SystemHealth&gt;&lt;/SchedulerMonitorEvent&gt;&lt;/Record&gt;\r\n\r\n1% ON Oct 12 2020  8:04PM Ring buffer details:  &lt;Record id=&quot;47&quot; type=&quot;RING_BUFFER_SCHEDULER_MONITOR&quot; time=&quot;28370447&quot;&gt;&lt;SchedulerMonitorEvent&gt;&lt;SystemHealth&gt;&lt;ProcessUtilization&gt;0&lt;/ProcessUtilization&gt;&lt;SystemIdle&gt;99&lt;/SystemIdle&gt;&lt;UserModeTime&gt;312500&lt;/UserModeTime&gt;&lt;KernelModeTime&gt;0&lt;/KernelModeTime&gt;&lt;PageFaults&gt;59&lt;/PageFaults&gt;&lt;WorkingSetDelta&gt;0&lt;/WorkingSetDelta&gt;&lt;MemoryUtilization&gt;94&lt;/MemoryUtilization&gt;&lt;/SystemHealth&gt;&lt;/SchedulerMonitorEvent&gt;&lt;/Record&gt;\r\n\r\n3% ON Oct 12 2020  8:03PM Ring buffer details:  &lt;Record id=&quot;48&quot; type=&quot;RING_BUFFER_SCHEDULER_MONITOR&quot; time=&quot;28430561&quot;&gt;&lt;SchedulerMonitorEvent&gt;&lt;SystemHealth&gt;&lt;ProcessUtilization&gt;0&lt;/ProcessUtilization&gt;&lt;SystemIdle&gt;97&lt;/SystemIdle&gt;&lt;UserModeTime&gt;312500&lt;/UserModeTime&gt;&lt;KernelModeTime&gt;0&lt;/KernelModeTime&gt;&lt;PageFaults&gt;60&lt;/PageFaults&gt;&lt;WorkingSetDelta&gt;0&lt;/WorkingSetDelta&gt;&lt;MemoryUtilization&gt;94&lt;/MemoryUtilization&gt;&lt;/SystemHealth&gt;&lt;/SchedulerMonitorEvent&gt;&lt;/Record&gt;\r\n\r\n9% ON Oct 12 2020  8:02PM Ring buffer details:  &lt;Record id=&quot;49&quot; type=&quot;RING_BUFFER_SCHEDULER_MONITOR&quot; time=&quot;28490679&quot;&gt;&lt;SchedulerMonitorEvent&gt;&lt;SystemHealth&gt;&lt;ProcessUtilization&gt;0&lt;/ProcessUtilization&gt;&lt;SystemIdle&gt;91&lt;/SystemIdle&gt;&lt;UserModeTime&gt;8281250&lt;/UserModeTime&gt;&lt;KernelModeTime&gt;2031250&lt;/KernelModeTime&gt;&lt;PageFaults&gt;3134&lt;/PageFaults&gt;&lt;WorkingSetDelta&gt;-22245376&lt;/WorkingSetDelta&gt;&lt;MemoryUtilization&gt;87&lt;/MemoryUtilization&gt;&lt;/SystemHealth&gt;&lt;/SchedulerMonitorEvent&gt;&lt;/Record&gt;\r\n\r\n15% ON Oct 12 2020  8:01PM Ring buffer details:  &lt;Record id=&quot;50&quot; type=&quot;RING_BUFFER_SCHEDULER_MONITOR&quot; time=&quot;28550780&quot;&gt;&lt;SchedulerMonitorEvent&gt;&lt;SystemHealth&gt;&lt;ProcessUtilization&gt;2&lt;/ProcessUtilization&gt;&lt;SystemIdle&gt;85&lt;/SystemIdle&gt;&lt;UserModeTime&gt;60937500&lt;/UserModeTime&gt;&lt;KernelModeTime&gt;5000000&lt;/KernelModeTime&gt;&lt;PageFaults&gt;25496&lt;/PageFaults&gt;&lt;WorkingSetDelta&gt;94556160&lt;/WorkingSetDelta&gt;&lt;MemoryUtilization&gt;94&lt;/MemoryUtilization&gt;&lt;/SystemHealth&gt;&lt;/SchedulerMonitorEvent&gt;&lt;/Record&gt;\r\n\r\n13% ON Oct 12 2020  8:00PM Ring buffer details:  &lt;Record id=&quot;51&quot; type=&quot;RING_BUFFER_SCHEDULER_MONITOR&quot; time=&quot;28610879&quot;&gt;&lt;SchedulerMonitorEvent&gt;&lt;SystemHealth&gt;&lt;ProcessUtilization&gt;0&lt;/ProcessUtilization&gt;&lt;SystemIdle&gt;87&lt;/SystemIdle&gt;&lt;UserModeTime&gt;312500&lt;/UserModeTime&gt;&lt;KernelModeTime&gt;0&lt;/KernelModeTime&gt;&lt;PageFaults&gt;78&lt;/PageFaults&gt;&lt;WorkingSetDelta&gt;73728&lt;/WorkingSetDelta&gt;&lt;MemoryUtilization&gt;94&lt;/MemoryUtilization&gt;&lt;/SystemHealth&gt;&lt;/SchedulerMonitorEvent&gt;&lt;/Record&gt;\r\n\r\n15% ON Oct 12 2020  7:59PM Ring buffer details:  &lt;Record id=&quot;52&quot; type=&quot;RING_BUFFER_SCHEDULER_MONITOR&quot; time=&quot;28670985&quot;&gt;&lt;SchedulerMonitorEvent&gt;&lt;SystemHealth&gt;&lt;ProcessUtilization&gt;0&lt;/ProcessUtilization&gt;&lt;SystemIdle&gt;85&lt;/SystemIdle&gt;&lt;UserModeTime&gt;2656250&lt;/UserModeTime&gt;&lt;KernelModeTime&gt;312500&lt;/KernelModeTime&gt;&lt;PageFaults&gt;88&lt;/PageFaults&gt;&lt;WorkingSetDelta&gt;77824&lt;/WorkingSetDelta&gt;&lt;MemoryUtilization&gt;94&lt;/MemoryUtilization&gt;&lt;/SystemHealth&gt;&lt;/SchedulerMonitorEvent&gt;&lt;/Record&gt;\r\n\r\n5% ON Oct 12 2020  7:58PM Ring buffer details:  &lt;Record id=&quot;53&quot; type=&quot;RING_BUFFER_SCHEDULER_MONITOR&quot; time=&quot;28731065&quot;&gt;&lt;SchedulerMonitorEvent&gt;&lt;SystemHealth&gt;&lt;ProcessUtilization&gt;0&lt;/ProcessUtilization&gt;&lt;SystemIdle&gt;95&lt;/SystemIdle&gt;&lt;UserModeTime&gt;468750&lt;/UserModeTime&gt;&lt;KernelModeTime&gt;0&lt;/KernelModeTime&gt;&lt;PageFaults&gt;59&lt;/PageFaults&gt;&lt;WorkingSetDelta&gt;0&lt;/WorkingSetDelta&gt;&lt;MemoryUtilization&gt;94&lt;/MemoryUtilization&gt;&lt;/SystemHealth&gt;&lt;/SchedulerMonitorEvent&gt;&lt;/Record&gt;\r\n\r\n8% ON Oct 12 2020  7:57PM Ring buffer details:  &lt;Record id=&quot;54&quot; type=&quot;RING_BUFFER_SCHEDULER_MONITOR&quot; time=&quot;28791162&quot;&gt;&lt;SchedulerMonitorEvent&gt;&lt;SystemHealth&gt;&lt;ProcessUtilization&gt;0&lt;/ProcessUtilization&gt;&lt;SystemIdle&gt;92&lt;/SystemIdle&gt;&lt;UserModeTime&gt;1875000&lt;/UserModeTime&gt;&lt;KernelModeTime&gt;312500&lt;/KernelModeTime&gt;&lt;PageFaults&gt;1903&lt;/PageFaults&gt;&lt;WorkingSetDelta&gt;7458816&lt;/WorkingSetDelta&gt;&lt;MemoryUtilization&gt;94&lt;/MemoryUtilization&gt;&lt;/SystemHealth&gt;&lt;/SchedulerMonitorEvent&gt;&lt;/Record&gt;\r\n\r\n7% ON Oct 12 2020  7:56PM Ring buffer details:  &lt;Record id=&quot;55&quot; type=&quot;RING_BUFFER_SCHEDULER_MONITOR&quot; time=&quot;28851262&quot;&gt;&lt;SchedulerMonitorEvent&gt;&lt;SystemHealth&gt;&lt;ProcessUtilization&gt;0&lt;/ProcessUtilization&gt;&lt;SystemIdle&gt;93&lt;/SystemIdle&gt;&lt;UserModeTime&gt;625000&lt;/UserModeTime&gt;&lt;KernelModeTime&gt;0&lt;/KernelModeTime&gt;&lt;PageFaults&gt;60&lt;/PageFaults&gt;&lt;WorkingSetDelta&gt;0&lt;/WorkingSetDelta&gt;&lt;MemoryUtilization&gt;94&lt;/MemoryUtilization&gt;&lt;/SystemHealth&gt;&lt;/SchedulerMonitorEvent&gt;&lt;/Record&gt;\r\n\r\n9% ON Oct 12 2020  7:55PM Ring buffer details:  &lt;Record id=&quot;56&quot; type=&quot;RING_BUFFER_SCHEDULER_MONITOR&quot; time=&quot;28911359&quot;&gt;&lt;SchedulerMonitorEvent&gt;&lt;SystemHealth&gt;&lt;ProcessUtilization&gt;0&lt;/ProcessUtilization&gt;&lt;SystemIdle&gt;91&lt;/SystemIdle&gt;&lt;UserModeTime&gt;625000&lt;/UserModeTime&gt;&lt;KernelModeTime&gt;0&lt;/KernelModeTime&gt;&lt;PageFaults&gt;59&lt;/PageFaults&gt;&lt;WorkingSetDelta&gt;0&lt;/WorkingSetDelta&gt;&lt;MemoryUtilization&gt;94&lt;/MemoryUtilization&gt;&lt;/SystemHealth&gt;&lt;/SchedulerMonitorEvent&gt;&lt;/Record&gt;\r\n\r\n8% ON Oct 12 2020  7:54PM Ring buffer details:  &lt;Record id=&quot;57&quot; type=&quot;RING_BUFFER_SCHEDULER_MONITOR&quot; time=&quot;28971474&quot;&gt;&lt;SchedulerMonitorEvent&gt;&lt;SystemHealth&gt;&lt;ProcessUtilization&gt;0&lt;/ProcessUtilization&gt;&lt;SystemIdle&gt;92&lt;/SystemIdle&gt;&lt;UserModeTime&gt;468750&lt;/UserModeTime&gt;&lt;KernelModeTime&gt;0&lt;/KernelModeTime&gt;&lt;PageFaults&gt;60&lt;/PageFaults&gt;&lt;WorkingSetDelta&gt;0&lt;/WorkingSetDelta&gt;&lt;MemoryUtilization&gt;94&lt;/MemoryUtilization&gt;&lt;/SystemHealth&gt;&lt;/SchedulerMonitorEvent&gt;&lt;/Record&gt;\r\n\r\n14% ON Oct 12 2020  7:53PM Ring buffer details:  &lt;Record id=&quot;58&quot; type=&quot;RING_BUFFER_SCHEDULER_MONITOR&quot; time=&quot;29031595&quot;&gt;&lt;SchedulerMonitorEvent&gt;&lt;SystemHealth&gt;&lt;ProcessUtilization&gt;2&lt;/ProcessUtilization&gt;&lt;SystemIdle&gt;86&lt;/SystemIdle&gt;&lt;UserModeTime&gt;65468750&lt;/UserModeTime&gt;&lt;KernelModeTime&gt;625000&lt;/KernelModeTime&gt;&lt;PageFaults&gt;1674&lt;/PageFaults&gt;&lt;WorkingSetDelta&gt;-1880064&lt;/WorkingSetDelta&gt;&lt;MemoryUtilization&gt;94&lt;/MemoryUtilization&gt;&lt;/SystemHealth&gt;&lt;/SchedulerMonitorEvent&gt;&lt;/Record&gt;\r\n\r\n-- ?&gt;</td><td>23</td><td>NULL</td><td>NULL</td><td>NULL</td><td>NULL</td><td>NULL</td><td>NULL</td><td>NULL</td><td>NULL</td><td>NULL</td><td>NULL</td><td>NULL</td><td>NULL</td><td>NULL</td><td>NULL</td><td>NULL</td><td>NULL</td><td>NULL</td><td>NULL</td><td>NULL</td><td>NULL</td><td>NULL</td><td>NULL</td><td>NULL</td><td>NULL</td><td>NULL</td><td>NULL</td><td>NULL</td><td>NULL</td><td>NULL</td><td>NULL</td><td>NULL</td><td>NULL</td><td>3</td></tr>",
                            "<tr><td>250</td><td>Server Info</td><td>SQL Compilations per Sec</td><td>http://www.BrentOzar.com/go/measure</td><td>&lt;?ClickToSeeDetails -- \r\n6\r\n -- ?&gt;</td><td>NULL</td><td>25</td><td>NULL</td><td>NULL</td><td>NULL</td><td>NULL</td><td>NULL</td><td>NULL</td><td>NULL</td><td>NULL</td><td>NULL</td><td>NULL</td><td>NULL</td><td>NULL</td><td>NULL</td><td>NULL</td><td>NULL</td><td>NULL</td><td>NULL</td><td>NULL</td><td>NULL</td><td>NULL</td><td>NULL</td><td>NULL</td><td>NULL</td><td>NULL</td><td>NULL</td><td>NULL</td><td>NULL</td><td>NULL</td><td>NULL</td><td>NULL</td><td>NULL</td><td>NULL</td><td>6</td></tr>",
                            "<tr><td>250</td><td>Server Info</td><td>SQL Re-Compilations per Sec</td><td>http://www.BrentOzar.com/go/measure</td><td>&lt;?ClickToSeeDetails -- \r\n5\r\n -- ?&gt;</td><td>NULL</td><td>26</td><td>NULL</td><td>NULL</td><td>NULL</td><td>NULL</td><td>NULL</td><td>NULL</td><td>NULL</td><td>NULL</td><td>NULL</td><td>NULL</td><td>NULL</td><td>NULL</td><td>NULL</td><td>NULL</td><td>NULL</td><td>NULL</td><td>NULL</td><td>NULL</td><td>NULL</td><td>NULL</td><td>NULL</td><td>NULL</td><td>NULL</td><td>NULL</td><td>NULL</td><td>NULL</td><td>NULL</td><td>NULL</td><td>NULL</td><td>NULL</td><td>NULL</td><td>NULL</td><td>5</td></tr>",
                            "<tr><td>250</td><td>Server Info</td><td>Wait Time per Core per Sec</td><td>http://www.BrentOzar.com/go/measure</td><td>&lt;?ClickToSeeDetails -- \r\n0.00\r\n -- ?&gt;</td><td>NULL</td><td>20</td><td>NULL</td><td>NULL</td><td>NULL</td><td>NULL</td><td>NULL</td><td>NULL</td><td>NULL</td><td>NULL</td><td>NULL</td><td>NULL</td><td>NULL</td><td>NULL</td><td>NULL</td><td>NULL</td><td>NULL</td><td>NULL</td><td>NULL</td><td>NULL</td><td>NULL</td><td>NULL</td><td>NULL</td><td>NULL</td><td>NULL</td><td>NULL</td><td>NULL</td><td>NULL</td><td>NULL</td><td>NULL</td><td>NULL</td><td>NULL</td><td>NULL</td><td>NULL</td><td>0</td></tr>",
                            "<tr><td>251</td><td>Server Info</td><td>Database Count</td><td>http://www.BrentOzar.com/askbrent/</td><td>&lt;?ClickToSeeDetails -- \r\n3\r\n -- ?&gt;</td><td>NULL</td><td>22</td><td>NULL</td><td>NULL</td><td>NULL</td><td>NULL</td><td>NULL</td><td>NULL</td><td>NULL</td><td>NULL</td><td>NULL</td><td>NULL</td><td>NULL</td><td>NULL</td><td>NULL</td><td>NULL</td><td>NULL</td><td>NULL</td><td>NULL</td><td>NULL</td><td>NULL</td><td>NULL</td><td>NULL</td><td>NULL</td><td>NULL</td><td>NULL</td><td>NULL</td><td>NULL</td><td>NULL</td><td>NULL</td><td>NULL</td><td>NULL</td><td>NULL</td><td>NULL</td><td>3</td></tr>",
                            "<tr><td>251</td><td>Server Info</td><td>Database Size, Total GB</td><td>http://www.BrentOzar.com/askbrent/</td><td>&lt;?ClickToSeeDetails -- \r\n0.73437500000\r\n -- ?&gt;</td><td>NULL</td><td>21</td><td>NULL</td><td>NULL</td><td>NULL</td><td>NULL</td><td>NULL</td><td>NULL</td><td>NULL</td><td>NULL</td><td>NULL</td><td>NULL</td><td>NULL</td><td>NULL</td><td>NULL</td><td>NULL</td><td>NULL</td><td>NULL</td><td>NULL</td><td>NULL</td><td>NULL</td><td>NULL</td><td>NULL</td><td>NULL</td><td>NULL</td><td>NULL</td><td>NULL</td><td>NULL</td><td>NULL</td><td>NULL</td><td>NULL</td><td>NULL</td><td>NULL</td><td>NULL</td><td>0</td></tr>",
                            "<tr><td>251</td><td>Server Info</td><td>Memory Grant/Workspace info</td><td>http://www.BrentOzar.com/askbrent/</td><td>&lt;?ClickToSeeDetails -- \r\nGrants Outstanding: 0\r\nTotal Granted(MB): 0\r\nTotal WorkSpace(MB): 1368\r\nGranted workspace: 0.00%\r\nOldest Grant in seconds: 0\r\n -- ?&gt;</td><td>NULL</td><td>40</td><td>NULL</td><td>NULL</td><td>NULL</td><td>NULL</td><td>NULL</td><td>NULL</td><td>NULL</td><td>NULL</td><td>NULL</td><td>NULL</td><td>NULL</td><td>NULL</td><td>NULL</td><td>NULL</td><td>NULL</td><td>NULL</td><td>NULL</td><td>NULL</td><td>NULL</td><td>NULL</td><td>NULL</td><td>NULL</td><td>NULL</td><td>NULL</td><td>NULL</td><td>NULL</td><td>NULL</td><td>NULL</td><td>NULL</td><td>NULL</td><td>NULL</td><td>NULL</td><td>0</td></tr>",
                            "<tr><td>255</td><td>Thanks!</td><td>From Your Community Volunteers</td><td>http://FirstResponderKit.org/</td><td>&lt;?ClickToSeeDetails -- \r\nTo get help or add your own contributions, join us at http://FirstResponderKit.org.\r\n -- ?&gt;</td><td>NULL</td><td>-1</td><td>NULL</td><td>NULL</td><td>NULL</td><td>NULL</td><td>NULL</td><td>NULL</td><td>NULL</td><td>NULL</td><td>NULL</td><td>NULL</td><td>NULL</td><td>NULL</td><td>NULL</td><td>NULL</td><td>NULL</td><td>NULL</td><td>NULL</td><td>NULL</td><td>NULL</td><td>NULL</td><td>NULL</td><td>NULL</td><td>NULL</td><td>NULL</td><td>NULL</td><td>NULL</td><td>NULL</td><td>NULL</td><td>NULL</td><td>NULL</td><td>NULL</td><td>NULL</td><td>NULL</td></tr>",
                            "</table>"
                        ]
                    }
                },
                {
                    "output_type": "execute_result",
                    "metadata": {},
                    "execution_count": 2,
                    "data": {
                        "application/vnd.dataresource+json": {
                            "schema": {
                                "fields": [
                                    {
                                        "name": "Pattern"
                                    },
                                    {
                                        "name": "Sample Ended"
                                    },
                                    {
                                        "name": "Seconds Sample"
                                    },
                                    {
                                        "name": "wait_type"
                                    },
                                    {
                                        "name": "wait_category"
                                    },
                                    {
                                        "name": "Wait Time (Seconds)"
                                    },
                                    {
                                        "name": "Per Core Per Second"
                                    },
                                    {
                                        "name": "Signal Wait Time (Seconds)"
                                    },
                                    {
                                        "name": "Percent Signal Waits"
                                    },
                                    {
                                        "name": "Number of Waits"
                                    },
                                    {
                                        "name": "Avg ms Per Wait"
                                    },
                                    {
                                        "name": "URL"
                                    }
                                ]
                            },
                            "data": [
                                {
                                    "0": "WAIT STATS",
                                    "1": "2020-10-12 19:53:10.6200016 -07:00",
                                    "2": "4",
                                    "3": "MEMORY_ALLOCATION_EXT",
                                    "4": "Memory",
                                    "5": "0.0",
                                    "6": "0.0",
                                    "7": "0.0",
                                    "8": "0.0",
                                    "9": "7762",
                                    "10": "0.0",
                                    "11": "https://www.sqlskills.com/help/waits/memory_allocation_ext/"
                                },
                                {
                                    "0": "WAIT STATS",
                                    "1": "2020-10-12 19:53:10.6200016 -07:00",
                                    "2": "4",
                                    "3": "PREEMPTIVE_OS_WRITEFILE",
                                    "4": "Preemptive",
                                    "5": "0.0",
                                    "6": "0.0",
                                    "7": "0.0",
                                    "8": "0.0",
                                    "9": "1",
                                    "10": "2.0",
                                    "11": "https://www.sqlskills.com/help/waits/preemptive_os_writefile/"
                                },
                                {
                                    "0": "WAIT STATS",
                                    "1": "2020-10-12 19:53:10.6200016 -07:00",
                                    "2": "4",
                                    "3": "RESERVED_MEMORY_ALLOCATION_EXT",
                                    "4": "Memory",
                                    "5": "0.0",
                                    "6": "0.0",
                                    "7": "0.0",
                                    "8": "0.0",
                                    "9": "105",
                                    "10": "0.0",
                                    "11": "https://www.sqlskills.com/help/waits/reserved_memory_allocation_ext/"
                                },
                                {
                                    "0": "WAIT STATS",
                                    "1": "2020-10-12 19:53:10.6200016 -07:00",
                                    "2": "4",
                                    "3": "SOS_SCHEDULER_YIELD",
                                    "4": "CPU",
                                    "5": "0.0",
                                    "6": "0.0",
                                    "7": "0.0",
                                    "8": "0.0",
                                    "9": "574",
                                    "10": "0.0",
                                    "11": "https://www.sqlskills.com/help/waits/sos_scheduler_yield/"
                                }
                            ]
                        },
                        "text/html": [
                            "<table>",
                            "<tr><th>Pattern</th><th>Sample Ended</th><th>Seconds Sample</th><th>wait_type</th><th>wait_category</th><th>Wait Time (Seconds)</th><th>Per Core Per Second</th><th>Signal Wait Time (Seconds)</th><th>Percent Signal Waits</th><th>Number of Waits</th><th>Avg ms Per Wait</th><th>URL</th></tr>",
                            "<tr><td>WAIT STATS</td><td>2020-10-12 19:53:10.6200016 -07:00</td><td>4</td><td>MEMORY_ALLOCATION_EXT</td><td>Memory</td><td>0.0</td><td>0.0</td><td>0.0</td><td>0.0</td><td>7762</td><td>0.0</td><td>https://www.sqlskills.com/help/waits/memory_allocation_ext/</td></tr>",
                            "<tr><td>WAIT STATS</td><td>2020-10-12 19:53:10.6200016 -07:00</td><td>4</td><td>PREEMPTIVE_OS_WRITEFILE</td><td>Preemptive</td><td>0.0</td><td>0.0</td><td>0.0</td><td>0.0</td><td>1</td><td>2.0</td><td>https://www.sqlskills.com/help/waits/preemptive_os_writefile/</td></tr>",
                            "<tr><td>WAIT STATS</td><td>2020-10-12 19:53:10.6200016 -07:00</td><td>4</td><td>RESERVED_MEMORY_ALLOCATION_EXT</td><td>Memory</td><td>0.0</td><td>0.0</td><td>0.0</td><td>0.0</td><td>105</td><td>0.0</td><td>https://www.sqlskills.com/help/waits/reserved_memory_allocation_ext/</td></tr>",
                            "<tr><td>WAIT STATS</td><td>2020-10-12 19:53:10.6200016 -07:00</td><td>4</td><td>SOS_SCHEDULER_YIELD</td><td>CPU</td><td>0.0</td><td>0.0</td><td>0.0</td><td>0.0</td><td>574</td><td>0.0</td><td>https://www.sqlskills.com/help/waits/sos_scheduler_yield/</td></tr>",
                            "</table>"
                        ]
                    }
                },
                {
                    "output_type": "execute_result",
                    "metadata": {},
                    "execution_count": 2,
                    "data": {
                        "application/vnd.dataresource+json": {
                            "schema": {
                                "fields": [
                                    {
                                        "name": "Pattern"
                                    },
                                    {
                                        "name": "Sample Time"
                                    },
                                    {
                                        "name": "Sample (seconds)"
                                    },
                                    {
                                        "name": "File Name"
                                    },
                                    {
                                        "name": "Drive"
                                    },
                                    {
                                        "name": "# Reads/Writes"
                                    },
                                    {
                                        "name": "MB Read/Written"
                                    },
                                    {
                                        "name": "Avg Stall (ms)"
                                    },
                                    {
                                        "name": "file physical name"
                                    }
                                ]
                            },
                            "data": [
                                {
                                    "0": "PHYSICAL WRITES",
                                    "1": "2020-10-12 19:53:10.6881613 -07:00",
                                    "2": "4",
                                    "3": "templog [LOG]",
                                    "4": "C:",
                                    "5": "3",
                                    "6": "0.1",
                                    "7": "1",
                                    "8": "C:\\Program Files\\Microsoft SQL Server\\MSSQL15.MSSQLSERVER\\MSSQL\\DATA\\templog.ldf"
                                }
                            ]
                        },
                        "text/html": [
                            "<table>",
                            "<tr><th>Pattern</th><th>Sample Time</th><th>Sample (seconds)</th><th>File Name</th><th>Drive</th><th># Reads/Writes</th><th>MB Read/Written</th><th>Avg Stall (ms)</th><th>file physical name</th></tr>",
                            "<tr><td>PHYSICAL WRITES</td><td>2020-10-12 19:53:10.6881613 -07:00</td><td>4</td><td>templog [LOG]</td><td>C:</td><td>3</td><td>0.1</td><td>1</td><td>C:\\Program Files\\Microsoft SQL Server\\MSSQL15.MSSQLSERVER\\MSSQL\\DATA\\templog.ldf</td></tr>",
                            "</table>"
                        ]
                    }
                },
                {
                    "output_type": "execute_result",
                    "metadata": {},
                    "execution_count": 2,
                    "data": {
                        "application/vnd.dataresource+json": {
                            "schema": {
                                "fields": [
                                    {
                                        "name": "Pattern"
                                    },
                                    {
                                        "name": "object_name"
                                    },
                                    {
                                        "name": "counter_name"
                                    },
                                    {
                                        "name": "instance_name"
                                    },
                                    {
                                        "name": "FirstSampleTime"
                                    },
                                    {
                                        "name": "FirstSampleValue"
                                    },
                                    {
                                        "name": "LastSampleTime"
                                    },
                                    {
                                        "name": "LastSampleValue"
                                    },
                                    {
                                        "name": "ValueDelta"
                                    },
                                    {
                                        "name": "ValuePerSecond"
                                    }
                                ]
                            },
                            "data": [
                                {
                                    "0": "PERFMON",
                                    "1": "SQLServer:Access Methods",
                                    "2": "Full Scans/sec",
                                    "3": "",
                                    "4": "2020-10-12 19:53:06.2683677 -07:00",
                                    "5": "929",
                                    "6": "2020-10-12 19:53:10.7200448 -07:00",
                                    "7": "1033",
                                    "8": "104",
                                    "9": "26.000000000000"
                                },
                                {
                                    "0": "PERFMON",
                                    "1": "SQLServer:Access Methods",
                                    "2": "Index Searches/sec",
                                    "3": "",
                                    "4": "2020-10-12 19:53:06.2683677 -07:00",
                                    "5": "187054",
                                    "6": "2020-10-12 19:53:10.7200448 -07:00",
                                    "7": "197878",
                                    "8": "10824",
                                    "9": "2706.000000000000"
                                },
                                {
                                    "0": "PERFMON",
                                    "1": "SQLServer:Access Methods",
                                    "2": "Page Splits/sec",
                                    "3": "",
                                    "4": "2020-10-12 19:53:06.2683677 -07:00",
                                    "5": "283",
                                    "6": "2020-10-12 19:53:10.7200448 -07:00",
                                    "7": "318",
                                    "8": "35",
                                    "9": "8.750000000000"
                                },
                                {
                                    "0": "PERFMON",
                                    "1": "SQLServer:Access Methods",
                                    "2": "Workfiles Created/sec",
                                    "3": "",
                                    "4": "2020-10-12 19:53:06.2683677 -07:00",
                                    "5": "16848",
                                    "6": "2020-10-12 19:53:10.7200448 -07:00",
                                    "7": "16856",
                                    "8": "8",
                                    "9": "2.000000000000"
                                },
                                {
                                    "0": "PERFMON",
                                    "1": "SQLServer:Access Methods",
                                    "2": "Worktables Created/sec",
                                    "3": "",
                                    "4": "2020-10-12 19:53:06.2683677 -07:00",
                                    "5": "4224",
                                    "6": "2020-10-12 19:53:10.7200448 -07:00",
                                    "7": "4241",
                                    "8": "17",
                                    "9": "4.250000000000"
                                },
                                {
                                    "0": "PERFMON",
                                    "1": "SQLServer:Access Methods",
                                    "2": "Worktables From Cache Base",
                                    "3": "",
                                    "4": "2020-10-12 19:53:06.2683677 -07:00",
                                    "5": "94",
                                    "6": "2020-10-12 19:53:10.7200448 -07:00",
                                    "7": "98",
                                    "8": "4",
                                    "9": "1.000000000000"
                                },
                                {
                                    "0": "PERFMON",
                                    "1": "SQLServer:Access Methods",
                                    "2": "Worktables From Cache Ratio",
                                    "3": "",
                                    "4": "2020-10-12 19:53:06.2683677 -07:00",
                                    "5": "39",
                                    "6": "2020-10-12 19:53:10.7200448 -07:00",
                                    "7": "43",
                                    "8": "4",
                                    "9": "1.000000000000"
                                },
                                {
                                    "0": "PERFMON",
                                    "1": "SQLServer:Buffer Manager",
                                    "2": "Buffer cache hit ratio",
                                    "3": "",
                                    "4": "2020-10-12 19:53:06.2683677 -07:00",
                                    "5": "1681",
                                    "6": "2020-10-12 19:53:10.7200448 -07:00",
                                    "7": "16",
                                    "8": "-1665",
                                    "9": "-416.250000000000"
                                },
                                {
                                    "0": "PERFMON",
                                    "1": "SQLServer:Buffer Manager",
                                    "2": "Buffer cache hit ratio base",
                                    "3": "",
                                    "4": "2020-10-12 19:53:06.2683677 -07:00",
                                    "5": "1681",
                                    "6": "2020-10-12 19:53:10.7200448 -07:00",
                                    "7": "16",
                                    "8": "-1665",
                                    "9": "-416.250000000000"
                                },
                                {
                                    "0": "PERFMON",
                                    "1": "SQLServer:Buffer Manager",
                                    "2": "Database pages",
                                    "3": "",
                                    "4": "2020-10-12 19:53:06.2683677 -07:00",
                                    "5": "8766",
                                    "6": "2020-10-12 19:53:10.7200448 -07:00",
                                    "7": "8813",
                                    "8": "47",
                                    "9": "11.750000000000"
                                },
                                {
                                    "0": "PERFMON",
                                    "1": "SQLServer:Buffer Manager",
                                    "2": "Page life expectancy",
                                    "3": "",
                                    "4": "2020-10-12 19:53:06.2683677 -07:00",
                                    "5": "3512",
                                    "6": "2020-10-12 19:53:10.7200448 -07:00",
                                    "7": "3515",
                                    "8": "3",
                                    "9": "0.750000000000"
                                },
                                {
                                    "0": "PERFMON",
                                    "1": "SQLServer:Buffer Manager",
                                    "2": "Page lookups/sec",
                                    "3": "",
                                    "4": "2020-10-12 19:53:06.2683677 -07:00",
                                    "5": "689505",
                                    "6": "2020-10-12 19:53:10.7200448 -07:00",
                                    "7": "716764",
                                    "8": "27259",
                                    "9": "6814.750000000000"
                                },
                                {
                                    "0": "PERFMON",
                                    "1": "SQLServer:Databases",
                                    "2": "Log Bytes Flushed/sec",
                                    "3": "_Total",
                                    "4": "2020-10-12 19:53:06.2683677 -07:00",
                                    "5": "2300928",
                                    "6": "2020-10-12 19:53:10.7200448 -07:00",
                                    "7": "2362368",
                                    "8": "61440",
                                    "9": "15360.000000000000"
                                },
                                {
                                    "0": "PERFMON",
                                    "1": "SQLServer:Databases",
                                    "2": "Transactions/sec",
                                    "3": "_Total",
                                    "4": "2020-10-12 19:53:06.2683677 -07:00",
                                    "5": "4759",
                                    "6": "2020-10-12 19:53:10.7200448 -07:00",
                                    "7": "4880",
                                    "8": "121",
                                    "9": "30.250000000000"
                                },
                                {
                                    "0": "PERFMON",
                                    "1": "SQLServer:Databases",
                                    "2": "Transactions/sec",
                                    "3": "AW1",
                                    "4": "2020-10-12 19:53:06.2683677 -07:00",
                                    "5": "113",
                                    "6": "2020-10-12 19:53:10.7200448 -07:00",
                                    "7": "114",
                                    "8": "1",
                                    "9": "0.250000000000"
                                },
                                {
                                    "0": "PERFMON",
                                    "1": "SQLServer:Databases",
                                    "2": "Transactions/sec",
                                    "3": "AW2",
                                    "4": "2020-10-12 19:53:06.2683677 -07:00",
                                    "5": "96",
                                    "6": "2020-10-12 19:53:10.7200448 -07:00",
                                    "7": "97",
                                    "8": "1",
                                    "9": "0.250000000000"
                                },
                                {
                                    "0": "PERFMON",
                                    "1": "SQLServer:Databases",
                                    "2": "Transactions/sec",
                                    "3": "DBAmaintenance",
                                    "4": "2020-10-12 19:53:06.2683677 -07:00",
                                    "5": "96",
                                    "6": "2020-10-12 19:53:10.7200448 -07:00",
                                    "7": "97",
                                    "8": "1",
                                    "9": "0.250000000000"
                                },
                                {
                                    "0": "PERFMON",
                                    "1": "SQLServer:Databases",
                                    "2": "Transactions/sec",
                                    "3": "master",
                                    "4": "2020-10-12 19:53:06.2683677 -07:00",
                                    "5": "2559",
                                    "6": "2020-10-12 19:53:10.7200448 -07:00",
                                    "7": "2591",
                                    "8": "32",
                                    "9": "8.000000000000"
                                },
                                {
                                    "0": "PERFMON",
                                    "1": "SQLServer:Databases",
                                    "2": "Transactions/sec",
                                    "3": "model",
                                    "4": "2020-10-12 19:53:06.2683677 -07:00",
                                    "5": "91",
                                    "6": "2020-10-12 19:53:10.7200448 -07:00",
                                    "7": "92",
                                    "8": "1",
                                    "9": "0.250000000000"
                                },
                                {
                                    "0": "PERFMON",
                                    "1": "SQLServer:Databases",
                                    "2": "Transactions/sec",
                                    "3": "msdb",
                                    "4": "2020-10-12 19:53:06.2683677 -07:00",
                                    "5": "130",
                                    "6": "2020-10-12 19:53:10.7200448 -07:00",
                                    "7": "132",
                                    "8": "2",
                                    "9": "0.500000000000"
                                },
                                {
                                    "0": "PERFMON",
                                    "1": "SQLServer:Databases",
                                    "2": "Transactions/sec",
                                    "3": "tempdb",
                                    "4": "2020-10-12 19:53:06.2683677 -07:00",
                                    "5": "1656",
                                    "6": "2020-10-12 19:53:10.7200448 -07:00",
                                    "7": "1739",
                                    "8": "83",
                                    "9": "20.750000000000"
                                },
                                {
                                    "0": "PERFMON",
                                    "1": "SQLServer:Databases",
                                    "2": "Write Transactions/sec",
                                    "3": "_Total",
                                    "4": "2020-10-12 19:53:06.2683677 -07:00",
                                    "5": "1337",
                                    "6": "2020-10-12 19:53:10.7200448 -07:00",
                                    "7": "1378",
                                    "8": "41",
                                    "9": "10.250000000000"
                                },
                                {
                                    "0": "PERFMON",
                                    "1": "SQLServer:Databases",
                                    "2": "Write Transactions/sec",
                                    "3": "tempdb",
                                    "4": "2020-10-12 19:53:06.2683677 -07:00",
                                    "5": "1275",
                                    "6": "2020-10-12 19:53:10.7200448 -07:00",
                                    "7": "1316",
                                    "8": "41",
                                    "9": "10.250000000000"
                                },
                                {
                                    "0": "PERFMON",
                                    "1": "SQLServer:General Statistics",
                                    "2": "Active Temp Tables",
                                    "3": "",
                                    "4": "2020-10-12 19:53:06.2683677 -07:00",
                                    "5": "23",
                                    "6": "2020-10-12 19:53:10.7200448 -07:00",
                                    "7": "24",
                                    "8": "1",
                                    "9": "0.250000000000"
                                },
                                {
                                    "0": "PERFMON",
                                    "1": "SQLServer:Latches",
                                    "2": "Latch Waits/sec",
                                    "3": "",
                                    "4": "2020-10-12 19:53:06.2683677 -07:00",
                                    "5": "1039",
                                    "6": "2020-10-12 19:53:10.7200448 -07:00",
                                    "7": "1041",
                                    "8": "2",
                                    "9": "0.500000000000"
                                },
                                {
                                    "0": "PERFMON",
                                    "1": "SQLServer:Locks",
                                    "2": "Lock Requests/sec",
                                    "3": "_Total",
                                    "4": "2020-10-12 19:53:06.2683677 -07:00",
                                    "5": "425055",
                                    "6": "2020-10-12 19:53:10.7200448 -07:00",
                                    "7": "445370",
                                    "8": "20315",
                                    "9": "5078.750000000000"
                                },
                                {
                                    "0": "PERFMON",
                                    "1": "SQLServer:Locks",
                                    "2": "Lock Requests/sec",
                                    "3": "AllocUnit",
                                    "4": "2020-10-12 19:53:06.2683677 -07:00",
                                    "5": "2",
                                    "6": "2020-10-12 19:53:10.7200448 -07:00",
                                    "7": "5",
                                    "8": "3",
                                    "9": "0.750000000000"
                                },
                                {
                                    "0": "PERFMON",
                                    "1": "SQLServer:Locks",
                                    "2": "Lock Requests/sec",
                                    "3": "Database",
                                    "4": "2020-10-12 19:53:06.2683677 -07:00",
                                    "5": "14654",
                                    "6": "2020-10-12 19:53:10.7200448 -07:00",
                                    "7": "14902",
                                    "8": "248",
                                    "9": "62.000000000000"
                                },
                                {
                                    "0": "PERFMON",
                                    "1": "SQLServer:Locks",
                                    "2": "Lock Requests/sec",
                                    "3": "Extent",
                                    "4": "2020-10-12 19:53:06.2683677 -07:00",
                                    "5": "6562",
                                    "6": "2020-10-12 19:53:10.7200448 -07:00",
                                    "7": "6921",
                                    "8": "359",
                                    "9": "89.750000000000"
                                },
                                {
                                    "0": "PERFMON",
                                    "1": "SQLServer:Locks",
                                    "2": "Lock Requests/sec",
                                    "3": "File",
                                    "4": "2020-10-12 19:53:06.2683677 -07:00",
                                    "5": "26",
                                    "6": "2020-10-12 19:53:10.7200448 -07:00",
                                    "7": "27",
                                    "8": "1",
                                    "9": "0.250000000000"
                                },
                                {
                                    "0": "PERFMON",
                                    "1": "SQLServer:Locks",
                                    "2": "Lock Requests/sec",
                                    "3": "HoBT",
                                    "4": "2020-10-12 19:53:06.2683677 -07:00",
                                    "5": "305",
                                    "6": "2020-10-12 19:53:10.7200448 -07:00",
                                    "7": "405",
                                    "8": "100",
                                    "9": "25.000000000000"
                                },
                                {
                                    "0": "PERFMON",
                                    "1": "SQLServer:Locks",
                                    "2": "Lock Requests/sec",
                                    "3": "Key",
                                    "4": "2020-10-12 19:53:06.2683677 -07:00",
                                    "5": "144483",
                                    "6": "2020-10-12 19:53:10.7200448 -07:00",
                                    "7": "147450",
                                    "8": "2967",
                                    "9": "741.750000000000"
                                },
                                {
                                    "0": "PERFMON",
                                    "1": "SQLServer:Locks",
                                    "2": "Lock Requests/sec",
                                    "3": "Metadata",
                                    "4": "2020-10-12 19:53:06.2683677 -07:00",
                                    "5": "89029",
                                    "6": "2020-10-12 19:53:10.7200448 -07:00",
                                    "7": "98712",
                                    "8": "9683",
                                    "9": "2420.750000000000"
                                },
                                {
                                    "0": "PERFMON",
                                    "1": "SQLServer:Locks",
                                    "2": "Lock Requests/sec",
                                    "3": "Object",
                                    "4": "2020-10-12 19:53:06.2683677 -07:00",
                                    "5": "163244",
                                    "6": "2020-10-12 19:53:10.7200448 -07:00",
                                    "7": "169635",
                                    "8": "6391",
                                    "9": "1597.750000000000"
                                },
                                {
                                    "0": "PERFMON",
                                    "1": "SQLServer:Locks",
                                    "2": "Lock Requests/sec",
                                    "3": "Page",
                                    "4": "2020-10-12 19:53:06.2683677 -07:00",
                                    "5": "6117",
                                    "6": "2020-10-12 19:53:10.7200448 -07:00",
                                    "7": "6587",
                                    "8": "470",
                                    "9": "117.500000000000"
                                },
                                {
                                    "0": "PERFMON",
                                    "1": "SQLServer:Locks",
                                    "2": "Lock Requests/sec",
                                    "3": "RID",
                                    "4": "2020-10-12 19:53:06.2683677 -07:00",
                                    "5": "633",
                                    "6": "2020-10-12 19:53:10.7200448 -07:00",
                                    "7": "726",
                                    "8": "93",
                                    "9": "23.250000000000"
                                },
                                {
                                    "0": "PERFMON",
                                    "1": "SQLServer:Memory Manager",
                                    "2": "Maximum Workspace Memory (KB)",
                                    "3": "",
                                    "4": "2020-10-12 19:53:06.2683677 -07:00",
                                    "5": "1400880",
                                    "6": "2020-10-12 19:53:10.7200448 -07:00",
                                    "7": "1398240",
                                    "8": "-2640",
                                    "9": "-660.000000000000"
                                },
                                {
                                    "0": "PERFMON",
                                    "1": "SQLServer:Memory Manager",
                                    "2": "Total Server Memory (KB)",
                                    "3": "",
                                    "4": "2020-10-12 19:53:06.2683677 -07:00",
                                    "5": "440112",
                                    "6": "2020-10-12 19:53:10.7200448 -07:00",
                                    "7": "440168",
                                    "8": "56",
                                    "9": "14.000000000000"
                                },
                                {
                                    "0": "PERFMON",
                                    "1": "SQLServer:SQL Errors",
                                    "2": "Errors/sec",
                                    "3": "_Total",
                                    "4": "2020-10-12 19:53:06.2683677 -07:00",
                                    "5": "603",
                                    "6": "2020-10-12 19:53:10.7200448 -07:00",
                                    "7": "607",
                                    "8": "4",
                                    "9": "1.000000000000"
                                },
                                {
                                    "0": "PERFMON",
                                    "1": "SQLServer:SQL Statistics",
                                    "2": "Auto-Param Attempts/sec",
                                    "3": "",
                                    "4": "2020-10-12 19:53:06.2683677 -07:00",
                                    "5": "112",
                                    "6": "2020-10-12 19:53:10.7200448 -07:00",
                                    "7": "113",
                                    "8": "1",
                                    "9": "0.250000000000"
                                },
                                {
                                    "0": "PERFMON",
                                    "1": "SQLServer:SQL Statistics",
                                    "2": "Failed Auto-Params/sec",
                                    "3": "",
                                    "4": "2020-10-12 19:53:06.2683677 -07:00",
                                    "5": "96",
                                    "6": "2020-10-12 19:53:10.7200448 -07:00",
                                    "7": "97",
                                    "8": "1",
                                    "9": "0.250000000000"
                                },
                                {
                                    "0": "PERFMON",
                                    "1": "SQLServer:SQL Statistics",
                                    "2": "SQL Compilations/sec",
                                    "3": "",
                                    "4": "2020-10-12 19:53:06.2683677 -07:00",
                                    "5": "1821",
                                    "6": "2020-10-12 19:53:10.7200448 -07:00",
                                    "7": "1846",
                                    "8": "25",
                                    "9": "6.250000000000"
                                },
                                {
                                    "0": "PERFMON",
                                    "1": "SQLServer:SQL Statistics",
                                    "2": "SQL Re-Compilations/sec",
                                    "3": "",
                                    "4": "2020-10-12 19:53:06.2683677 -07:00",
                                    "5": "1066",
                                    "6": "2020-10-12 19:53:10.7200448 -07:00",
                                    "7": "1086",
                                    "8": "20",
                                    "9": "5.000000000000"
                                },
                                {
                                    "0": "PERFMON",
                                    "1": "SQLServer:Workload Group Stats",
                                    "2": "Query optimizations/sec",
                                    "3": "default",
                                    "4": "2020-10-12 19:53:06.2683677 -07:00",
                                    "5": "2528",
                                    "6": "2020-10-12 19:53:10.7200448 -07:00",
                                    "7": "2551",
                                    "8": "23",
                                    "9": "5.750000000000"
                                },
                                {
                                    "0": "PERFMON",
                                    "1": "SQLServer:Workload Group Stats",
                                    "2": "Suboptimal plans/sec",
                                    "3": "default",
                                    "4": "2020-10-12 19:53:06.2683677 -07:00",
                                    "5": "22",
                                    "6": "2020-10-12 19:53:10.7200448 -07:00",
                                    "7": "26",
                                    "8": "4",
                                    "9": "1.000000000000"
                                }
                            ]
                        },
                        "text/html": [
                            "<table>",
                            "<tr><th>Pattern</th><th>object_name</th><th>counter_name</th><th>instance_name</th><th>FirstSampleTime</th><th>FirstSampleValue</th><th>LastSampleTime</th><th>LastSampleValue</th><th>ValueDelta</th><th>ValuePerSecond</th></tr>",
                            "<tr><td>PERFMON</td><td>SQLServer:Access Methods</td><td>Full Scans/sec</td><td></td><td>2020-10-12 19:53:06.2683677 -07:00</td><td>929</td><td>2020-10-12 19:53:10.7200448 -07:00</td><td>1033</td><td>104</td><td>26.000000000000</td></tr>",
                            "<tr><td>PERFMON</td><td>SQLServer:Access Methods</td><td>Index Searches/sec</td><td></td><td>2020-10-12 19:53:06.2683677 -07:00</td><td>187054</td><td>2020-10-12 19:53:10.7200448 -07:00</td><td>197878</td><td>10824</td><td>2706.000000000000</td></tr>",
                            "<tr><td>PERFMON</td><td>SQLServer:Access Methods</td><td>Page Splits/sec</td><td></td><td>2020-10-12 19:53:06.2683677 -07:00</td><td>283</td><td>2020-10-12 19:53:10.7200448 -07:00</td><td>318</td><td>35</td><td>8.750000000000</td></tr>",
                            "<tr><td>PERFMON</td><td>SQLServer:Access Methods</td><td>Workfiles Created/sec</td><td></td><td>2020-10-12 19:53:06.2683677 -07:00</td><td>16848</td><td>2020-10-12 19:53:10.7200448 -07:00</td><td>16856</td><td>8</td><td>2.000000000000</td></tr>",
                            "<tr><td>PERFMON</td><td>SQLServer:Access Methods</td><td>Worktables Created/sec</td><td></td><td>2020-10-12 19:53:06.2683677 -07:00</td><td>4224</td><td>2020-10-12 19:53:10.7200448 -07:00</td><td>4241</td><td>17</td><td>4.250000000000</td></tr>",
                            "<tr><td>PERFMON</td><td>SQLServer:Access Methods</td><td>Worktables From Cache Base</td><td></td><td>2020-10-12 19:53:06.2683677 -07:00</td><td>94</td><td>2020-10-12 19:53:10.7200448 -07:00</td><td>98</td><td>4</td><td>1.000000000000</td></tr>",
                            "<tr><td>PERFMON</td><td>SQLServer:Access Methods</td><td>Worktables From Cache Ratio</td><td></td><td>2020-10-12 19:53:06.2683677 -07:00</td><td>39</td><td>2020-10-12 19:53:10.7200448 -07:00</td><td>43</td><td>4</td><td>1.000000000000</td></tr>",
                            "<tr><td>PERFMON</td><td>SQLServer:Buffer Manager</td><td>Buffer cache hit ratio</td><td></td><td>2020-10-12 19:53:06.2683677 -07:00</td><td>1681</td><td>2020-10-12 19:53:10.7200448 -07:00</td><td>16</td><td>-1665</td><td>-416.250000000000</td></tr>",
                            "<tr><td>PERFMON</td><td>SQLServer:Buffer Manager</td><td>Buffer cache hit ratio base</td><td></td><td>2020-10-12 19:53:06.2683677 -07:00</td><td>1681</td><td>2020-10-12 19:53:10.7200448 -07:00</td><td>16</td><td>-1665</td><td>-416.250000000000</td></tr>",
                            "<tr><td>PERFMON</td><td>SQLServer:Buffer Manager</td><td>Database pages</td><td></td><td>2020-10-12 19:53:06.2683677 -07:00</td><td>8766</td><td>2020-10-12 19:53:10.7200448 -07:00</td><td>8813</td><td>47</td><td>11.750000000000</td></tr>",
                            "<tr><td>PERFMON</td><td>SQLServer:Buffer Manager</td><td>Page life expectancy</td><td></td><td>2020-10-12 19:53:06.2683677 -07:00</td><td>3512</td><td>2020-10-12 19:53:10.7200448 -07:00</td><td>3515</td><td>3</td><td>0.750000000000</td></tr>",
                            "<tr><td>PERFMON</td><td>SQLServer:Buffer Manager</td><td>Page lookups/sec</td><td></td><td>2020-10-12 19:53:06.2683677 -07:00</td><td>689505</td><td>2020-10-12 19:53:10.7200448 -07:00</td><td>716764</td><td>27259</td><td>6814.750000000000</td></tr>",
                            "<tr><td>PERFMON</td><td>SQLServer:Databases</td><td>Log Bytes Flushed/sec</td><td>_Total</td><td>2020-10-12 19:53:06.2683677 -07:00</td><td>2300928</td><td>2020-10-12 19:53:10.7200448 -07:00</td><td>2362368</td><td>61440</td><td>15360.000000000000</td></tr>",
                            "<tr><td>PERFMON</td><td>SQLServer:Databases</td><td>Transactions/sec</td><td>_Total</td><td>2020-10-12 19:53:06.2683677 -07:00</td><td>4759</td><td>2020-10-12 19:53:10.7200448 -07:00</td><td>4880</td><td>121</td><td>30.250000000000</td></tr>",
                            "<tr><td>PERFMON</td><td>SQLServer:Databases</td><td>Transactions/sec</td><td>AW1</td><td>2020-10-12 19:53:06.2683677 -07:00</td><td>113</td><td>2020-10-12 19:53:10.7200448 -07:00</td><td>114</td><td>1</td><td>0.250000000000</td></tr>",
                            "<tr><td>PERFMON</td><td>SQLServer:Databases</td><td>Transactions/sec</td><td>AW2</td><td>2020-10-12 19:53:06.2683677 -07:00</td><td>96</td><td>2020-10-12 19:53:10.7200448 -07:00</td><td>97</td><td>1</td><td>0.250000000000</td></tr>",
                            "<tr><td>PERFMON</td><td>SQLServer:Databases</td><td>Transactions/sec</td><td>DBAmaintenance</td><td>2020-10-12 19:53:06.2683677 -07:00</td><td>96</td><td>2020-10-12 19:53:10.7200448 -07:00</td><td>97</td><td>1</td><td>0.250000000000</td></tr>",
                            "<tr><td>PERFMON</td><td>SQLServer:Databases</td><td>Transactions/sec</td><td>master</td><td>2020-10-12 19:53:06.2683677 -07:00</td><td>2559</td><td>2020-10-12 19:53:10.7200448 -07:00</td><td>2591</td><td>32</td><td>8.000000000000</td></tr>",
                            "<tr><td>PERFMON</td><td>SQLServer:Databases</td><td>Transactions/sec</td><td>model</td><td>2020-10-12 19:53:06.2683677 -07:00</td><td>91</td><td>2020-10-12 19:53:10.7200448 -07:00</td><td>92</td><td>1</td><td>0.250000000000</td></tr>",
                            "<tr><td>PERFMON</td><td>SQLServer:Databases</td><td>Transactions/sec</td><td>msdb</td><td>2020-10-12 19:53:06.2683677 -07:00</td><td>130</td><td>2020-10-12 19:53:10.7200448 -07:00</td><td>132</td><td>2</td><td>0.500000000000</td></tr>",
                            "<tr><td>PERFMON</td><td>SQLServer:Databases</td><td>Transactions/sec</td><td>tempdb</td><td>2020-10-12 19:53:06.2683677 -07:00</td><td>1656</td><td>2020-10-12 19:53:10.7200448 -07:00</td><td>1739</td><td>83</td><td>20.750000000000</td></tr>",
                            "<tr><td>PERFMON</td><td>SQLServer:Databases</td><td>Write Transactions/sec</td><td>_Total</td><td>2020-10-12 19:53:06.2683677 -07:00</td><td>1337</td><td>2020-10-12 19:53:10.7200448 -07:00</td><td>1378</td><td>41</td><td>10.250000000000</td></tr>",
                            "<tr><td>PERFMON</td><td>SQLServer:Databases</td><td>Write Transactions/sec</td><td>tempdb</td><td>2020-10-12 19:53:06.2683677 -07:00</td><td>1275</td><td>2020-10-12 19:53:10.7200448 -07:00</td><td>1316</td><td>41</td><td>10.250000000000</td></tr>",
                            "<tr><td>PERFMON</td><td>SQLServer:General Statistics</td><td>Active Temp Tables</td><td></td><td>2020-10-12 19:53:06.2683677 -07:00</td><td>23</td><td>2020-10-12 19:53:10.7200448 -07:00</td><td>24</td><td>1</td><td>0.250000000000</td></tr>",
                            "<tr><td>PERFMON</td><td>SQLServer:Latches</td><td>Latch Waits/sec</td><td></td><td>2020-10-12 19:53:06.2683677 -07:00</td><td>1039</td><td>2020-10-12 19:53:10.7200448 -07:00</td><td>1041</td><td>2</td><td>0.500000000000</td></tr>",
                            "<tr><td>PERFMON</td><td>SQLServer:Locks</td><td>Lock Requests/sec</td><td>_Total</td><td>2020-10-12 19:53:06.2683677 -07:00</td><td>425055</td><td>2020-10-12 19:53:10.7200448 -07:00</td><td>445370</td><td>20315</td><td>5078.750000000000</td></tr>",
                            "<tr><td>PERFMON</td><td>SQLServer:Locks</td><td>Lock Requests/sec</td><td>AllocUnit</td><td>2020-10-12 19:53:06.2683677 -07:00</td><td>2</td><td>2020-10-12 19:53:10.7200448 -07:00</td><td>5</td><td>3</td><td>0.750000000000</td></tr>",
                            "<tr><td>PERFMON</td><td>SQLServer:Locks</td><td>Lock Requests/sec</td><td>Database</td><td>2020-10-12 19:53:06.2683677 -07:00</td><td>14654</td><td>2020-10-12 19:53:10.7200448 -07:00</td><td>14902</td><td>248</td><td>62.000000000000</td></tr>",
                            "<tr><td>PERFMON</td><td>SQLServer:Locks</td><td>Lock Requests/sec</td><td>Extent</td><td>2020-10-12 19:53:06.2683677 -07:00</td><td>6562</td><td>2020-10-12 19:53:10.7200448 -07:00</td><td>6921</td><td>359</td><td>89.750000000000</td></tr>",
                            "<tr><td>PERFMON</td><td>SQLServer:Locks</td><td>Lock Requests/sec</td><td>File</td><td>2020-10-12 19:53:06.2683677 -07:00</td><td>26</td><td>2020-10-12 19:53:10.7200448 -07:00</td><td>27</td><td>1</td><td>0.250000000000</td></tr>",
                            "<tr><td>PERFMON</td><td>SQLServer:Locks</td><td>Lock Requests/sec</td><td>HoBT</td><td>2020-10-12 19:53:06.2683677 -07:00</td><td>305</td><td>2020-10-12 19:53:10.7200448 -07:00</td><td>405</td><td>100</td><td>25.000000000000</td></tr>",
                            "<tr><td>PERFMON</td><td>SQLServer:Locks</td><td>Lock Requests/sec</td><td>Key</td><td>2020-10-12 19:53:06.2683677 -07:00</td><td>144483</td><td>2020-10-12 19:53:10.7200448 -07:00</td><td>147450</td><td>2967</td><td>741.750000000000</td></tr>",
                            "<tr><td>PERFMON</td><td>SQLServer:Locks</td><td>Lock Requests/sec</td><td>Metadata</td><td>2020-10-12 19:53:06.2683677 -07:00</td><td>89029</td><td>2020-10-12 19:53:10.7200448 -07:00</td><td>98712</td><td>9683</td><td>2420.750000000000</td></tr>",
                            "<tr><td>PERFMON</td><td>SQLServer:Locks</td><td>Lock Requests/sec</td><td>Object</td><td>2020-10-12 19:53:06.2683677 -07:00</td><td>163244</td><td>2020-10-12 19:53:10.7200448 -07:00</td><td>169635</td><td>6391</td><td>1597.750000000000</td></tr>",
                            "<tr><td>PERFMON</td><td>SQLServer:Locks</td><td>Lock Requests/sec</td><td>Page</td><td>2020-10-12 19:53:06.2683677 -07:00</td><td>6117</td><td>2020-10-12 19:53:10.7200448 -07:00</td><td>6587</td><td>470</td><td>117.500000000000</td></tr>",
                            "<tr><td>PERFMON</td><td>SQLServer:Locks</td><td>Lock Requests/sec</td><td>RID</td><td>2020-10-12 19:53:06.2683677 -07:00</td><td>633</td><td>2020-10-12 19:53:10.7200448 -07:00</td><td>726</td><td>93</td><td>23.250000000000</td></tr>",
                            "<tr><td>PERFMON</td><td>SQLServer:Memory Manager</td><td>Maximum Workspace Memory (KB)</td><td></td><td>2020-10-12 19:53:06.2683677 -07:00</td><td>1400880</td><td>2020-10-12 19:53:10.7200448 -07:00</td><td>1398240</td><td>-2640</td><td>-660.000000000000</td></tr>",
                            "<tr><td>PERFMON</td><td>SQLServer:Memory Manager</td><td>Total Server Memory (KB)</td><td></td><td>2020-10-12 19:53:06.2683677 -07:00</td><td>440112</td><td>2020-10-12 19:53:10.7200448 -07:00</td><td>440168</td><td>56</td><td>14.000000000000</td></tr>",
                            "<tr><td>PERFMON</td><td>SQLServer:SQL Errors</td><td>Errors/sec</td><td>_Total</td><td>2020-10-12 19:53:06.2683677 -07:00</td><td>603</td><td>2020-10-12 19:53:10.7200448 -07:00</td><td>607</td><td>4</td><td>1.000000000000</td></tr>",
                            "<tr><td>PERFMON</td><td>SQLServer:SQL Statistics</td><td>Auto-Param Attempts/sec</td><td></td><td>2020-10-12 19:53:06.2683677 -07:00</td><td>112</td><td>2020-10-12 19:53:10.7200448 -07:00</td><td>113</td><td>1</td><td>0.250000000000</td></tr>",
                            "<tr><td>PERFMON</td><td>SQLServer:SQL Statistics</td><td>Failed Auto-Params/sec</td><td></td><td>2020-10-12 19:53:06.2683677 -07:00</td><td>96</td><td>2020-10-12 19:53:10.7200448 -07:00</td><td>97</td><td>1</td><td>0.250000000000</td></tr>",
                            "<tr><td>PERFMON</td><td>SQLServer:SQL Statistics</td><td>SQL Compilations/sec</td><td></td><td>2020-10-12 19:53:06.2683677 -07:00</td><td>1821</td><td>2020-10-12 19:53:10.7200448 -07:00</td><td>1846</td><td>25</td><td>6.250000000000</td></tr>",
                            "<tr><td>PERFMON</td><td>SQLServer:SQL Statistics</td><td>SQL Re-Compilations/sec</td><td></td><td>2020-10-12 19:53:06.2683677 -07:00</td><td>1066</td><td>2020-10-12 19:53:10.7200448 -07:00</td><td>1086</td><td>20</td><td>5.000000000000</td></tr>",
                            "<tr><td>PERFMON</td><td>SQLServer:Workload Group Stats</td><td>Query optimizations/sec</td><td>default</td><td>2020-10-12 19:53:06.2683677 -07:00</td><td>2528</td><td>2020-10-12 19:53:10.7200448 -07:00</td><td>2551</td><td>23</td><td>5.750000000000</td></tr>",
                            "<tr><td>PERFMON</td><td>SQLServer:Workload Group Stats</td><td>Suboptimal plans/sec</td><td>default</td><td>2020-10-12 19:53:06.2683677 -07:00</td><td>22</td><td>2020-10-12 19:53:10.7200448 -07:00</td><td>26</td><td>4</td><td>1.000000000000</td></tr>",
                            "</table>"
                        ]
                    }
                },
                {
                    "output_type": "execute_result",
                    "metadata": {},
                    "execution_count": 2,
                    "data": {
                        "application/vnd.dataresource+json": {
                            "schema": {
                                "fields": [
                                    {
                                        "name": "Pattern"
                                    },
                                    {
                                        "name": "Finding"
                                    },
                                    {
                                        "name": "More Info"
                                    },
                                    {
                                        "name": "Details"
                                    }
                                ]
                            },
                            "data": [
                                {
                                    "0": "Plan Cache",
                                    "1": "Plan cache not analyzed",
                                    "2": "Use @CheckProcedureCache = 1 or run sp_BlitzCache for more analysis",
                                    "3": "<?ClickToSeeDetails -- \r\nfirstresponderkit.org\r\n -- ?>"
                                }
                            ]
                        },
                        "text/html": [
                            "<table>",
                            "<tr><th>Pattern</th><th>Finding</th><th>More Info</th><th>Details</th></tr>",
                            "<tr><td>Plan Cache</td><td>Plan cache not analyzed</td><td>Use @CheckProcedureCache = 1 or run sp_BlitzCache for more analysis</td><td>&lt;?ClickToSeeDetails -- \r\nfirstresponderkit.org\r\n -- ?&gt;</td></tr>",
                            "</table>"
                        ]
                    }
                },
                {
                    "output_type": "execute_result",
                    "metadata": {},
                    "execution_count": 2,
                    "data": {
                        "application/vnd.dataresource+json": {
                            "schema": {
                                "fields": [
                                    {
                                        "name": "run_date"
                                    },
                                    {
                                        "name": "elapsed_time"
                                    },
                                    {
                                        "name": "session_id"
                                    },
                                    {
                                        "name": "database_name"
                                    },
                                    {
                                        "name": "query_text"
                                    },
                                    {
                                        "name": "query_plan"
                                    },
                                    {
                                        "name": "live_query_plan"
                                    },
                                    {
                                        "name": "query_cost"
                                    },
                                    {
                                        "name": "status"
                                    },
                                    {
                                        "name": "wait_info"
                                    },
                                    {
                                        "name": "top_session_waits"
                                    },
                                    {
                                        "name": "blocking_session_id"
                                    },
                                    {
                                        "name": "open_transaction_count"
                                    },
                                    {
                                        "name": "is_implicit_transaction"
                                    },
                                    {
                                        "name": "nt_domain"
                                    },
                                    {
                                        "name": "host_name"
                                    },
                                    {
                                        "name": "login_name"
                                    },
                                    {
                                        "name": "nt_user_name"
                                    },
                                    {
                                        "name": "program_name"
                                    }
                                ]
                            },
                            "data": []
                        },
                        "text/html": [
                            "<table>",
                            "<tr><th>run_date</th><th>elapsed_time</th><th>session_id</th><th>database_name</th><th>query_text</th><th>query_plan</th><th>live_query_plan</th><th>query_cost</th><th>status</th><th>wait_info</th><th>top_session_waits</th><th>blocking_session_id</th><th>open_transaction_count</th><th>is_implicit_transaction</th><th>nt_domain</th><th>host_name</th><th>login_name</th><th>nt_user_name</th><th>program_name</th></tr>",
                            "</table>"
                        ]
                    }
                }
            ],
            "execution_count": 2
        }
    ]
}